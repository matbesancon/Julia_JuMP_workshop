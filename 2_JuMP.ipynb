{
 "cells": [
  {
   "cell_type": "markdown",
   "metadata": {
    "slideshow": {
     "slide_type": "slide"
    }
   },
   "source": [
    "# Julia for the working scientist & engineer\n",
    "## Part II: constrained optimization with JuMP\n",
    "-----------\n",
    "\n",
    "\n",
    "Mathieu Besançon  \n",
    "POEMA network\n",
    "\n",
    "<img src=\"https://julialang.org/assets/infra/logo.svg\" alt=\"logo\" width=\"200\"/>\n",
    "\n",
    "Run the notebooks (local or online): https://github.com/matbesancon/Julia_JuMP_workshop"
   ]
  },
  {
   "cell_type": "markdown",
   "metadata": {
    "slideshow": {
     "slide_type": "slide"
    }
   },
   "source": [
    "# Outline\n",
    "\n",
    "- Algebraic Modelling Languages & libraries for optimization\n",
    "- Advanced Julia: broadcast and macros\n",
    "- What is JuMP?\n",
    "- Core concepts\n",
    "- Getting started with examples"
   ]
  },
  {
   "cell_type": "markdown",
   "metadata": {
    "slideshow": {
     "slide_type": "slide"
    }
   },
   "source": [
    "# Modelling optimization problems\n",
    "\n",
    "Ideally:\n",
    "\n",
    "$$\\begin{align}\n",
    "\\min_{x}\\,\\, & f(x)\\\\\n",
    "\\text{s.t.} &  \\\\\n",
    "& A x \\leq b   \\\\\n",
    "& x \\in \\mathcal{X}\n",
    "\\end{align}$$"
   ]
  },
  {
   "cell_type": "markdown",
   "metadata": {
    "slideshow": {
     "slide_type": "slide"
    }
   },
   "source": [
    "## Using an Algebraic Modelling Language\n",
    "\n",
    "A form of optimization-focused Domain-Specific Language (DSL).  \n",
    "Close enough to the original syntax:\n",
    "```\n",
    "set rows;\n",
    "set cols;\n",
    "\n",
    "param A{rows, cols};\n",
    "param b{rows};\n",
    "\n",
    "var x {ncols} in Xset;\n",
    "\n",
    "minimize f(x)\n",
    "\n",
    "subject to:\n",
    "    forall {i in rows}\n",
    "        sum {j in cols} A{i,j} * x{j} <= b{i}\n",
    "\n",
    "```"
   ]
  },
  {
   "cell_type": "markdown",
   "metadata": {
    "slideshow": {
     "slide_type": "slide"
    }
   },
   "source": [
    "## From static model to algorithm design\n",
    "\n",
    "- Column / row generation?\n",
    "- Lazy constraints and cuts?\n",
    "- Extending to custom sets?\n",
    "\n",
    "Limits of AMLs $\\Rightarrow$ programming interfaces"
   ]
  },
  {
   "cell_type": "markdown",
   "metadata": {
    "slideshow": {
     "slide_type": "slide"
    }
   },
   "source": [
    "Example from CPLEX tutorials:\n",
    "\n",
    "```\n",
    "# instantiating\n",
    "IloModel model(env);\n",
    "IloNumVarArray vars(env);\n",
    "vars.add(IloNumVar(env, 0.0, 40.0));\n",
    "vars.add(IloNumVar(env));\n",
    "vars.add(IloNumVar(env));\n",
    "model.add(IloMaximize(env, vars[0] + 2 * vars[1] + 3 * vars[2]));\n",
    "model.add( - vars[0] +     vars[1] + vars[2] <= 20);\n",
    "model.add(   vars[0] - 3 * vars[1] + vars[2] <= 30);\n",
    "\n",
    "# solving\n",
    "IloCplex cplex(model);\n",
    "if ( !cplex.solve() ) {\n",
    " env.error() << \"Failed to optimize LP.\" << endl;\n",
    " throw(-1);\n",
    "}\n",
    "\n",
    "# fetching results\n",
    "IloNumArray vals(env);\n",
    "env.out() << \"Solution status = \" << cplex.getStatus() << endl;\n",
    "env.out() << \"Solution value = \" << cplex.getObjValue() << endl;\n",
    "cplex.getValues(vals, vars);\n",
    "env.out() << \"Values = \" << vals << endl;\n",
    "```"
   ]
  },
  {
   "cell_type": "markdown",
   "metadata": {
    "slideshow": {
     "slide_type": "slide"
    }
   },
   "source": [
    "## Modelling with Programming Interfaces\n",
    "\n",
    "- arbitrary algorithms (as long as exposed by solvers)\n",
    "- directly dependent on solver  \n",
    "    $\\rightarrow$ \"did you try with another solver?\"   ¯\\_(ツ)_/¯\n",
    "- distance between model (paper) and implementation  \n",
    "    $\\rightarrow$ more chances for errors  \n",
    "    $\\rightarrow$ more software skills required"
   ]
  },
  {
   "cell_type": "markdown",
   "metadata": {
    "slideshow": {
     "slide_type": "slide"
    }
   },
   "source": [
    "## Embedded Algebraic Modelling Languages (E-AML)\n",
    "\n",
    "**Embed** a modelling language within another programming language.  \n",
    "\n",
    "- Familiar syntax from your favourite programming language;\n",
    "- Optimization-specififc syntax;\n",
    "- Used as a library for algorithm design;\n",
    "- Best of both world?"
   ]
  },
  {
   "cell_type": "markdown",
   "metadata": {
    "slideshow": {
     "slide_type": "slide"
    }
   },
   "source": [
    "# JuMP, an E-AML in Julia\n",
    "\n",
    "<img src=\"https://jump.dev/assets/jump-logo-with-text.svg\" alt=\"logo\" width=\"100\"/>\n",
    "\n",
    "- Almost as old as Julia itself (appendix of J. Bezanson's thesis)\n",
    "- An organization supported by NumFocus (pandas, scipy, jupyter, stan, Julia itself)\n",
    "\n",
    "Aim: unified modelling interface for **structured**, constrained optimization"
   ]
  },
  {
   "cell_type": "markdown",
   "metadata": {
    "slideshow": {
     "slide_type": "slide"
    }
   },
   "source": [
    "# Two Julia notions on the side\n",
    "\n",
    "## Macros\n",
    "\n",
    "Macros are functions that take **source code** in input.\n",
    "`f(x)` $\\rightarrow$ function, `@f(x)` $\\rightarrow$ macro.  \n",
    "\n",
    "Normal code execution:  \n",
    "`f(g(x))` evaluates `g(x)`, passed to `f`.\n",
    "\n",
    "In a macro:\n",
    "`@f(g(x))`: the `@f` macro takes the **code** `\"g(x)\"`, and can manipulate it."
   ]
  },
  {
   "cell_type": "code",
   "execution_count": 1,
   "metadata": {},
   "outputs": [
    {
     "name": "stdout",
     "output_type": "stream",
     "text": [
      "1 + 3 + rand() = 4.247647748607024\n"
     ]
    }
   ],
   "source": [
    "@show(1 + 3 + rand());"
   ]
  },
  {
   "cell_type": "markdown",
   "metadata": {
    "slideshow": {
     "slide_type": "slide"
    }
   },
   "source": [
    "## Broadcasting\n",
    "\n",
    "Notion of \"element-wise\" operation."
   ]
  },
  {
   "cell_type": "code",
   "execution_count": 2,
   "metadata": {},
   "outputs": [
    {
     "name": "stdout",
     "output_type": "stream",
     "text": [
      "A ^ 2 = [1 0; 0 1]\n",
      "A .^ 2 = [0 1; 1 0]\n"
     ]
    }
   ],
   "source": [
    "A = [\n",
    "    0 1\n",
    "    1 0\n",
    "]\n",
    "@show A^2;  # A * A\n",
    "@show A.^2; # A_ij^2 ∀ ij"
   ]
  },
  {
   "cell_type": "code",
   "execution_count": 3,
   "metadata": {
    "slideshow": {
     "slide_type": "slide"
    }
   },
   "outputs": [],
   "source": [
    "using JuMP\n",
    "import Clp\n",
    "import Cbc"
   ]
  },
  {
   "cell_type": "code",
   "execution_count": 4,
   "metadata": {
    "slideshow": {
     "slide_type": "slide"
    }
   },
   "outputs": [],
   "source": [
    "m = Model()\n",
    "\n",
    "# scalars\n",
    "@variable(m, x)\n",
    "@variable(m, 1 <= y <= π)\n",
    "\n",
    "@variable(m, z[i=1:5,j=1:10], Bin)\n",
    "\n",
    "@variable(m, 2.5 <= Δ[i=1:5,j=i:2i, k=2:5] <= 3.5 + i)\n",
    "\n",
    "# fancier indexing\n",
    "product_type = [\"flour\", \"eggs\", \"milk\"]\n",
    "@variable(m, grocery_list[p = product_type] >= 0, Int);"
   ]
  },
  {
   "cell_type": "code",
   "execution_count": 5,
   "metadata": {
    "slideshow": {
     "slide_type": "slide"
    }
   },
   "outputs": [],
   "source": [
    "@variable(m, number_pancakes >= 0, Int)\n",
    "\n",
    "@constraint(m, x <= 3 * y)\n",
    "\n",
    "@constraint(m, recipe_constraint_egg,\n",
    "    number_pancakes <= 3 * grocery_list[\"eggs\"]\n",
    ")\n",
    "\n",
    "@constraint(m, recipe_constraint_flour,\n",
    "    number_pancakes <= 0.5 * grocery_list[\"flour\"]\n",
    ")\n",
    "@constraint(m, recipe_constraint_milk,\n",
    "    number_pancakes <= 0.2 * grocery_list[\"milk\"]\n",
    ");"
   ]
  },
  {
   "cell_type": "code",
   "execution_count": 6,
   "metadata": {
    "slideshow": {
     "slide_type": "slide"
    }
   },
   "outputs": [
    {
     "name": "stdout",
     "output_type": "stream",
     "text": [
      "Feasibility\n",
      "Subject to\n",
      " x - 3 y ≤ 0.0\n",
      " recipe_constraint_egg : number_pancakes - 3 grocery_list[eggs] ≤ 0.0\n",
      " recipe_constraint_flour : number_pancakes - 0.5 grocery_list[flour] ≤ 0.0\n",
      " recipe_constraint_milk : number_pancakes - 0.2 grocery_list[milk] ≤ 0.0\n",
      " y ≥ 1.0\n",
      " Δ[1,1,2] ≥ 2.5\n",
      " Δ[1,1,3] ≥ 2.5\n",
      " Δ[1,1,4] ≥ 2.5\n",
      " Δ[1,1,5] ≥ 2.5\n",
      " Δ[1,2,2] ≥ 2.5\n",
      " Δ[1,2,3] ≥ 2.5\n",
      " Δ[1,2,4] ≥ 2.5\n",
      " Δ[1,2,5] ≥ 2.5\n",
      " Δ[2,2,2] ≥ 2.5\n",
      " Δ[2,2,3] ≥ 2.5\n",
      " Δ[2,2,4] ≥ 2.5\n",
      " Δ[2,2,5] ≥ 2.5\n",
      " Δ[2,3,2] ≥ 2.5\n",
      " Δ[2,3,3] ≥ 2.5\n",
      " Δ[2,3,4] ≥ 2.5\n",
      " Δ[2,3,5] ≥ 2.5\n",
      " Δ[2,4,2] ≥ 2.5\n",
      " Δ[2,4,3] ≥ 2.5\n",
      " Δ[2,4,4] ≥ 2.5\n",
      " Δ[2,4,5] ≥ 2.5\n",
      " Δ[3,3,2] ≥ 2.5\n",
      " Δ[3,3,3] ≥ 2.5\n",
      " Δ[3,3,4] ≥ 2.5\n",
      " Δ[3,3,5] ≥ 2.5\n",
      " Δ[3,4,2] ≥ 2.5\n",
      " Δ[3,4,3] ≥ 2.5\n",
      " Δ[3,4,4] ≥ 2.5\n",
      " Δ[3,4,5] ≥ 2.5\n",
      " Δ[3,5,2] ≥ 2.5\n",
      " Δ[3,5,3] ≥ 2.5\n",
      " Δ[3,5,4] ≥ 2.5\n",
      " Δ[3,5,5] ≥ 2.5\n",
      " Δ[3,6,2] ≥ 2.5\n",
      " Δ[3,6,3] ≥ 2.5\n",
      " Δ[3,6,4] ≥ 2.5\n",
      " Δ[3,6,5] ≥ 2.5\n",
      " Δ[4,4,2] ≥ 2.5\n",
      " Δ[4,4,3] ≥ 2.5\n",
      " Δ[4,4,4] ≥ 2.5\n",
      " Δ[4,4,5] ≥ 2.5\n",
      " Δ[4,5,2] ≥ 2.5\n",
      " Δ[4,5,3] ≥ 2.5\n",
      " Δ[4,5,4] ≥ 2.5\n",
      " Δ[4,5,5] ≥ 2.5\n",
      " Δ[4,6,2] ≥ 2.5\n",
      " Δ[4,6,3] ≥ 2.5\n",
      " Δ[4,6,4] ≥ 2.5\n",
      " Δ[4,6,5] ≥ 2.5\n",
      " Δ[4,7,2] ≥ 2.5\n",
      " Δ[4,7,3] ≥ 2.5\n",
      " Δ[4,7,4] ≥ 2.5\n",
      " Δ[4,7,5] ≥ 2.5\n",
      " Δ[4,8,2] ≥ 2.5\n",
      " Δ[4,8,3] ≥ 2.5\n",
      " Δ[4,8,4] ≥ 2.5\n",
      " Δ[4,8,5] ≥ 2.5\n",
      " Δ[5,5,2] ≥ 2.5\n",
      " Δ[5,5,3] ≥ 2.5\n",
      " Δ[5,5,4] ≥ 2.5\n",
      " Δ[5,5,5] ≥ 2.5\n",
      " Δ[5,6,2] ≥ 2.5\n",
      " Δ[5,6,3] ≥ 2.5\n",
      " Δ[5,6,4] ≥ 2.5\n",
      " Δ[5,6,5] ≥ 2.5\n",
      " Δ[5,7,2] ≥ 2.5\n",
      " Δ[5,7,3] ≥ 2.5\n",
      " Δ[5,7,4] ≥ 2.5\n",
      " Δ[5,7,5] ≥ 2.5\n",
      " Δ[5,8,2] ≥ 2.5\n",
      " Δ[5,8,3] ≥ 2.5\n",
      " Δ[5,8,4] ≥ 2.5\n",
      " Δ[5,8,5] ≥ 2.5\n",
      " Δ[5,9,2] ≥ 2.5\n",
      " Δ[5,9,3] ≥ 2.5\n",
      " Δ[5,9,4] ≥ 2.5\n",
      " Δ[5,9,5] ≥ 2.5\n",
      " Δ[5,10,2] ≥ 2.5\n",
      " Δ[5,10,3] ≥ 2.5\n",
      " Δ[5,10,4] ≥ 2.5\n",
      " Δ[5,10,5] ≥ 2.5\n",
      " grocery_list[flour] ≥ 0.0\n",
      " grocery_list[eggs] ≥ 0.0\n",
      " grocery_list[milk] ≥ 0.0\n",
      " number_pancakes ≥ 0.0\n",
      " y ≤ 3.141592653589793\n",
      " Δ[1,1,2] ≤ 4.5\n",
      " Δ[1,1,3] ≤ 4.5\n",
      " Δ[1,1,4] ≤ 4.5\n",
      " Δ[1,1,5] ≤ 4.5\n",
      " Δ[1,2,2] ≤ 4.5\n",
      " Δ[1,2,3] ≤ 4.5\n",
      " Δ[1,2,4] ≤ 4.5\n",
      " Δ[1,2,5] ≤ 4.5\n",
      " Δ[2,2,2] ≤ 5.5\n",
      " Δ[2,2,3] ≤ 5.5\n",
      " Δ[2,2,4] ≤ 5.5\n",
      " Δ[2,2,5] ≤ 5.5\n",
      " Δ[2,3,2] ≤ 5.5\n",
      " Δ[2,3,3] ≤ 5.5\n",
      " Δ[2,3,4] ≤ 5.5\n",
      " Δ[2,3,5] ≤ 5.5\n",
      " Δ[2,4,2] ≤ 5.5\n",
      " Δ[2,4,3] ≤ 5.5\n",
      " Δ[2,4,4] ≤ 5.5\n",
      " Δ[2,4,5] ≤ 5.5\n",
      " Δ[3,3,2] ≤ 6.5\n",
      " Δ[3,3,3] ≤ 6.5\n",
      " Δ[3,3,4] ≤ 6.5\n",
      " Δ[3,3,5] ≤ 6.5\n",
      " Δ[3,4,2] ≤ 6.5\n",
      " Δ[3,4,3] ≤ 6.5\n",
      " Δ[3,4,4] ≤ 6.5\n",
      " Δ[3,4,5] ≤ 6.5\n",
      " Δ[3,5,2] ≤ 6.5\n",
      " Δ[3,5,3] ≤ 6.5\n",
      " Δ[3,5,4] ≤ 6.5\n",
      " Δ[3,5,5] ≤ 6.5\n",
      " Δ[3,6,2] ≤ 6.5\n",
      " Δ[3,6,3] ≤ 6.5\n",
      " Δ[3,6,4] ≤ 6.5\n",
      " Δ[3,6,5] ≤ 6.5\n",
      " Δ[4,4,2] ≤ 7.5\n",
      " Δ[4,4,3] ≤ 7.5\n",
      " Δ[4,4,4] ≤ 7.5\n",
      " Δ[4,4,5] ≤ 7.5\n",
      " Δ[4,5,2] ≤ 7.5\n",
      " Δ[4,5,3] ≤ 7.5\n",
      " Δ[4,5,4] ≤ 7.5\n",
      " Δ[4,5,5] ≤ 7.5\n",
      " Δ[4,6,2] ≤ 7.5\n",
      " Δ[4,6,3] ≤ 7.5\n",
      " Δ[4,6,4] ≤ 7.5\n",
      " Δ[4,6,5] ≤ 7.5\n",
      " Δ[4,7,2] ≤ 7.5\n",
      " Δ[4,7,3] ≤ 7.5\n",
      " Δ[4,7,4] ≤ 7.5\n",
      " Δ[4,7,5] ≤ 7.5\n",
      " Δ[4,8,2] ≤ 7.5\n",
      " Δ[4,8,3] ≤ 7.5\n",
      " Δ[4,8,4] ≤ 7.5\n",
      " Δ[4,8,5] ≤ 7.5\n",
      " Δ[5,5,2] ≤ 8.5\n",
      " Δ[5,5,3] ≤ 8.5\n",
      " Δ[5,5,4] ≤ 8.5\n",
      " Δ[5,5,5] ≤ 8.5\n",
      " Δ[5,6,2] ≤ 8.5\n",
      " Δ[5,6,3] ≤ 8.5\n",
      " Δ[5,6,4] ≤ 8.5\n",
      " Δ[5,6,5] ≤ 8.5\n",
      " Δ[5,7,2] ≤ 8.5\n",
      " Δ[5,7,3] ≤ 8.5\n",
      " Δ[5,7,4] ≤ 8.5\n",
      " Δ[5,7,5] ≤ 8.5\n",
      " Δ[5,8,2] ≤ 8.5\n",
      " Δ[5,8,3] ≤ 8.5\n",
      " Δ[5,8,4] ≤ 8.5\n",
      " Δ[5,8,5] ≤ 8.5\n",
      " Δ[5,9,2] ≤ 8.5\n",
      " Δ[5,9,3] ≤ 8.5\n",
      " Δ[5,9,4] ≤ 8.5\n",
      " Δ[5,9,5] ≤ 8.5\n",
      " Δ[5,10,2] ≤ 8.5\n",
      " Δ[5,10,3] ≤ 8.5\n",
      " Δ[5,10,4] ≤ 8.5\n",
      " Δ[5,10,5] ≤ 8.5\n",
      " grocery_list[flour] integer\n",
      " grocery_list[eggs] integer\n",
      " grocery_list[milk] integer\n",
      " number_pancakes integer\n",
      " z[1,1] binary\n",
      " z[2,1] binary\n",
      " z[3,1] binary\n",
      " z[4,1] binary\n",
      " z[5,1] binary\n",
      " z[1,2] binary\n",
      " z[2,2] binary\n",
      " z[3,2] binary\n",
      " z[4,2] binary\n",
      " z[5,2] binary\n",
      " z[1,3] binary\n",
      " z[2,3] binary\n",
      " z[3,3] binary\n",
      " z[4,3] binary\n",
      " z[5,3] binary\n",
      " z[1,4] binary\n",
      " z[2,4] binary\n",
      " z[3,4] binary\n",
      " z[4,4] binary\n",
      " z[5,4] binary\n",
      " z[1,5] binary\n",
      " z[2,5] binary\n",
      " z[3,5] binary\n",
      " z[4,5] binary\n",
      " z[5,5] binary\n",
      " z[1,6] binary\n",
      " z[2,6] binary\n",
      " z[3,6] binary\n",
      " z[4,6] binary\n",
      " z[5,6] binary\n",
      " z[1,7] binary\n",
      " z[2,7] binary\n",
      " z[3,7] binary\n",
      " z[4,7] binary\n",
      " z[5,7] binary\n",
      " z[1,8] binary\n",
      " z[2,8] binary\n",
      " z[3,8] binary\n",
      " z[4,8] binary\n",
      " z[5,8] binary\n",
      " z[1,9] binary\n",
      " z[2,9] binary\n",
      " z[3,9] binary\n",
      " z[4,9] binary\n",
      " z[5,9] binary\n",
      " z[1,10] binary\n",
      " z[2,10] binary\n",
      " z[3,10] binary\n",
      " z[4,10] binary\n",
      " z[5,10] binary\n",
      "\n"
     ]
    }
   ],
   "source": [
    "println(m)"
   ]
  },
  {
   "cell_type": "code",
   "execution_count": 7,
   "metadata": {
    "slideshow": {
     "slide_type": "slide"
    }
   },
   "outputs": [],
   "source": [
    "# alternative syntax\n",
    "product_quantities = Dict(\n",
    "    \"flour\" => 0.5, \"eggs\" => 3, \"milk\" => 0.2,\n",
    ")\n",
    "\n",
    "for (product, quantity) in product_quantities\n",
    "    @constraint(m, number_pancakes <= quantity * grocery_list[product])\n",
    "end"
   ]
  },
  {
   "cell_type": "code",
   "execution_count": 8,
   "metadata": {},
   "outputs": [
    {
     "data": {
      "text/latex": [
       "$$ 0.3 grocery_list_{flour} + grocery_list_{eggs} + 2 grocery_list_{milk} $$"
      ],
      "text/plain": [
       "0.3 grocery_list[flour] + grocery_list[eggs] + 2 grocery_list[milk]"
      ]
     },
     "execution_count": 8,
     "metadata": {},
     "output_type": "execute_result"
    }
   ],
   "source": [
    "product_prices = Dict(\n",
    "    \"flour\" => 0.3, \"eggs\" => 1, \"milk\" => 2,\n",
    ")\n",
    "\n",
    "@objective(m, Min,\n",
    "    sum(price * grocery_list[product] for (product, price) in product_prices)\n",
    ")"
   ]
  },
  {
   "cell_type": "markdown",
   "metadata": {
    "slideshow": {
     "slide_type": "slide"
    }
   },
   "source": [
    "## Setting an optimizer and solving"
   ]
  },
  {
   "cell_type": "code",
   "execution_count": 9,
   "metadata": {},
   "outputs": [
    {
     "ename": "NoOptimizer",
     "evalue": "NoOptimizer()",
     "output_type": "error",
     "traceback": [
      "NoOptimizer()",
      "",
      "Stacktrace:",
      " [1] optimize!(::Model, ::Nothing; bridge_constraints::Bool, ignore_optimize_hook::Bool, kwargs::Base.Iterators.Pairs{Union{},Union{},Tuple{},NamedTuple{(),Tuple{}}}) at /home/mbesancon/.julia/packages/JuMP/MnJQc/src/optimizer_interface.jl:127",
      " [2] optimize! at /home/mbesancon/.julia/packages/JuMP/MnJQc/src/optimizer_interface.jl:107 [inlined] (repeats 2 times)",
      " [3] top-level scope at In[9]:1"
     ]
    }
   ],
   "source": [
    "optimize!(m)"
   ]
  },
  {
   "cell_type": "code",
   "execution_count": 10,
   "metadata": {},
   "outputs": [
    {
     "ename": "MathOptInterface.UnsupportedConstraint{MathOptInterface.SingleVariable,MathOptInterface.ZeroOne}",
     "evalue": "MathOptInterface.UnsupportedConstraint{MathOptInterface.SingleVariable,MathOptInterface.ZeroOne}: `MathOptInterface.SingleVariable`-in-`MathOptInterface.ZeroOne` constraint is not supported by the model.",
     "output_type": "error",
     "traceback": [
      "MathOptInterface.UnsupportedConstraint{MathOptInterface.SingleVariable,MathOptInterface.ZeroOne}: `MathOptInterface.SingleVariable`-in-`MathOptInterface.ZeroOne` constraint is not supported by the model.",
      "",
      "Stacktrace:",
      " [1] bridge_type(::MathOptInterface.Bridges.LazyBridgeOptimizer{MathOptInterface.Utilities.CachingOptimizer{Clp.Optimizer,MathOptInterface.Utilities.UniversalFallback{MathOptInterface.Utilities.Model{Float64}}}}, ::Type{MathOptInterface.ZeroOne}) at /home/mbesancon/.julia/packages/MathOptInterface/bygN7/src/Bridges/lazy_bridge_optimizer.jl:323",
      " [2] concrete_bridge_type at /home/mbesancon/.julia/packages/MathOptInterface/bygN7/src/Bridges/Variable/bridge.jl:183 [inlined]",
      " [3] add_constrained_variable(::MathOptInterface.Bridges.LazyBridgeOptimizer{MathOptInterface.Utilities.CachingOptimizer{Clp.Optimizer,MathOptInterface.Utilities.UniversalFallback{MathOptInterface.Utilities.Model{Float64}}}}, ::MathOptInterface.ZeroOne) at /home/mbesancon/.julia/packages/MathOptInterface/bygN7/src/Bridges/bridge_optimizer.jl:1177",
      " [4] copy_single_variable(::MathOptInterface.Bridges.LazyBridgeOptimizer{MathOptInterface.Utilities.CachingOptimizer{Clp.Optimizer,MathOptInterface.Utilities.UniversalFallback{MathOptInterface.Utilities.Model{Float64}}}}, ::MathOptInterface.Utilities.UniversalFallback{MathOptInterface.Utilities.Model{Float64}}, ::MathOptInterface.Utilities.IndexMap, ::Type{MathOptInterface.ZeroOne}) at /home/mbesancon/.julia/packages/MathOptInterface/bygN7/src/Utilities/copy.jl:203",
      " [5] (::MathOptInterface.Utilities.var\"#131#139\"{MathOptInterface.Bridges.LazyBridgeOptimizer{MathOptInterface.Utilities.CachingOptimizer{Clp.Optimizer,MathOptInterface.Utilities.UniversalFallback{MathOptInterface.Utilities.Model{Float64}}}},MathOptInterface.Utilities.UniversalFallback{MathOptInterface.Utilities.Model{Float64}},MathOptInterface.Utilities.IndexMap})(::Type{T} where T) at ./none:0",
      " [6] iterate at ./generator.jl:47 [inlined]",
      " [7] collect_to!(::Array{Array{T,1} where T,1}, ::Base.Generator{Array{DataType,1},MathOptInterface.Utilities.var\"#131#139\"{MathOptInterface.Bridges.LazyBridgeOptimizer{MathOptInterface.Utilities.CachingOptimizer{Clp.Optimizer,MathOptInterface.Utilities.UniversalFallback{MathOptInterface.Utilities.Model{Float64}}}},MathOptInterface.Utilities.UniversalFallback{MathOptInterface.Utilities.Model{Float64}},MathOptInterface.Utilities.IndexMap}}, ::Int64, ::Int64) at ./array.jl:710",
      " [8] collect_to!(::Array{Array{MathOptInterface.ConstraintIndex{MathOptInterface.SingleVariable,MathOptInterface.GreaterThan{Float64}},1},1}, ::Base.Generator{Array{DataType,1},MathOptInterface.Utilities.var\"#131#139\"{MathOptInterface.Bridges.LazyBridgeOptimizer{MathOptInterface.Utilities.CachingOptimizer{Clp.Optimizer,MathOptInterface.Utilities.UniversalFallback{MathOptInterface.Utilities.Model{Float64}}}},MathOptInterface.Utilities.UniversalFallback{MathOptInterface.Utilities.Model{Float64}},MathOptInterface.Utilities.IndexMap}}, ::Int64, ::Int64) at ./array.jl:718",
      " [9] collect_to_with_first!(::Array{Array{MathOptInterface.ConstraintIndex{MathOptInterface.SingleVariable,MathOptInterface.GreaterThan{Float64}},1},1}, ::Array{MathOptInterface.ConstraintIndex{MathOptInterface.SingleVariable,MathOptInterface.GreaterThan{Float64}},1}, ::Base.Generator{Array{DataType,1},MathOptInterface.Utilities.var\"#131#139\"{MathOptInterface.Bridges.LazyBridgeOptimizer{MathOptInterface.Utilities.CachingOptimizer{Clp.Optimizer,MathOptInterface.Utilities.UniversalFallback{MathOptInterface.Utilities.Model{Float64}}}},MathOptInterface.Utilities.UniversalFallback{MathOptInterface.Utilities.Model{Float64}},MathOptInterface.Utilities.IndexMap}}, ::Int64) at ./array.jl:689",
      " [10] collect(::Base.Generator{Array{DataType,1},MathOptInterface.Utilities.var\"#131#139\"{MathOptInterface.Bridges.LazyBridgeOptimizer{MathOptInterface.Utilities.CachingOptimizer{Clp.Optimizer,MathOptInterface.Utilities.UniversalFallback{MathOptInterface.Utilities.Model{Float64}}}},MathOptInterface.Utilities.UniversalFallback{MathOptInterface.Utilities.Model{Float64}},MathOptInterface.Utilities.IndexMap}}) at ./array.jl:670",
      " [11] default_copy_to(::MathOptInterface.Bridges.LazyBridgeOptimizer{MathOptInterface.Utilities.CachingOptimizer{Clp.Optimizer,MathOptInterface.Utilities.UniversalFallback{MathOptInterface.Utilities.Model{Float64}}}}, ::MathOptInterface.Utilities.UniversalFallback{MathOptInterface.Utilities.Model{Float64}}, ::Bool) at /home/mbesancon/.julia/packages/MathOptInterface/bygN7/src/Utilities/copy.jl:325",
      " [12] #automatic_copy_to#113 at /home/mbesancon/.julia/packages/MathOptInterface/bygN7/src/Utilities/copy.jl:15 [inlined]",
      " [13] #copy_to#3 at /home/mbesancon/.julia/packages/MathOptInterface/bygN7/src/Bridges/bridge_optimizer.jl:268 [inlined]",
      " [14] attach_optimizer(::MathOptInterface.Utilities.CachingOptimizer{MathOptInterface.AbstractOptimizer,MathOptInterface.Utilities.UniversalFallback{MathOptInterface.Utilities.Model{Float64}}}) at /home/mbesancon/.julia/packages/MathOptInterface/bygN7/src/Utilities/cachingoptimizer.jl:149",
      " [15] optimize!(::MathOptInterface.Utilities.CachingOptimizer{MathOptInterface.AbstractOptimizer,MathOptInterface.Utilities.UniversalFallback{MathOptInterface.Utilities.Model{Float64}}}) at /home/mbesancon/.julia/packages/MathOptInterface/bygN7/src/Utilities/cachingoptimizer.jl:185",
      " [16] optimize!(::Model, ::Nothing; bridge_constraints::Bool, ignore_optimize_hook::Bool, kwargs::Base.Iterators.Pairs{Union{},Union{},Tuple{},NamedTuple{(),Tuple{}}}) at /home/mbesancon/.julia/packages/JuMP/MnJQc/src/optimizer_interface.jl:131",
      " [17] optimize! at /home/mbesancon/.julia/packages/JuMP/MnJQc/src/optimizer_interface.jl:107 [inlined] (repeats 2 times)",
      " [18] top-level scope at In[10]:2"
     ]
    }
   ],
   "source": [
    "set_optimizer(m, Clp.Optimizer)\n",
    "optimize!(m)"
   ]
  },
  {
   "cell_type": "code",
   "execution_count": 11,
   "metadata": {
    "slideshow": {
     "slide_type": "subslide"
    }
   },
   "outputs": [
    {
     "name": "stdout",
     "output_type": "stream",
     "text": [
      "Welcome to the CBC MILP Solver \n",
      "Version: 2.10.3 \n",
      "Build Date: Jan  1 1970 \n",
      "\n",
      "command line - Cbc_C_Interface -solve -quit (default strategy 1)\n",
      "Continuous objective value is 0 - 0.00 seconds\n",
      "Cgl0004I processed model has 0 rows, 0 columns (0 integer (0 of which binary)) and 0 elements\n",
      "Cbc3007W No integer variables - nothing to do\n",
      "Cuts at root node changed objective from 0 to -1.79769e+308\n",
      "Probing was tried 0 times and created 0 cuts of which 0 were active after adding rounds of cuts (0.000 seconds)\n",
      "Gomory was tried 0 times and created 0 cuts of which 0 were active after adding rounds of cuts (0.000 seconds)\n",
      "Knapsack was tried 0 times and created 0 cuts of which 0 were active after adding rounds of cuts (0.000 seconds)\n",
      "Clique was tried 0 times and created 0 cuts of which 0 were active after adding rounds of cuts (0.000 seconds)\n",
      "MixedIntegerRounding2 was tried 0 times and created 0 cuts of which 0 were active after adding rounds of cuts (0.000 seconds)\n",
      "FlowCover was tried 0 times and created 0 cuts of which 0 were active after adding rounds of cuts (0.000 seconds)\n",
      "TwoMirCuts was tried 0 times and created 0 cuts of which 0 were active after adding rounds of cuts (0.000 seconds)\n",
      "ZeroHalf was tried 0 times and created 0 cuts of which 0 were active after adding rounds of cuts (0.000 seconds)\n",
      "\n",
      "Result - Optimal solution found\n",
      "\n",
      "Objective value:                0.00000000\n",
      "Enumerated nodes:               0\n",
      "Total iterations:               1\n",
      "Time (CPU seconds):             0.00\n",
      "Time (Wallclock seconds):       0.01\n",
      "\n",
      "Total time (CPU seconds):       0.00   (Wallclock seconds):       0.02\n",
      "\n"
     ]
    }
   ],
   "source": [
    "# 3rd attempt, appropriate solver\n",
    "set_optimizer(m, Cbc.Optimizer)\n",
    "optimize!(m)"
   ]
  },
  {
   "cell_type": "code",
   "execution_count": 12,
   "metadata": {
    "slideshow": {
     "slide_type": "subslide"
    }
   },
   "outputs": [],
   "source": [
    "# reduce verbosity\n",
    "MOI.set(m, MOI.Silent(), true)\n",
    "optimize!(m)"
   ]
  },
  {
   "cell_type": "markdown",
   "metadata": {
    "slideshow": {
     "slide_type": "slide"
    }
   },
   "source": [
    "## Getting results"
   ]
  },
  {
   "cell_type": "code",
   "execution_count": 13,
   "metadata": {},
   "outputs": [
    {
     "name": "stdout",
     "output_type": "stream",
     "text": [
      "termination_status(m) = MathOptInterface.OPTIMAL\n",
      "primal_status(m) = MathOptInterface.FEASIBLE_POINT\n",
      "dual_status(m) = MathOptInterface.NO_SOLUTION\n"
     ]
    }
   ],
   "source": [
    "# did we solve it optimally\n",
    "@show termination_status(m)\n",
    "@show primal_status(m)\n",
    "@show dual_status(m);"
   ]
  },
  {
   "cell_type": "code",
   "execution_count": 14,
   "metadata": {},
   "outputs": [
    {
     "data": {
      "text/plain": [
       "0.0"
      ]
     },
     "execution_count": 14,
     "metadata": {},
     "output_type": "execute_result"
    }
   ],
   "source": [
    "# single value\n",
    "JuMP.value(x)"
   ]
  },
  {
   "cell_type": "code",
   "execution_count": 15,
   "metadata": {},
   "outputs": [
    {
     "data": {
      "text/plain": [
       "0.0"
      ]
     },
     "execution_count": 15,
     "metadata": {},
     "output_type": "execute_result"
    }
   ],
   "source": [
    "# objective value\n",
    "JuMP.objective_value(m)"
   ]
  },
  {
   "cell_type": "code",
   "execution_count": 16,
   "metadata": {},
   "outputs": [
    {
     "data": {
      "text/plain": [
       "5×10 Array{Float64,2}:\n",
       " -0.0  -0.0  -0.0  -0.0  -0.0  -0.0  -0.0  -0.0  -0.0  -0.0\n",
       " -0.0  -0.0  -0.0  -0.0  -0.0  -0.0  -0.0  -0.0  -0.0  -0.0\n",
       " -0.0  -0.0  -0.0  -0.0  -0.0  -0.0  -0.0  -0.0  -0.0  -0.0\n",
       " -0.0  -0.0  -0.0  -0.0  -0.0  -0.0  -0.0  -0.0  -0.0  -0.0\n",
       " -0.0  -0.0  -0.0  -0.0  -0.0  -0.0  -0.0  -0.0  -0.0  -0.0"
      ]
     },
     "execution_count": 16,
     "metadata": {},
     "output_type": "execute_result"
    }
   ],
   "source": [
    "# . before () for element-wise call\n",
    "JuMP.value.(z)"
   ]
  },
  {
   "cell_type": "markdown",
   "metadata": {
    "slideshow": {
     "slide_type": "slide"
    }
   },
   "source": [
    "## Value of arbitrary expression"
   ]
  },
  {
   "cell_type": "code",
   "execution_count": 17,
   "metadata": {},
   "outputs": [
    {
     "data": {
      "text/latex": [
       "$$ x - z_{1,1} - z_{2,1} - z_{3,1} - z_{4,1} - z_{5,1} - z_{1,2} - z_{2,2} - z_{3,2} - z_{4,2} - z_{5,2} - z_{1,3} - z_{2,3} - z_{3,3} - z_{4,3} - z_{5,3} - z_{1,4} - z_{2,4} - z_{3,4} - z_{4,4} - z_{5,4} - z_{1,5} - z_{2,5} - z_{3,5} - z_{4,5} - z_{5,5} - z_{1,6} - z_{2,6} - z_{3,6} - z_{4,6} - z_{5,6} - z_{1,7} - z_{2,7} - z_{3,7} - z_{4,7} - z_{5,7} - z_{1,8} - z_{2,8} - z_{3,8} - z_{4,8} - z_{5,8} - z_{1,9} - z_{2,9} - z_{3,9} - z_{4,9} - z_{5,9} - z_{1,10} - z_{2,10} - z_{3,10} - z_{4,10} - z_{5,10} $$"
      ],
      "text/plain": [
       "x - z[1,1] - z[2,1] - z[3,1] - z[4,1] - z[5,1] - z[1,2] - z[2,2] - z[3,2] - z[4,2] - z[5,2] - z[1,3] - z[2,3] - z[3,3] - z[4,3] - z[5,3] - z[1,4] - z[2,4] - z[3,4] - z[4,4] - z[5,4] - z[1,5] - z[2,5] - z[3,5] - z[4,5] - z[5,5] - z[1,6] - z[2,6] - z[3,6] - z[4,6] - z[5,6] - z[1,7] - z[2,7] - z[3,7] - z[4,7] - z[5,7] - z[1,8] - z[2,8] - z[3,8] - z[4,8] - z[5,8] - z[1,9] - z[2,9] - z[3,9] - z[4,9] - z[5,9] - z[1,10] - z[2,10] - z[3,10] - z[4,10] - z[5,10]"
      ]
     },
     "execution_count": 17,
     "metadata": {},
     "output_type": "execute_result"
    }
   ],
   "source": [
    "x - sum(z)"
   ]
  },
  {
   "cell_type": "code",
   "execution_count": 18,
   "metadata": {},
   "outputs": [
    {
     "data": {
      "text/plain": [
       "0.0"
      ]
     },
     "execution_count": 18,
     "metadata": {},
     "output_type": "execute_result"
    }
   ],
   "source": [
    "JuMP.value(x - sum(z))"
   ]
  },
  {
   "cell_type": "code",
   "execution_count": 19,
   "metadata": {},
   "outputs": [
    {
     "data": {
      "text/plain": [
       "false"
      ]
     },
     "execution_count": 19,
     "metadata": {},
     "output_type": "execute_result"
    }
   ],
   "source": [
    "JuMP.has_duals(m)"
   ]
  },
  {
   "cell_type": "markdown",
   "metadata": {
    "slideshow": {
     "slide_type": "slide"
    }
   },
   "source": [
    "# Advanced examples"
   ]
  },
  {
   "cell_type": "markdown",
   "metadata": {
    "slideshow": {
     "slide_type": "slide"
    }
   },
   "source": [
    "## Regularized linear regression\n",
    "\n",
    "$a x_i + b = y_i + \\varepsilon_i$"
   ]
  },
  {
   "cell_type": "code",
   "execution_count": 20,
   "metadata": {},
   "outputs": [
    {
     "data": {
      "image/svg+xml": [
       "<?xml version=\"1.0\" encoding=\"utf-8\"?>\n",
       "<svg xmlns=\"http://www.w3.org/2000/svg\" xmlns:xlink=\"http://www.w3.org/1999/xlink\" width=\"600\" height=\"400\" viewBox=\"0 0 2400 1600\">\n",
       "<defs>\n",
       "  <clipPath id=\"clip990\">\n",
       "    <rect x=\"0\" y=\"0\" width=\"2400\" height=\"1600\"/>\n",
       "  </clipPath>\n",
       "</defs>\n",
       "<path clip-path=\"url(#clip990)\" d=\"\n",
       "M0 1600 L2400 1600 L2400 0 L0 0  Z\n",
       "  \" fill=\"#ffffff\" fill-rule=\"evenodd\" fill-opacity=\"1\"/>\n",
       "<defs>\n",
       "  <clipPath id=\"clip991\">\n",
       "    <rect x=\"480\" y=\"0\" width=\"1681\" height=\"1600\"/>\n",
       "  </clipPath>\n",
       "</defs>\n",
       "<path clip-path=\"url(#clip990)\" d=\"\n",
       "M126.969 1486.45 L2352.76 1486.45 L2352.76 47.2441 L126.969 47.2441  Z\n",
       "  \" fill=\"#ffffff\" fill-rule=\"evenodd\" fill-opacity=\"1\"/>\n",
       "<defs>\n",
       "  <clipPath id=\"clip992\">\n",
       "    <rect x=\"126\" y=\"47\" width=\"2227\" height=\"1440\"/>\n",
       "  </clipPath>\n",
       "</defs>\n",
       "<polyline clip-path=\"url(#clip992)\" style=\"stroke:#000000; stroke-width:2; stroke-opacity:0.1; fill:none\" points=\"\n",
       "  348.882,1486.45 348.882,47.2441 \n",
       "  \"/>\n",
       "<polyline clip-path=\"url(#clip992)\" style=\"stroke:#000000; stroke-width:2; stroke-opacity:0.1; fill:none\" points=\"\n",
       "  816.732,1486.45 816.732,47.2441 \n",
       "  \"/>\n",
       "<polyline clip-path=\"url(#clip992)\" style=\"stroke:#000000; stroke-width:2; stroke-opacity:0.1; fill:none\" points=\"\n",
       "  1284.58,1486.45 1284.58,47.2441 \n",
       "  \"/>\n",
       "<polyline clip-path=\"url(#clip992)\" style=\"stroke:#000000; stroke-width:2; stroke-opacity:0.1; fill:none\" points=\"\n",
       "  1752.43,1486.45 1752.43,47.2441 \n",
       "  \"/>\n",
       "<polyline clip-path=\"url(#clip992)\" style=\"stroke:#000000; stroke-width:2; stroke-opacity:0.1; fill:none\" points=\"\n",
       "  2220.28,1486.45 2220.28,47.2441 \n",
       "  \"/>\n",
       "<polyline clip-path=\"url(#clip992)\" style=\"stroke:#000000; stroke-width:2; stroke-opacity:0.1; fill:none\" points=\"\n",
       "  126.969,1378.74 2352.76,1378.74 \n",
       "  \"/>\n",
       "<polyline clip-path=\"url(#clip992)\" style=\"stroke:#000000; stroke-width:2; stroke-opacity:0.1; fill:none\" points=\"\n",
       "  126.969,1185.5 2352.76,1185.5 \n",
       "  \"/>\n",
       "<polyline clip-path=\"url(#clip992)\" style=\"stroke:#000000; stroke-width:2; stroke-opacity:0.1; fill:none\" points=\"\n",
       "  126.969,992.268 2352.76,992.268 \n",
       "  \"/>\n",
       "<polyline clip-path=\"url(#clip992)\" style=\"stroke:#000000; stroke-width:2; stroke-opacity:0.1; fill:none\" points=\"\n",
       "  126.969,799.032 2352.76,799.032 \n",
       "  \"/>\n",
       "<polyline clip-path=\"url(#clip992)\" style=\"stroke:#000000; stroke-width:2; stroke-opacity:0.1; fill:none\" points=\"\n",
       "  126.969,605.796 2352.76,605.796 \n",
       "  \"/>\n",
       "<polyline clip-path=\"url(#clip992)\" style=\"stroke:#000000; stroke-width:2; stroke-opacity:0.1; fill:none\" points=\"\n",
       "  126.969,412.56 2352.76,412.56 \n",
       "  \"/>\n",
       "<polyline clip-path=\"url(#clip992)\" style=\"stroke:#000000; stroke-width:2; stroke-opacity:0.1; fill:none\" points=\"\n",
       "  126.969,219.323 2352.76,219.323 \n",
       "  \"/>\n",
       "<polyline clip-path=\"url(#clip990)\" style=\"stroke:#000000; stroke-width:4; stroke-opacity:1; fill:none\" points=\"\n",
       "  126.969,1486.45 2352.76,1486.45 \n",
       "  \"/>\n",
       "<polyline clip-path=\"url(#clip990)\" style=\"stroke:#000000; stroke-width:4; stroke-opacity:1; fill:none\" points=\"\n",
       "  126.969,1486.45 126.969,47.2441 \n",
       "  \"/>\n",
       "<polyline clip-path=\"url(#clip990)\" style=\"stroke:#000000; stroke-width:4; stroke-opacity:1; fill:none\" points=\"\n",
       "  348.882,1486.45 348.882,1469.18 \n",
       "  \"/>\n",
       "<polyline clip-path=\"url(#clip990)\" style=\"stroke:#000000; stroke-width:4; stroke-opacity:1; fill:none\" points=\"\n",
       "  816.732,1486.45 816.732,1469.18 \n",
       "  \"/>\n",
       "<polyline clip-path=\"url(#clip990)\" style=\"stroke:#000000; stroke-width:4; stroke-opacity:1; fill:none\" points=\"\n",
       "  1284.58,1486.45 1284.58,1469.18 \n",
       "  \"/>\n",
       "<polyline clip-path=\"url(#clip990)\" style=\"stroke:#000000; stroke-width:4; stroke-opacity:1; fill:none\" points=\"\n",
       "  1752.43,1486.45 1752.43,1469.18 \n",
       "  \"/>\n",
       "<polyline clip-path=\"url(#clip990)\" style=\"stroke:#000000; stroke-width:4; stroke-opacity:1; fill:none\" points=\"\n",
       "  2220.28,1486.45 2220.28,1469.18 \n",
       "  \"/>\n",
       "<polyline clip-path=\"url(#clip990)\" style=\"stroke:#000000; stroke-width:4; stroke-opacity:1; fill:none\" points=\"\n",
       "  126.969,1378.74 153.678,1378.74 \n",
       "  \"/>\n",
       "<polyline clip-path=\"url(#clip990)\" style=\"stroke:#000000; stroke-width:4; stroke-opacity:1; fill:none\" points=\"\n",
       "  126.969,1185.5 153.678,1185.5 \n",
       "  \"/>\n",
       "<polyline clip-path=\"url(#clip990)\" style=\"stroke:#000000; stroke-width:4; stroke-opacity:1; fill:none\" points=\"\n",
       "  126.969,992.268 153.678,992.268 \n",
       "  \"/>\n",
       "<polyline clip-path=\"url(#clip990)\" style=\"stroke:#000000; stroke-width:4; stroke-opacity:1; fill:none\" points=\"\n",
       "  126.969,799.032 153.678,799.032 \n",
       "  \"/>\n",
       "<polyline clip-path=\"url(#clip990)\" style=\"stroke:#000000; stroke-width:4; stroke-opacity:1; fill:none\" points=\"\n",
       "  126.969,605.796 153.678,605.796 \n",
       "  \"/>\n",
       "<polyline clip-path=\"url(#clip990)\" style=\"stroke:#000000; stroke-width:4; stroke-opacity:1; fill:none\" points=\"\n",
       "  126.969,412.56 153.678,412.56 \n",
       "  \"/>\n",
       "<polyline clip-path=\"url(#clip990)\" style=\"stroke:#000000; stroke-width:4; stroke-opacity:1; fill:none\" points=\"\n",
       "  126.969,219.323 153.678,219.323 \n",
       "  \"/>\n",
       "<path clip-path=\"url(#clip990)\" d=\"M 0 0 M329.935 1525.04 L342.412 1525.04 L342.412 1528.83 L329.935 1528.83 L329.935 1525.04 Z\" fill=\"#000000\" fill-rule=\"evenodd\" fill-opacity=\"1\" /><path clip-path=\"url(#clip990)\" d=\"M 0 0 M351.509 1535.98 L367.828 1535.98 L367.828 1539.92 L345.884 1539.92 L345.884 1535.98 Q348.546 1533.23 353.129 1528.6 Q357.736 1523.95 358.916 1522.61 Q361.162 1520.08 362.041 1518.35 Q362.944 1516.59 362.944 1514.9 Q362.944 1512.14 360.999 1510.41 Q359.078 1508.67 355.976 1508.67 Q353.777 1508.67 351.324 1509.43 Q348.893 1510.2 346.115 1511.75 L346.115 1507.03 Q348.939 1505.89 351.393 1505.31 Q353.847 1504.73 355.884 1504.73 Q361.254 1504.73 364.449 1507.42 Q367.643 1510.11 367.643 1514.6 Q367.643 1516.73 366.833 1518.65 Q366.046 1520.54 363.939 1523.14 Q363.361 1523.81 360.259 1527.03 Q357.157 1530.22 351.509 1535.98 Z\" fill=\"#000000\" fill-rule=\"evenodd\" fill-opacity=\"1\" /><path clip-path=\"url(#clip990)\" d=\"M 0 0 M797.6 1525.04 L810.076 1525.04 L810.076 1528.83 L797.6 1528.83 L797.6 1525.04 Z\" fill=\"#000000\" fill-rule=\"evenodd\" fill-opacity=\"1\" /><path clip-path=\"url(#clip990)\" d=\"M 0 0 M815.956 1535.98 L823.595 1535.98 L823.595 1509.62 L815.285 1511.29 L815.285 1507.03 L823.549 1505.36 L828.225 1505.36 L828.225 1535.98 L835.863 1535.98 L835.863 1539.92 L815.956 1539.92 L815.956 1535.98 Z\" fill=\"#000000\" fill-rule=\"evenodd\" fill-opacity=\"1\" /><path clip-path=\"url(#clip990)\" d=\"M 0 0 M1284.58 1508.44 Q1280.97 1508.44 1279.14 1512 Q1277.34 1515.55 1277.34 1522.67 Q1277.34 1529.78 1279.14 1533.35 Q1280.97 1536.89 1284.58 1536.89 Q1288.22 1536.89 1290.02 1533.35 Q1291.85 1529.78 1291.85 1522.67 Q1291.85 1515.55 1290.02 1512 Q1288.22 1508.44 1284.58 1508.44 M1284.58 1504.73 Q1290.39 1504.73 1293.45 1509.34 Q1296.53 1513.92 1296.53 1522.67 Q1296.53 1531.4 1293.45 1536.01 Q1290.39 1540.59 1284.58 1540.59 Q1278.77 1540.59 1275.69 1536.01 Q1272.64 1531.4 1272.64 1522.67 Q1272.64 1513.92 1275.69 1509.34 Q1278.77 1504.73 1284.58 1504.73 Z\" fill=\"#000000\" fill-rule=\"evenodd\" fill-opacity=\"1\" /><path clip-path=\"url(#clip990)\" d=\"M 0 0 M1742.81 1535.98 L1750.45 1535.98 L1750.45 1509.62 L1742.14 1511.29 L1742.14 1507.03 L1750.41 1505.36 L1755.08 1505.36 L1755.08 1535.98 L1762.72 1535.98 L1762.72 1539.92 L1742.81 1539.92 L1742.81 1535.98 Z\" fill=\"#000000\" fill-rule=\"evenodd\" fill-opacity=\"1\" /><path clip-path=\"url(#clip990)\" d=\"M 0 0 M2214.93 1535.98 L2231.25 1535.98 L2231.25 1539.92 L2209.31 1539.92 L2209.31 1535.98 Q2211.97 1533.23 2216.55 1528.6 Q2221.16 1523.95 2222.34 1522.61 Q2224.59 1520.08 2225.47 1518.35 Q2226.37 1516.59 2226.37 1514.9 Q2226.37 1512.14 2224.43 1510.41 Q2222.5 1508.67 2219.4 1508.67 Q2217.2 1508.67 2214.75 1509.43 Q2212.32 1510.2 2209.54 1511.75 L2209.54 1507.03 Q2212.36 1505.89 2214.82 1505.31 Q2217.27 1504.73 2219.31 1504.73 Q2224.68 1504.73 2227.87 1507.42 Q2231.07 1510.11 2231.07 1514.6 Q2231.07 1516.73 2230.26 1518.65 Q2229.47 1520.54 2227.36 1523.14 Q2226.79 1523.81 2223.68 1527.03 Q2220.58 1530.22 2214.93 1535.98 Z\" fill=\"#000000\" fill-rule=\"evenodd\" fill-opacity=\"1\" /><path clip-path=\"url(#clip990)\" d=\"M 0 0 M62.9921 1381.14 L75.4689 1381.14 L75.4689 1384.93 L62.9921 1384.93 L62.9921 1381.14 Z\" fill=\"#000000\" fill-rule=\"evenodd\" fill-opacity=\"1\" /><path clip-path=\"url(#clip990)\" d=\"M 0 0 M93.3855 1365.53 L81.58 1383.98 L93.3855 1383.98 L93.3855 1365.53 M92.1586 1361.46 L98.0382 1361.46 L98.0382 1383.98 L102.969 1383.98 L102.969 1387.87 L98.0382 1387.87 L98.0382 1396.02 L93.3855 1396.02 L93.3855 1387.87 L77.7837 1387.87 L77.7837 1383.36 L92.1586 1361.46 Z\" fill=\"#000000\" fill-rule=\"evenodd\" fill-opacity=\"1\" /><path clip-path=\"url(#clip990)\" d=\"M 0 0 M65.0754 1187.9 L77.5522 1187.9 L77.5522 1191.7 L65.0754 1191.7 L65.0754 1187.9 Z\" fill=\"#000000\" fill-rule=\"evenodd\" fill-opacity=\"1\" /><path clip-path=\"url(#clip990)\" d=\"M 0 0 M86.6494 1198.85 L102.969 1198.85 L102.969 1202.78 L81.0244 1202.78 L81.0244 1198.85 Q83.6865 1196.09 88.2698 1191.46 Q92.8762 1186.81 94.0568 1185.47 Q96.3021 1182.95 97.1818 1181.21 Q98.0845 1179.45 98.0845 1177.76 Q98.0845 1175.01 96.1401 1173.27 Q94.2188 1171.53 91.117 1171.53 Q88.9179 1171.53 86.4642 1172.3 Q84.0337 1173.06 81.2559 1174.61 L81.2559 1169.89 Q84.08 1168.76 86.5337 1168.18 Q88.9874 1167.6 91.0244 1167.6 Q96.3947 1167.6 99.5892 1170.28 Q102.784 1172.97 102.784 1177.46 Q102.784 1179.59 101.973 1181.51 Q101.186 1183.41 99.0799 1186 Q98.5012 1186.67 95.3994 1189.89 Q92.2975 1193.09 86.6494 1198.85 Z\" fill=\"#000000\" fill-rule=\"evenodd\" fill-opacity=\"1\" /><path clip-path=\"url(#clip990)\" d=\"M 0 0 M91.0244 978.067 Q87.4133 978.067 85.5846 981.631 Q83.7791 985.173 83.7791 992.303 Q83.7791 999.409 85.5846 1002.97 Q87.4133 1006.52 91.0244 1006.52 Q94.6586 1006.52 96.4642 1002.97 Q98.2929 999.409 98.2929 992.303 Q98.2929 985.173 96.4642 981.631 Q94.6586 978.067 91.0244 978.067 M91.0244 974.363 Q96.8345 974.363 99.8901 978.969 Q102.969 983.553 102.969 992.303 Q102.969 1001.03 99.8901 1005.64 Q96.8345 1010.22 91.0244 1010.22 Q85.2142 1010.22 82.1355 1005.64 Q79.08 1001.03 79.08 992.303 Q79.08 983.553 82.1355 978.969 Q85.2142 974.363 91.0244 974.363 Z\" fill=\"#000000\" fill-rule=\"evenodd\" fill-opacity=\"1\" /><path clip-path=\"url(#clip990)\" d=\"M 0 0 M86.6494 812.377 L102.969 812.377 L102.969 816.312 L81.0244 816.312 L81.0244 812.377 Q83.6865 809.622 88.2698 804.992 Q92.8762 800.34 94.0568 798.997 Q96.3021 796.474 97.1818 794.738 Q98.0845 792.979 98.0845 791.289 Q98.0845 788.534 96.1401 786.798 Q94.2188 785.062 91.117 785.062 Q88.9179 785.062 86.4642 785.826 Q84.0337 786.59 81.2559 788.141 L81.2559 783.418 Q84.08 782.284 86.5337 781.706 Q88.9874 781.127 91.0244 781.127 Q96.3947 781.127 99.5892 783.812 Q102.784 786.497 102.784 790.988 Q102.784 793.118 101.973 795.039 Q101.186 796.937 99.0799 799.53 Q98.5012 800.201 95.3994 803.418 Q92.2975 806.613 86.6494 812.377 Z\" fill=\"#000000\" fill-rule=\"evenodd\" fill-opacity=\"1\" /><path clip-path=\"url(#clip990)\" d=\"M 0 0 M93.3855 592.59 L81.58 611.039 L93.3855 611.039 L93.3855 592.59 M92.1586 588.516 L98.0382 588.516 L98.0382 611.039 L102.969 611.039 L102.969 614.928 L98.0382 614.928 L98.0382 623.076 L93.3855 623.076 L93.3855 614.928 L77.7837 614.928 L77.7837 610.414 L92.1586 588.516 Z\" fill=\"#000000\" fill-rule=\"evenodd\" fill-opacity=\"1\" /><path clip-path=\"url(#clip990)\" d=\"M 0 0 M91.441 410.696 Q88.2929 410.696 86.4411 412.849 Q84.6124 415.002 84.6124 418.752 Q84.6124 422.479 86.4411 424.654 Q88.2929 426.807 91.441 426.807 Q94.5892 426.807 96.4179 424.654 Q98.2697 422.479 98.2697 418.752 Q98.2697 415.002 96.4179 412.849 Q94.5892 410.696 91.441 410.696 M100.723 396.043 L100.723 400.303 Q98.9642 399.469 97.1586 399.03 Q95.3762 398.59 93.617 398.59 Q88.9874 398.59 86.5337 401.715 Q84.1031 404.84 83.7559 411.159 Q85.1216 409.145 87.1818 408.08 Q89.242 406.993 91.7188 406.993 Q96.9271 406.993 99.9364 410.164 Q102.969 413.312 102.969 418.752 Q102.969 424.076 99.8206 427.293 Q96.6725 430.511 91.441 430.511 Q85.4457 430.511 82.2744 425.928 Q79.1032 421.321 79.1032 412.594 Q79.1032 404.4 82.992 399.539 Q86.8809 394.655 93.4318 394.655 Q95.191 394.655 96.9734 395.002 Q98.779 395.349 100.723 396.043 Z\" fill=\"#000000\" fill-rule=\"evenodd\" fill-opacity=\"1\" /><path clip-path=\"url(#clip990)\" d=\"M 0 0 M91.117 220.192 Q87.7837 220.192 85.8624 221.974 Q83.9642 223.756 83.9642 226.881 Q83.9642 230.006 85.8624 231.789 Q87.7837 233.571 91.117 233.571 Q94.4503 233.571 96.3716 231.789 Q98.2929 229.983 98.2929 226.881 Q98.2929 223.756 96.3716 221.974 Q94.4734 220.192 91.117 220.192 M86.4411 218.201 Q83.4318 217.46 81.742 215.4 Q80.0754 213.34 80.0754 210.377 Q80.0754 206.233 83.0152 203.826 Q85.9781 201.418 91.117 201.418 Q96.279 201.418 99.2188 203.826 Q102.159 206.233 102.159 210.377 Q102.159 213.34 100.469 215.4 Q98.8021 217.46 95.816 218.201 Q99.1956 218.988 101.071 221.279 Q102.969 223.571 102.969 226.881 Q102.969 231.904 99.8901 234.59 Q96.8345 237.275 91.117 237.275 Q85.3994 237.275 82.3207 234.59 Q79.2652 231.904 79.2652 226.881 Q79.2652 223.571 81.1633 221.279 Q83.0615 218.988 86.4411 218.201 M84.7281 210.817 Q84.7281 213.502 86.3948 215.006 Q88.0846 216.511 91.117 216.511 Q94.1262 216.511 95.816 215.006 Q97.529 213.502 97.529 210.817 Q97.529 208.131 95.816 206.627 Q94.1262 205.122 91.117 205.122 Q88.0846 205.122 86.3948 206.627 Q84.7281 208.131 84.7281 210.817 Z\" fill=\"#000000\" fill-rule=\"evenodd\" fill-opacity=\"1\" /><circle clip-path=\"url(#clip992)\" cx=\"189.963\" cy=\"1445.72\" r=\"14\" fill=\"#009af9\" fill-rule=\"evenodd\" fill-opacity=\"1\" stroke=\"#000000\" stroke-opacity=\"1\" stroke-width=\"3.2\"/>\n",
       "<circle clip-path=\"url(#clip992)\" cx=\"2209.54\" cy=\"313.296\" r=\"14\" fill=\"#009af9\" fill-rule=\"evenodd\" fill-opacity=\"1\" stroke=\"#000000\" stroke-opacity=\"1\" stroke-width=\"3.2\"/>\n",
       "<circle clip-path=\"url(#clip992)\" cx=\"946.122\" cy=\"799.861\" r=\"14\" fill=\"#009af9\" fill-rule=\"evenodd\" fill-opacity=\"1\" stroke=\"#000000\" stroke-opacity=\"1\" stroke-width=\"3.2\"/>\n",
       "<circle clip-path=\"url(#clip992)\" cx=\"1157.68\" cy=\"748.4\" r=\"14\" fill=\"#009af9\" fill-rule=\"evenodd\" fill-opacity=\"1\" stroke=\"#000000\" stroke-opacity=\"1\" stroke-width=\"3.2\"/>\n",
       "<circle clip-path=\"url(#clip992)\" cx=\"1269.31\" cy=\"712.047\" r=\"14\" fill=\"#009af9\" fill-rule=\"evenodd\" fill-opacity=\"1\" stroke=\"#000000\" stroke-opacity=\"1\" stroke-width=\"3.2\"/>\n",
       "<circle clip-path=\"url(#clip992)\" cx=\"1914\" cy=\"229.268\" r=\"14\" fill=\"#009af9\" fill-rule=\"evenodd\" fill-opacity=\"1\" stroke=\"#000000\" stroke-opacity=\"1\" stroke-width=\"3.2\"/>\n",
       "<circle clip-path=\"url(#clip992)\" cx=\"1429.32\" cy=\"508.398\" r=\"14\" fill=\"#009af9\" fill-rule=\"evenodd\" fill-opacity=\"1\" stroke=\"#000000\" stroke-opacity=\"1\" stroke-width=\"3.2\"/>\n",
       "<circle clip-path=\"url(#clip992)\" cx=\"1805.24\" cy=\"402.544\" r=\"14\" fill=\"#009af9\" fill-rule=\"evenodd\" fill-opacity=\"1\" stroke=\"#000000\" stroke-opacity=\"1\" stroke-width=\"3.2\"/>\n",
       "<circle clip-path=\"url(#clip992)\" cx=\"1180.95\" cy=\"653.893\" r=\"14\" fill=\"#009af9\" fill-rule=\"evenodd\" fill-opacity=\"1\" stroke=\"#000000\" stroke-opacity=\"1\" stroke-width=\"3.2\"/>\n",
       "<circle clip-path=\"url(#clip992)\" cx=\"1179.99\" cy=\"668.237\" r=\"14\" fill=\"#009af9\" fill-rule=\"evenodd\" fill-opacity=\"1\" stroke=\"#000000\" stroke-opacity=\"1\" stroke-width=\"3.2\"/>\n",
       "<circle clip-path=\"url(#clip992)\" cx=\"1232.85\" cy=\"642.905\" r=\"14\" fill=\"#009af9\" fill-rule=\"evenodd\" fill-opacity=\"1\" stroke=\"#000000\" stroke-opacity=\"1\" stroke-width=\"3.2\"/>\n",
       "<circle clip-path=\"url(#clip992)\" cx=\"828.403\" cy=\"1016.13\" r=\"14\" fill=\"#009af9\" fill-rule=\"evenodd\" fill-opacity=\"1\" stroke=\"#000000\" stroke-opacity=\"1\" stroke-width=\"3.2\"/>\n",
       "<circle clip-path=\"url(#clip992)\" cx=\"1631.51\" cy=\"504.446\" r=\"14\" fill=\"#009af9\" fill-rule=\"evenodd\" fill-opacity=\"1\" stroke=\"#000000\" stroke-opacity=\"1\" stroke-width=\"3.2\"/>\n",
       "<circle clip-path=\"url(#clip992)\" cx=\"1895.59\" cy=\"463.757\" r=\"14\" fill=\"#009af9\" fill-rule=\"evenodd\" fill-opacity=\"1\" stroke=\"#000000\" stroke-opacity=\"1\" stroke-width=\"3.2\"/>\n",
       "<circle clip-path=\"url(#clip992)\" cx=\"571.302\" cy=\"1170.84\" r=\"14\" fill=\"#009af9\" fill-rule=\"evenodd\" fill-opacity=\"1\" stroke=\"#000000\" stroke-opacity=\"1\" stroke-width=\"3.2\"/>\n",
       "<circle clip-path=\"url(#clip992)\" cx=\"1844.14\" cy=\"441.259\" r=\"14\" fill=\"#009af9\" fill-rule=\"evenodd\" fill-opacity=\"1\" stroke=\"#000000\" stroke-opacity=\"1\" stroke-width=\"3.2\"/>\n",
       "<circle clip-path=\"url(#clip992)\" cx=\"707.319\" cy=\"975.36\" r=\"14\" fill=\"#009af9\" fill-rule=\"evenodd\" fill-opacity=\"1\" stroke=\"#000000\" stroke-opacity=\"1\" stroke-width=\"3.2\"/>\n",
       "<circle clip-path=\"url(#clip992)\" cx=\"2171.4\" cy=\"168.875\" r=\"14\" fill=\"#009af9\" fill-rule=\"evenodd\" fill-opacity=\"1\" stroke=\"#000000\" stroke-opacity=\"1\" stroke-width=\"3.2\"/>\n",
       "<circle clip-path=\"url(#clip992)\" cx=\"1038.06\" cy=\"748.37\" r=\"14\" fill=\"#009af9\" fill-rule=\"evenodd\" fill-opacity=\"1\" stroke=\"#000000\" stroke-opacity=\"1\" stroke-width=\"3.2\"/>\n",
       "<circle clip-path=\"url(#clip992)\" cx=\"396.281\" cy=\"1120.65\" r=\"14\" fill=\"#009af9\" fill-rule=\"evenodd\" fill-opacity=\"1\" stroke=\"#000000\" stroke-opacity=\"1\" stroke-width=\"3.2\"/>\n",
       "<circle clip-path=\"url(#clip992)\" cx=\"1546.71\" cy=\"557.259\" r=\"14\" fill=\"#009af9\" fill-rule=\"evenodd\" fill-opacity=\"1\" stroke=\"#000000\" stroke-opacity=\"1\" stroke-width=\"3.2\"/>\n",
       "<circle clip-path=\"url(#clip992)\" cx=\"1491.19\" cy=\"457.754\" r=\"14\" fill=\"#009af9\" fill-rule=\"evenodd\" fill-opacity=\"1\" stroke=\"#000000\" stroke-opacity=\"1\" stroke-width=\"3.2\"/>\n",
       "<circle clip-path=\"url(#clip992)\" cx=\"1804.67\" cy=\"484.022\" r=\"14\" fill=\"#009af9\" fill-rule=\"evenodd\" fill-opacity=\"1\" stroke=\"#000000\" stroke-opacity=\"1\" stroke-width=\"3.2\"/>\n",
       "<circle clip-path=\"url(#clip992)\" cx=\"1288.22\" cy=\"421.5\" r=\"14\" fill=\"#009af9\" fill-rule=\"evenodd\" fill-opacity=\"1\" stroke=\"#000000\" stroke-opacity=\"1\" stroke-width=\"3.2\"/>\n",
       "<circle clip-path=\"url(#clip992)\" cx=\"1473.9\" cy=\"651.699\" r=\"14\" fill=\"#009af9\" fill-rule=\"evenodd\" fill-opacity=\"1\" stroke=\"#000000\" stroke-opacity=\"1\" stroke-width=\"3.2\"/>\n",
       "<circle clip-path=\"url(#clip992)\" cx=\"534.497\" cy=\"1083.41\" r=\"14\" fill=\"#009af9\" fill-rule=\"evenodd\" fill-opacity=\"1\" stroke=\"#000000\" stroke-opacity=\"1\" stroke-width=\"3.2\"/>\n",
       "<circle clip-path=\"url(#clip992)\" cx=\"1742.08\" cy=\"554.534\" r=\"14\" fill=\"#009af9\" fill-rule=\"evenodd\" fill-opacity=\"1\" stroke=\"#000000\" stroke-opacity=\"1\" stroke-width=\"3.2\"/>\n",
       "<circle clip-path=\"url(#clip992)\" cx=\"1626.99\" cy=\"431.769\" r=\"14\" fill=\"#009af9\" fill-rule=\"evenodd\" fill-opacity=\"1\" stroke=\"#000000\" stroke-opacity=\"1\" stroke-width=\"3.2\"/>\n",
       "<circle clip-path=\"url(#clip992)\" cx=\"1779.97\" cy=\"517.809\" r=\"14\" fill=\"#009af9\" fill-rule=\"evenodd\" fill-opacity=\"1\" stroke=\"#000000\" stroke-opacity=\"1\" stroke-width=\"3.2\"/>\n",
       "<circle clip-path=\"url(#clip992)\" cx=\"971.006\" cy=\"665.409\" r=\"14\" fill=\"#009af9\" fill-rule=\"evenodd\" fill-opacity=\"1\" stroke=\"#000000\" stroke-opacity=\"1\" stroke-width=\"3.2\"/>\n",
       "<circle clip-path=\"url(#clip992)\" cx=\"1663.5\" cy=\"451.153\" r=\"14\" fill=\"#009af9\" fill-rule=\"evenodd\" fill-opacity=\"1\" stroke=\"#000000\" stroke-opacity=\"1\" stroke-width=\"3.2\"/>\n",
       "<circle clip-path=\"url(#clip992)\" cx=\"947.339\" cy=\"1102.59\" r=\"14\" fill=\"#009af9\" fill-rule=\"evenodd\" fill-opacity=\"1\" stroke=\"#000000\" stroke-opacity=\"1\" stroke-width=\"3.2\"/>\n",
       "<circle clip-path=\"url(#clip992)\" cx=\"1143.98\" cy=\"766.148\" r=\"14\" fill=\"#009af9\" fill-rule=\"evenodd\" fill-opacity=\"1\" stroke=\"#000000\" stroke-opacity=\"1\" stroke-width=\"3.2\"/>\n",
       "<circle clip-path=\"url(#clip992)\" cx=\"1729.67\" cy=\"494.778\" r=\"14\" fill=\"#009af9\" fill-rule=\"evenodd\" fill-opacity=\"1\" stroke=\"#000000\" stroke-opacity=\"1\" stroke-width=\"3.2\"/>\n",
       "<circle clip-path=\"url(#clip992)\" cx=\"910.078\" cy=\"746.418\" r=\"14\" fill=\"#009af9\" fill-rule=\"evenodd\" fill-opacity=\"1\" stroke=\"#000000\" stroke-opacity=\"1\" stroke-width=\"3.2\"/>\n",
       "<circle clip-path=\"url(#clip992)\" cx=\"735.787\" cy=\"1133.99\" r=\"14\" fill=\"#009af9\" fill-rule=\"evenodd\" fill-opacity=\"1\" stroke=\"#000000\" stroke-opacity=\"1\" stroke-width=\"3.2\"/>\n",
       "<circle clip-path=\"url(#clip992)\" cx=\"1502.67\" cy=\"488.332\" r=\"14\" fill=\"#009af9\" fill-rule=\"evenodd\" fill-opacity=\"1\" stroke=\"#000000\" stroke-opacity=\"1\" stroke-width=\"3.2\"/>\n",
       "<circle clip-path=\"url(#clip992)\" cx=\"1471.57\" cy=\"680.261\" r=\"14\" fill=\"#009af9\" fill-rule=\"evenodd\" fill-opacity=\"1\" stroke=\"#000000\" stroke-opacity=\"1\" stroke-width=\"3.2\"/>\n",
       "<circle clip-path=\"url(#clip992)\" cx=\"1668.67\" cy=\"551.296\" r=\"14\" fill=\"#009af9\" fill-rule=\"evenodd\" fill-opacity=\"1\" stroke=\"#000000\" stroke-opacity=\"1\" stroke-width=\"3.2\"/>\n",
       "<circle clip-path=\"url(#clip992)\" cx=\"1647.28\" cy=\"489.242\" r=\"14\" fill=\"#009af9\" fill-rule=\"evenodd\" fill-opacity=\"1\" stroke=\"#000000\" stroke-opacity=\"1\" stroke-width=\"3.2\"/>\n",
       "<circle clip-path=\"url(#clip992)\" cx=\"1762.37\" cy=\"619.76\" r=\"14\" fill=\"#009af9\" fill-rule=\"evenodd\" fill-opacity=\"1\" stroke=\"#000000\" stroke-opacity=\"1\" stroke-width=\"3.2\"/>\n",
       "<circle clip-path=\"url(#clip992)\" cx=\"1658.77\" cy=\"591.289\" r=\"14\" fill=\"#009af9\" fill-rule=\"evenodd\" fill-opacity=\"1\" stroke=\"#000000\" stroke-opacity=\"1\" stroke-width=\"3.2\"/>\n",
       "<circle clip-path=\"url(#clip992)\" cx=\"1355.74\" cy=\"707.781\" r=\"14\" fill=\"#009af9\" fill-rule=\"evenodd\" fill-opacity=\"1\" stroke=\"#000000\" stroke-opacity=\"1\" stroke-width=\"3.2\"/>\n",
       "<circle clip-path=\"url(#clip992)\" cx=\"1390.93\" cy=\"611.836\" r=\"14\" fill=\"#009af9\" fill-rule=\"evenodd\" fill-opacity=\"1\" stroke=\"#000000\" stroke-opacity=\"1\" stroke-width=\"3.2\"/>\n",
       "<circle clip-path=\"url(#clip992)\" cx=\"1936.57\" cy=\"237.904\" r=\"14\" fill=\"#009af9\" fill-rule=\"evenodd\" fill-opacity=\"1\" stroke=\"#000000\" stroke-opacity=\"1\" stroke-width=\"3.2\"/>\n",
       "<circle clip-path=\"url(#clip992)\" cx=\"1089.15\" cy=\"874.55\" r=\"14\" fill=\"#009af9\" fill-rule=\"evenodd\" fill-opacity=\"1\" stroke=\"#000000\" stroke-opacity=\"1\" stroke-width=\"3.2\"/>\n",
       "<circle clip-path=\"url(#clip992)\" cx=\"427.791\" cy=\"1149.98\" r=\"14\" fill=\"#009af9\" fill-rule=\"evenodd\" fill-opacity=\"1\" stroke=\"#000000\" stroke-opacity=\"1\" stroke-width=\"3.2\"/>\n",
       "<circle clip-path=\"url(#clip992)\" cx=\"2079.39\" cy=\"148.784\" r=\"14\" fill=\"#009af9\" fill-rule=\"evenodd\" fill-opacity=\"1\" stroke=\"#000000\" stroke-opacity=\"1\" stroke-width=\"3.2\"/>\n",
       "<circle clip-path=\"url(#clip992)\" cx=\"1383.07\" cy=\"668.139\" r=\"14\" fill=\"#009af9\" fill-rule=\"evenodd\" fill-opacity=\"1\" stroke=\"#000000\" stroke-opacity=\"1\" stroke-width=\"3.2\"/>\n",
       "<circle clip-path=\"url(#clip992)\" cx=\"1170.09\" cy=\"659.739\" r=\"14\" fill=\"#009af9\" fill-rule=\"evenodd\" fill-opacity=\"1\" stroke=\"#000000\" stroke-opacity=\"1\" stroke-width=\"3.2\"/>\n",
       "<circle clip-path=\"url(#clip992)\" cx=\"1681.66\" cy=\"405.586\" r=\"14\" fill=\"#009af9\" fill-rule=\"evenodd\" fill-opacity=\"1\" stroke=\"#000000\" stroke-opacity=\"1\" stroke-width=\"3.2\"/>\n",
       "<circle clip-path=\"url(#clip992)\" cx=\"661.264\" cy=\"1059.27\" r=\"14\" fill=\"#009af9\" fill-rule=\"evenodd\" fill-opacity=\"1\" stroke=\"#000000\" stroke-opacity=\"1\" stroke-width=\"3.2\"/>\n",
       "<circle clip-path=\"url(#clip992)\" cx=\"1326\" cy=\"597.813\" r=\"14\" fill=\"#009af9\" fill-rule=\"evenodd\" fill-opacity=\"1\" stroke=\"#000000\" stroke-opacity=\"1\" stroke-width=\"3.2\"/>\n",
       "<circle clip-path=\"url(#clip992)\" cx=\"906.393\" cy=\"685.474\" r=\"14\" fill=\"#009af9\" fill-rule=\"evenodd\" fill-opacity=\"1\" stroke=\"#000000\" stroke-opacity=\"1\" stroke-width=\"3.2\"/>\n",
       "<circle clip-path=\"url(#clip992)\" cx=\"1619.32\" cy=\"500.21\" r=\"14\" fill=\"#009af9\" fill-rule=\"evenodd\" fill-opacity=\"1\" stroke=\"#000000\" stroke-opacity=\"1\" stroke-width=\"3.2\"/>\n",
       "<circle clip-path=\"url(#clip992)\" cx=\"1850.09\" cy=\"318.507\" r=\"14\" fill=\"#009af9\" fill-rule=\"evenodd\" fill-opacity=\"1\" stroke=\"#000000\" stroke-opacity=\"1\" stroke-width=\"3.2\"/>\n",
       "<circle clip-path=\"url(#clip992)\" cx=\"2171.02\" cy=\"469.97\" r=\"14\" fill=\"#009af9\" fill-rule=\"evenodd\" fill-opacity=\"1\" stroke=\"#000000\" stroke-opacity=\"1\" stroke-width=\"3.2\"/>\n",
       "<circle clip-path=\"url(#clip992)\" cx=\"1354.67\" cy=\"471.95\" r=\"14\" fill=\"#009af9\" fill-rule=\"evenodd\" fill-opacity=\"1\" stroke=\"#000000\" stroke-opacity=\"1\" stroke-width=\"3.2\"/>\n",
       "<circle clip-path=\"url(#clip992)\" cx=\"1625.28\" cy=\"557.972\" r=\"14\" fill=\"#009af9\" fill-rule=\"evenodd\" fill-opacity=\"1\" stroke=\"#000000\" stroke-opacity=\"1\" stroke-width=\"3.2\"/>\n",
       "<circle clip-path=\"url(#clip992)\" cx=\"1223.88\" cy=\"689.895\" r=\"14\" fill=\"#009af9\" fill-rule=\"evenodd\" fill-opacity=\"1\" stroke=\"#000000\" stroke-opacity=\"1\" stroke-width=\"3.2\"/>\n",
       "<circle clip-path=\"url(#clip992)\" cx=\"1549.66\" cy=\"718.227\" r=\"14\" fill=\"#009af9\" fill-rule=\"evenodd\" fill-opacity=\"1\" stroke=\"#000000\" stroke-opacity=\"1\" stroke-width=\"3.2\"/>\n",
       "<circle clip-path=\"url(#clip992)\" cx=\"1404.02\" cy=\"632.998\" r=\"14\" fill=\"#009af9\" fill-rule=\"evenodd\" fill-opacity=\"1\" stroke=\"#000000\" stroke-opacity=\"1\" stroke-width=\"3.2\"/>\n",
       "<circle clip-path=\"url(#clip992)\" cx=\"1145.89\" cy=\"693.953\" r=\"14\" fill=\"#009af9\" fill-rule=\"evenodd\" fill-opacity=\"1\" stroke=\"#000000\" stroke-opacity=\"1\" stroke-width=\"3.2\"/>\n",
       "<circle clip-path=\"url(#clip992)\" cx=\"1990.46\" cy=\"246.9\" r=\"14\" fill=\"#009af9\" fill-rule=\"evenodd\" fill-opacity=\"1\" stroke=\"#000000\" stroke-opacity=\"1\" stroke-width=\"3.2\"/>\n",
       "<circle clip-path=\"url(#clip992)\" cx=\"1313.14\" cy=\"647.295\" r=\"14\" fill=\"#009af9\" fill-rule=\"evenodd\" fill-opacity=\"1\" stroke=\"#000000\" stroke-opacity=\"1\" stroke-width=\"3.2\"/>\n",
       "<circle clip-path=\"url(#clip992)\" cx=\"966.924\" cy=\"795.459\" r=\"14\" fill=\"#009af9\" fill-rule=\"evenodd\" fill-opacity=\"1\" stroke=\"#000000\" stroke-opacity=\"1\" stroke-width=\"3.2\"/>\n",
       "<circle clip-path=\"url(#clip992)\" cx=\"1654.12\" cy=\"514.457\" r=\"14\" fill=\"#009af9\" fill-rule=\"evenodd\" fill-opacity=\"1\" stroke=\"#000000\" stroke-opacity=\"1\" stroke-width=\"3.2\"/>\n",
       "<circle clip-path=\"url(#clip992)\" cx=\"1177.3\" cy=\"829.632\" r=\"14\" fill=\"#009af9\" fill-rule=\"evenodd\" fill-opacity=\"1\" stroke=\"#000000\" stroke-opacity=\"1\" stroke-width=\"3.2\"/>\n",
       "<circle clip-path=\"url(#clip992)\" cx=\"1568.73\" cy=\"579.412\" r=\"14\" fill=\"#009af9\" fill-rule=\"evenodd\" fill-opacity=\"1\" stroke=\"#000000\" stroke-opacity=\"1\" stroke-width=\"3.2\"/>\n",
       "<circle clip-path=\"url(#clip992)\" cx=\"1063.96\" cy=\"772.492\" r=\"14\" fill=\"#009af9\" fill-rule=\"evenodd\" fill-opacity=\"1\" stroke=\"#000000\" stroke-opacity=\"1\" stroke-width=\"3.2\"/>\n",
       "<circle clip-path=\"url(#clip992)\" cx=\"1081.73\" cy=\"969.663\" r=\"14\" fill=\"#009af9\" fill-rule=\"evenodd\" fill-opacity=\"1\" stroke=\"#000000\" stroke-opacity=\"1\" stroke-width=\"3.2\"/>\n",
       "<circle clip-path=\"url(#clip992)\" cx=\"975.811\" cy=\"852.554\" r=\"14\" fill=\"#009af9\" fill-rule=\"evenodd\" fill-opacity=\"1\" stroke=\"#000000\" stroke-opacity=\"1\" stroke-width=\"3.2\"/>\n",
       "<circle clip-path=\"url(#clip992)\" cx=\"1846.02\" cy=\"361.232\" r=\"14\" fill=\"#009af9\" fill-rule=\"evenodd\" fill-opacity=\"1\" stroke=\"#000000\" stroke-opacity=\"1\" stroke-width=\"3.2\"/>\n",
       "<circle clip-path=\"url(#clip992)\" cx=\"1606.78\" cy=\"482.158\" r=\"14\" fill=\"#009af9\" fill-rule=\"evenodd\" fill-opacity=\"1\" stroke=\"#000000\" stroke-opacity=\"1\" stroke-width=\"3.2\"/>\n",
       "<circle clip-path=\"url(#clip992)\" cx=\"1129.99\" cy=\"839.105\" r=\"14\" fill=\"#009af9\" fill-rule=\"evenodd\" fill-opacity=\"1\" stroke=\"#000000\" stroke-opacity=\"1\" stroke-width=\"3.2\"/>\n",
       "<circle clip-path=\"url(#clip992)\" cx=\"1199.16\" cy=\"919.279\" r=\"14\" fill=\"#009af9\" fill-rule=\"evenodd\" fill-opacity=\"1\" stroke=\"#000000\" stroke-opacity=\"1\" stroke-width=\"3.2\"/>\n",
       "<circle clip-path=\"url(#clip992)\" cx=\"750.197\" cy=\"966.144\" r=\"14\" fill=\"#009af9\" fill-rule=\"evenodd\" fill-opacity=\"1\" stroke=\"#000000\" stroke-opacity=\"1\" stroke-width=\"3.2\"/>\n",
       "<circle clip-path=\"url(#clip992)\" cx=\"2289.76\" cy=\"345.21\" r=\"14\" fill=\"#009af9\" fill-rule=\"evenodd\" fill-opacity=\"1\" stroke=\"#000000\" stroke-opacity=\"1\" stroke-width=\"3.2\"/>\n",
       "<circle clip-path=\"url(#clip992)\" cx=\"1216.94\" cy=\"669.135\" r=\"14\" fill=\"#009af9\" fill-rule=\"evenodd\" fill-opacity=\"1\" stroke=\"#000000\" stroke-opacity=\"1\" stroke-width=\"3.2\"/>\n",
       "<circle clip-path=\"url(#clip992)\" cx=\"1304.9\" cy=\"806.583\" r=\"14\" fill=\"#009af9\" fill-rule=\"evenodd\" fill-opacity=\"1\" stroke=\"#000000\" stroke-opacity=\"1\" stroke-width=\"3.2\"/>\n",
       "<circle clip-path=\"url(#clip992)\" cx=\"1408.99\" cy=\"661.826\" r=\"14\" fill=\"#009af9\" fill-rule=\"evenodd\" fill-opacity=\"1\" stroke=\"#000000\" stroke-opacity=\"1\" stroke-width=\"3.2\"/>\n",
       "<circle clip-path=\"url(#clip992)\" cx=\"2274.97\" cy=\"141.329\" r=\"14\" fill=\"#009af9\" fill-rule=\"evenodd\" fill-opacity=\"1\" stroke=\"#000000\" stroke-opacity=\"1\" stroke-width=\"3.2\"/>\n",
       "<circle clip-path=\"url(#clip992)\" cx=\"982.78\" cy=\"920.831\" r=\"14\" fill=\"#009af9\" fill-rule=\"evenodd\" fill-opacity=\"1\" stroke=\"#000000\" stroke-opacity=\"1\" stroke-width=\"3.2\"/>\n",
       "<circle clip-path=\"url(#clip992)\" cx=\"335.464\" cy=\"1190.87\" r=\"14\" fill=\"#009af9\" fill-rule=\"evenodd\" fill-opacity=\"1\" stroke=\"#000000\" stroke-opacity=\"1\" stroke-width=\"3.2\"/>\n",
       "<circle clip-path=\"url(#clip992)\" cx=\"1806.58\" cy=\"483.281\" r=\"14\" fill=\"#009af9\" fill-rule=\"evenodd\" fill-opacity=\"1\" stroke=\"#000000\" stroke-opacity=\"1\" stroke-width=\"3.2\"/>\n",
       "<circle clip-path=\"url(#clip992)\" cx=\"2003.2\" cy=\"252.205\" r=\"14\" fill=\"#009af9\" fill-rule=\"evenodd\" fill-opacity=\"1\" stroke=\"#000000\" stroke-opacity=\"1\" stroke-width=\"3.2\"/>\n",
       "<circle clip-path=\"url(#clip992)\" cx=\"1595.05\" cy=\"483.881\" r=\"14\" fill=\"#009af9\" fill-rule=\"evenodd\" fill-opacity=\"1\" stroke=\"#000000\" stroke-opacity=\"1\" stroke-width=\"3.2\"/>\n",
       "<circle clip-path=\"url(#clip992)\" cx=\"1251.72\" cy=\"678.568\" r=\"14\" fill=\"#009af9\" fill-rule=\"evenodd\" fill-opacity=\"1\" stroke=\"#000000\" stroke-opacity=\"1\" stroke-width=\"3.2\"/>\n",
       "<circle clip-path=\"url(#clip992)\" cx=\"656.696\" cy=\"1074.47\" r=\"14\" fill=\"#009af9\" fill-rule=\"evenodd\" fill-opacity=\"1\" stroke=\"#000000\" stroke-opacity=\"1\" stroke-width=\"3.2\"/>\n",
       "<circle clip-path=\"url(#clip992)\" cx=\"1126.08\" cy=\"785.427\" r=\"14\" fill=\"#009af9\" fill-rule=\"evenodd\" fill-opacity=\"1\" stroke=\"#000000\" stroke-opacity=\"1\" stroke-width=\"3.2\"/>\n",
       "<circle clip-path=\"url(#clip992)\" cx=\"586.311\" cy=\"973.45\" r=\"14\" fill=\"#009af9\" fill-rule=\"evenodd\" fill-opacity=\"1\" stroke=\"#000000\" stroke-opacity=\"1\" stroke-width=\"3.2\"/>\n",
       "<circle clip-path=\"url(#clip992)\" cx=\"2235.97\" cy=\"87.9763\" r=\"14\" fill=\"#009af9\" fill-rule=\"evenodd\" fill-opacity=\"1\" stroke=\"#000000\" stroke-opacity=\"1\" stroke-width=\"3.2\"/>\n",
       "<circle clip-path=\"url(#clip992)\" cx=\"1771.16\" cy=\"496.259\" r=\"14\" fill=\"#009af9\" fill-rule=\"evenodd\" fill-opacity=\"1\" stroke=\"#000000\" stroke-opacity=\"1\" stroke-width=\"3.2\"/>\n",
       "<circle clip-path=\"url(#clip992)\" cx=\"1495.07\" cy=\"547.3\" r=\"14\" fill=\"#009af9\" fill-rule=\"evenodd\" fill-opacity=\"1\" stroke=\"#000000\" stroke-opacity=\"1\" stroke-width=\"3.2\"/>\n",
       "<circle clip-path=\"url(#clip992)\" cx=\"840.599\" cy=\"1029.56\" r=\"14\" fill=\"#009af9\" fill-rule=\"evenodd\" fill-opacity=\"1\" stroke=\"#000000\" stroke-opacity=\"1\" stroke-width=\"3.2\"/>\n",
       "<circle clip-path=\"url(#clip992)\" cx=\"1227.62\" cy=\"749.591\" r=\"14\" fill=\"#009af9\" fill-rule=\"evenodd\" fill-opacity=\"1\" stroke=\"#000000\" stroke-opacity=\"1\" stroke-width=\"3.2\"/>\n",
       "<circle clip-path=\"url(#clip992)\" cx=\"1351.37\" cy=\"689.015\" r=\"14\" fill=\"#009af9\" fill-rule=\"evenodd\" fill-opacity=\"1\" stroke=\"#000000\" stroke-opacity=\"1\" stroke-width=\"3.2\"/>\n",
       "<circle clip-path=\"url(#clip992)\" cx=\"900.908\" cy=\"887.478\" r=\"14\" fill=\"#009af9\" fill-rule=\"evenodd\" fill-opacity=\"1\" stroke=\"#000000\" stroke-opacity=\"1\" stroke-width=\"3.2\"/>\n",
       "<circle clip-path=\"url(#clip992)\" cx=\"1458.88\" cy=\"614.69\" r=\"14\" fill=\"#009af9\" fill-rule=\"evenodd\" fill-opacity=\"1\" stroke=\"#000000\" stroke-opacity=\"1\" stroke-width=\"3.2\"/>\n",
       "<circle clip-path=\"url(#clip992)\" cx=\"1100.67\" cy=\"841.733\" r=\"14\" fill=\"#009af9\" fill-rule=\"evenodd\" fill-opacity=\"1\" stroke=\"#000000\" stroke-opacity=\"1\" stroke-width=\"3.2\"/>\n",
       "</svg>\n"
      ]
     },
     "execution_count": 20,
     "metadata": {},
     "output_type": "execute_result"
    }
   ],
   "source": [
    "using Plots\n",
    "\n",
    "x = randn(100)\n",
    "y = randn(100) .+ 2.5 * x .+ 3;\n",
    "\n",
    "scatter(x, y, legend = nothing)"
   ]
  },
  {
   "cell_type": "code",
   "execution_count": 21,
   "metadata": {
    "slideshow": {
     "slide_type": "subslide"
    }
   },
   "outputs": [
    {
     "name": "stdout",
     "output_type": "stream",
     "text": [
      "\n",
      "******************************************************************************\n",
      "This program contains Ipopt, a library for large-scale nonlinear optimization.\n",
      " Ipopt is released as open source code under the Eclipse Public License (EPL).\n",
      "         For more information visit http://projects.coin-or.org/Ipopt\n",
      "******************************************************************************\n",
      "\n",
      "This is Ipopt version 3.13.2, running with linear solver mumps.\n",
      "NOTE: Other linear solvers might be more efficient (see Ipopt documentation).\n",
      "\n",
      "Number of nonzeros in equality constraint Jacobian...:        0\n",
      "Number of nonzeros in inequality constraint Jacobian.:        0\n",
      "Number of nonzeros in Lagrangian Hessian.............:        3\n",
      "\n",
      "Total number of variables............................:        2\n",
      "                     variables with only lower bounds:        0\n",
      "                variables with lower and upper bounds:        0\n",
      "                     variables with only upper bounds:        0\n",
      "Total number of equality constraints.................:        0\n",
      "Total number of inequality constraints...............:        0\n",
      "        inequality constraints with only lower bounds:        0\n",
      "   inequality constraints with lower and upper bounds:        0\n",
      "        inequality constraints with only upper bounds:        0\n",
      "\n",
      "iter    objective    inf_pr   inf_du lg(mu)  ||d||  lg(rg) alpha_du alpha_pr  ls\n",
      "   0  1.9350740e+03 0.00e+00 1.00e+02  -1.0 0.00e+00    -  0.00e+00 0.00e+00   0\n",
      "   1  1.0369895e+02 0.00e+00 6.15e-15  -1.0 3.06e+00    -  1.00e+00 1.00e+00f  1\n",
      "\n",
      "Number of Iterations....: 1\n",
      "\n",
      "                                   (scaled)                 (unscaled)\n",
      "Objective...............:   1.4951724244355837e+01    1.0369894665666095e+02\n",
      "Dual infeasibility......:   6.1469317045755001e-15    4.2632564145606011e-14\n",
      "Constraint violation....:   0.0000000000000000e+00    0.0000000000000000e+00\n",
      "Complementarity.........:   0.0000000000000000e+00    0.0000000000000000e+00\n",
      "Overall NLP error.......:   6.1469317045755001e-15    4.2632564145606011e-14\n",
      "\n",
      "\n",
      "Number of objective function evaluations             = 2\n",
      "Number of objective gradient evaluations             = 2\n",
      "Number of equality constraint evaluations            = 0\n",
      "Number of inequality constraint evaluations          = 0\n",
      "Number of equality constraint Jacobian evaluations   = 0\n",
      "Number of inequality constraint Jacobian evaluations = 0\n",
      "Number of Lagrangian Hessian evaluations             = 1\n",
      "Total CPU secs in IPOPT (w/o function evaluations)   =      1.581\n",
      "Total CPU secs in NLP function evaluations           =      0.576\n",
      "\n",
      "EXIT: Optimal Solution Found.\n",
      "This is Ipopt version 3.13.2, running with linear solver mumps.\n",
      "NOTE: Other linear solvers might be more efficient (see Ipopt documentation).\n",
      "\n",
      "Number of nonzeros in equality constraint Jacobian...:        0\n",
      "Number of nonzeros in inequality constraint Jacobian.:        0\n",
      "Number of nonzeros in Lagrangian Hessian.............:        3\n",
      "\n",
      "Total number of variables............................:        2\n",
      "                     variables with only lower bounds:        0\n",
      "                variables with lower and upper bounds:        0\n",
      "                     variables with only upper bounds:        0\n",
      "Total number of equality constraints.................:        0\n",
      "Total number of inequality constraints...............:        0\n",
      "        inequality constraints with only lower bounds:        0\n",
      "   inequality constraints with lower and upper bounds:        0\n",
      "        inequality constraints with only upper bounds:        0\n",
      "\n",
      "iter    objective    inf_pr   inf_du lg(mu)  ||d||  lg(rg) alpha_du alpha_pr  ls\n",
      "   0  1.9350740e+03 0.00e+00 1.00e+02  -1.0 0.00e+00    -  0.00e+00 0.00e+00   0\n",
      "   1  2.4297094e+02 0.00e+00 6.15e-15  -1.0 2.83e+00    -  1.00e+00 1.00e+00f  1\n",
      "\n",
      "Number of Iterations....: 1\n",
      "\n",
      "                                   (scaled)                 (unscaled)\n",
      "Objective...............:   3.5032510793435371e+01    2.4297093824404374e+02\n",
      "Dual infeasibility......:   6.1469317045755001e-15    4.2632564145606011e-14\n",
      "Constraint violation....:   0.0000000000000000e+00    0.0000000000000000e+00\n",
      "Complementarity.........:   0.0000000000000000e+00    0.0000000000000000e+00\n",
      "Overall NLP error.......:   6.1469317045755001e-15    4.2632564145606011e-14\n",
      "\n",
      "\n",
      "Number of objective function evaluations             = 2\n",
      "Number of objective gradient evaluations             = 2\n",
      "Number of equality constraint evaluations            = 0\n",
      "Number of inequality constraint evaluations          = 0\n",
      "Number of equality constraint Jacobian evaluations   = 0\n",
      "Number of inequality constraint Jacobian evaluations = 0\n",
      "Number of Lagrangian Hessian evaluations             = 1\n",
      "Total CPU secs in IPOPT (w/o function evaluations)   =      0.001\n",
      "Total CPU secs in NLP function evaluations           =      0.000\n",
      "\n",
      "EXIT: Optimal Solution Found.\n",
      "This is Ipopt version 3.13.2, running with linear solver mumps.\n",
      "NOTE: Other linear solvers might be more efficient (see Ipopt documentation).\n",
      "\n",
      "Number of nonzeros in equality constraint Jacobian...:        0\n",
      "Number of nonzeros in inequality constraint Jacobian.:        0\n",
      "Number of nonzeros in Lagrangian Hessian.............:        3\n",
      "\n",
      "Total number of variables............................:        2\n",
      "                     variables with only lower bounds:        0\n",
      "                variables with lower and upper bounds:        0\n",
      "                     variables with only upper bounds:        0\n",
      "Total number of equality constraints.................:        0\n",
      "Total number of inequality constraints...............:        0\n",
      "        inequality constraints with only lower bounds:        0\n",
      "   inequality constraints with lower and upper bounds:        0\n",
      "        inequality constraints with only upper bounds:        0\n",
      "\n",
      "iter    objective    inf_pr   inf_du lg(mu)  ||d||  lg(rg) alpha_du alpha_pr  ls\n",
      "   0  1.9350740e+03 0.00e+00 1.00e+02  -1.0 0.00e+00    -  0.00e+00 0.00e+00   0\n",
      "   1  9.5144333e+02 0.00e+00 1.23e-14  -1.0 1.63e+00    -  1.00e+00 1.00e+00f  1\n",
      "\n",
      "Number of Iterations....: 1\n",
      "\n",
      "                                   (scaled)                 (unscaled)\n",
      "Objective...............:   1.3718286154989943e+02    9.5144332583857181e+02\n",
      "Dual infeasibility......:   1.2293863409151000e-14    8.5265128291212022e-14\n",
      "Constraint violation....:   0.0000000000000000e+00    0.0000000000000000e+00\n",
      "Complementarity.........:   0.0000000000000000e+00    0.0000000000000000e+00\n",
      "Overall NLP error.......:   1.2293863409151000e-14    8.5265128291212022e-14\n",
      "\n",
      "\n",
      "Number of objective function evaluations             = 2\n",
      "Number of objective gradient evaluations             = 2\n",
      "Number of equality constraint evaluations            = 0\n",
      "Number of inequality constraint evaluations          = 0\n",
      "Number of equality constraint Jacobian evaluations   = 0\n",
      "Number of inequality constraint Jacobian evaluations = 0\n",
      "Number of Lagrangian Hessian evaluations             = 1\n",
      "Total CPU secs in IPOPT (w/o function evaluations)   =      0.001\n",
      "Total CPU secs in NLP function evaluations           =      0.000\n",
      "\n",
      "EXIT: Optimal Solution Found.\n"
     ]
    }
   ],
   "source": [
    "import Ipopt # quadratic terms\n",
    "\n",
    "a_values = Float64[]\n",
    "b_values = Float64[]\n",
    "penalty_values = [0.5, 10.0, 100.0]\n",
    "\n",
    "for λ in penalty_values\n",
    "    regression = Model(Ipopt.Optimizer)\n",
    "    @variable(regression, a)\n",
    "    @variable(regression, b)\n",
    "    @expression(regression,\n",
    "        quad_error[i=1:100],\n",
    "        (a * x[i] + b - y[i])^2\n",
    "    )\n",
    "    @objective(regression, Min, sum(quad_error) + λ * (a^2 + b^2))\n",
    "    MOI.set(regression, MOI.Silent(), true)\n",
    "    optimize!(regression)\n",
    "    \n",
    "    push!(a_values, JuMP.value(a))\n",
    "    push!(b_values, JuMP.value(b))\n",
    "end"
   ]
  },
  {
   "cell_type": "code",
   "execution_count": 22,
   "metadata": {
    "slideshow": {
     "slide_type": "slide"
    }
   },
   "outputs": [
    {
     "data": {
      "image/svg+xml": [
       "<?xml version=\"1.0\" encoding=\"utf-8\"?>\n",
       "<svg xmlns=\"http://www.w3.org/2000/svg\" xmlns:xlink=\"http://www.w3.org/1999/xlink\" width=\"600\" height=\"400\" viewBox=\"0 0 2400 1600\">\n",
       "<defs>\n",
       "  <clipPath id=\"clip030\">\n",
       "    <rect x=\"0\" y=\"0\" width=\"2400\" height=\"1600\"/>\n",
       "  </clipPath>\n",
       "</defs>\n",
       "<path clip-path=\"url(#clip030)\" d=\"\n",
       "M0 1600 L2400 1600 L2400 0 L0 0  Z\n",
       "  \" fill=\"#ffffff\" fill-rule=\"evenodd\" fill-opacity=\"1\"/>\n",
       "<defs>\n",
       "  <clipPath id=\"clip031\">\n",
       "    <rect x=\"480\" y=\"0\" width=\"1681\" height=\"1600\"/>\n",
       "  </clipPath>\n",
       "</defs>\n",
       "<path clip-path=\"url(#clip030)\" d=\"\n",
       "M126.969 1486.45 L2352.76 1486.45 L2352.76 47.2441 L126.969 47.2441  Z\n",
       "  \" fill=\"#ffffff\" fill-rule=\"evenodd\" fill-opacity=\"1\"/>\n",
       "<defs>\n",
       "  <clipPath id=\"clip032\">\n",
       "    <rect x=\"126\" y=\"47\" width=\"2227\" height=\"1440\"/>\n",
       "  </clipPath>\n",
       "</defs>\n",
       "<polyline clip-path=\"url(#clip032)\" style=\"stroke:#000000; stroke-width:2; stroke-opacity:0.1; fill:none\" points=\"\n",
       "  348.882,1486.45 348.882,47.2441 \n",
       "  \"/>\n",
       "<polyline clip-path=\"url(#clip032)\" style=\"stroke:#000000; stroke-width:2; stroke-opacity:0.1; fill:none\" points=\"\n",
       "  816.732,1486.45 816.732,47.2441 \n",
       "  \"/>\n",
       "<polyline clip-path=\"url(#clip032)\" style=\"stroke:#000000; stroke-width:2; stroke-opacity:0.1; fill:none\" points=\"\n",
       "  1284.58,1486.45 1284.58,47.2441 \n",
       "  \"/>\n",
       "<polyline clip-path=\"url(#clip032)\" style=\"stroke:#000000; stroke-width:2; stroke-opacity:0.1; fill:none\" points=\"\n",
       "  1752.43,1486.45 1752.43,47.2441 \n",
       "  \"/>\n",
       "<polyline clip-path=\"url(#clip032)\" style=\"stroke:#000000; stroke-width:2; stroke-opacity:0.1; fill:none\" points=\"\n",
       "  2220.28,1486.45 2220.28,47.2441 \n",
       "  \"/>\n",
       "<polyline clip-path=\"url(#clip032)\" style=\"stroke:#000000; stroke-width:2; stroke-opacity:0.1; fill:none\" points=\"\n",
       "  126.969,1378.74 2352.76,1378.74 \n",
       "  \"/>\n",
       "<polyline clip-path=\"url(#clip032)\" style=\"stroke:#000000; stroke-width:2; stroke-opacity:0.1; fill:none\" points=\"\n",
       "  126.969,1185.5 2352.76,1185.5 \n",
       "  \"/>\n",
       "<polyline clip-path=\"url(#clip032)\" style=\"stroke:#000000; stroke-width:2; stroke-opacity:0.1; fill:none\" points=\"\n",
       "  126.969,992.268 2352.76,992.268 \n",
       "  \"/>\n",
       "<polyline clip-path=\"url(#clip032)\" style=\"stroke:#000000; stroke-width:2; stroke-opacity:0.1; fill:none\" points=\"\n",
       "  126.969,799.032 2352.76,799.032 \n",
       "  \"/>\n",
       "<polyline clip-path=\"url(#clip032)\" style=\"stroke:#000000; stroke-width:2; stroke-opacity:0.1; fill:none\" points=\"\n",
       "  126.969,605.796 2352.76,605.796 \n",
       "  \"/>\n",
       "<polyline clip-path=\"url(#clip032)\" style=\"stroke:#000000; stroke-width:2; stroke-opacity:0.1; fill:none\" points=\"\n",
       "  126.969,412.56 2352.76,412.56 \n",
       "  \"/>\n",
       "<polyline clip-path=\"url(#clip032)\" style=\"stroke:#000000; stroke-width:2; stroke-opacity:0.1; fill:none\" points=\"\n",
       "  126.969,219.323 2352.76,219.323 \n",
       "  \"/>\n",
       "<polyline clip-path=\"url(#clip030)\" style=\"stroke:#000000; stroke-width:4; stroke-opacity:1; fill:none\" points=\"\n",
       "  126.969,1486.45 2352.76,1486.45 \n",
       "  \"/>\n",
       "<polyline clip-path=\"url(#clip030)\" style=\"stroke:#000000; stroke-width:4; stroke-opacity:1; fill:none\" points=\"\n",
       "  126.969,1486.45 126.969,47.2441 \n",
       "  \"/>\n",
       "<polyline clip-path=\"url(#clip030)\" style=\"stroke:#000000; stroke-width:4; stroke-opacity:1; fill:none\" points=\"\n",
       "  348.882,1486.45 348.882,1469.18 \n",
       "  \"/>\n",
       "<polyline clip-path=\"url(#clip030)\" style=\"stroke:#000000; stroke-width:4; stroke-opacity:1; fill:none\" points=\"\n",
       "  816.732,1486.45 816.732,1469.18 \n",
       "  \"/>\n",
       "<polyline clip-path=\"url(#clip030)\" style=\"stroke:#000000; stroke-width:4; stroke-opacity:1; fill:none\" points=\"\n",
       "  1284.58,1486.45 1284.58,1469.18 \n",
       "  \"/>\n",
       "<polyline clip-path=\"url(#clip030)\" style=\"stroke:#000000; stroke-width:4; stroke-opacity:1; fill:none\" points=\"\n",
       "  1752.43,1486.45 1752.43,1469.18 \n",
       "  \"/>\n",
       "<polyline clip-path=\"url(#clip030)\" style=\"stroke:#000000; stroke-width:4; stroke-opacity:1; fill:none\" points=\"\n",
       "  2220.28,1486.45 2220.28,1469.18 \n",
       "  \"/>\n",
       "<polyline clip-path=\"url(#clip030)\" style=\"stroke:#000000; stroke-width:4; stroke-opacity:1; fill:none\" points=\"\n",
       "  126.969,1378.74 153.678,1378.74 \n",
       "  \"/>\n",
       "<polyline clip-path=\"url(#clip030)\" style=\"stroke:#000000; stroke-width:4; stroke-opacity:1; fill:none\" points=\"\n",
       "  126.969,1185.5 153.678,1185.5 \n",
       "  \"/>\n",
       "<polyline clip-path=\"url(#clip030)\" style=\"stroke:#000000; stroke-width:4; stroke-opacity:1; fill:none\" points=\"\n",
       "  126.969,992.268 153.678,992.268 \n",
       "  \"/>\n",
       "<polyline clip-path=\"url(#clip030)\" style=\"stroke:#000000; stroke-width:4; stroke-opacity:1; fill:none\" points=\"\n",
       "  126.969,799.032 153.678,799.032 \n",
       "  \"/>\n",
       "<polyline clip-path=\"url(#clip030)\" style=\"stroke:#000000; stroke-width:4; stroke-opacity:1; fill:none\" points=\"\n",
       "  126.969,605.796 153.678,605.796 \n",
       "  \"/>\n",
       "<polyline clip-path=\"url(#clip030)\" style=\"stroke:#000000; stroke-width:4; stroke-opacity:1; fill:none\" points=\"\n",
       "  126.969,412.56 153.678,412.56 \n",
       "  \"/>\n",
       "<polyline clip-path=\"url(#clip030)\" style=\"stroke:#000000; stroke-width:4; stroke-opacity:1; fill:none\" points=\"\n",
       "  126.969,219.323 153.678,219.323 \n",
       "  \"/>\n",
       "<path clip-path=\"url(#clip030)\" d=\"M 0 0 M329.935 1525.04 L342.412 1525.04 L342.412 1528.83 L329.935 1528.83 L329.935 1525.04 Z\" fill=\"#000000\" fill-rule=\"evenodd\" fill-opacity=\"1\" /><path clip-path=\"url(#clip030)\" d=\"M 0 0 M351.509 1535.98 L367.828 1535.98 L367.828 1539.92 L345.884 1539.92 L345.884 1535.98 Q348.546 1533.23 353.129 1528.6 Q357.736 1523.95 358.916 1522.61 Q361.162 1520.08 362.041 1518.35 Q362.944 1516.59 362.944 1514.9 Q362.944 1512.14 360.999 1510.41 Q359.078 1508.67 355.976 1508.67 Q353.777 1508.67 351.324 1509.43 Q348.893 1510.2 346.115 1511.75 L346.115 1507.03 Q348.939 1505.89 351.393 1505.31 Q353.847 1504.73 355.884 1504.73 Q361.254 1504.73 364.449 1507.42 Q367.643 1510.11 367.643 1514.6 Q367.643 1516.73 366.833 1518.65 Q366.046 1520.54 363.939 1523.14 Q363.361 1523.81 360.259 1527.03 Q357.157 1530.22 351.509 1535.98 Z\" fill=\"#000000\" fill-rule=\"evenodd\" fill-opacity=\"1\" /><path clip-path=\"url(#clip030)\" d=\"M 0 0 M797.6 1525.04 L810.076 1525.04 L810.076 1528.83 L797.6 1528.83 L797.6 1525.04 Z\" fill=\"#000000\" fill-rule=\"evenodd\" fill-opacity=\"1\" /><path clip-path=\"url(#clip030)\" d=\"M 0 0 M815.956 1535.98 L823.595 1535.98 L823.595 1509.62 L815.285 1511.29 L815.285 1507.03 L823.549 1505.36 L828.225 1505.36 L828.225 1535.98 L835.863 1535.98 L835.863 1539.92 L815.956 1539.92 L815.956 1535.98 Z\" fill=\"#000000\" fill-rule=\"evenodd\" fill-opacity=\"1\" /><path clip-path=\"url(#clip030)\" d=\"M 0 0 M1284.58 1508.44 Q1280.97 1508.44 1279.14 1512 Q1277.34 1515.55 1277.34 1522.67 Q1277.34 1529.78 1279.14 1533.35 Q1280.97 1536.89 1284.58 1536.89 Q1288.22 1536.89 1290.02 1533.35 Q1291.85 1529.78 1291.85 1522.67 Q1291.85 1515.55 1290.02 1512 Q1288.22 1508.44 1284.58 1508.44 M1284.58 1504.73 Q1290.39 1504.73 1293.45 1509.34 Q1296.53 1513.92 1296.53 1522.67 Q1296.53 1531.4 1293.45 1536.01 Q1290.39 1540.59 1284.58 1540.59 Q1278.77 1540.59 1275.69 1536.01 Q1272.64 1531.4 1272.64 1522.67 Q1272.64 1513.92 1275.69 1509.34 Q1278.77 1504.73 1284.58 1504.73 Z\" fill=\"#000000\" fill-rule=\"evenodd\" fill-opacity=\"1\" /><path clip-path=\"url(#clip030)\" d=\"M 0 0 M1742.81 1535.98 L1750.45 1535.98 L1750.45 1509.62 L1742.14 1511.29 L1742.14 1507.03 L1750.41 1505.36 L1755.08 1505.36 L1755.08 1535.98 L1762.72 1535.98 L1762.72 1539.92 L1742.81 1539.92 L1742.81 1535.98 Z\" fill=\"#000000\" fill-rule=\"evenodd\" fill-opacity=\"1\" /><path clip-path=\"url(#clip030)\" d=\"M 0 0 M2214.93 1535.98 L2231.25 1535.98 L2231.25 1539.92 L2209.31 1539.92 L2209.31 1535.98 Q2211.97 1533.23 2216.55 1528.6 Q2221.16 1523.95 2222.34 1522.61 Q2224.59 1520.08 2225.47 1518.35 Q2226.37 1516.59 2226.37 1514.9 Q2226.37 1512.14 2224.43 1510.41 Q2222.5 1508.67 2219.4 1508.67 Q2217.2 1508.67 2214.75 1509.43 Q2212.32 1510.2 2209.54 1511.75 L2209.54 1507.03 Q2212.36 1505.89 2214.82 1505.31 Q2217.27 1504.73 2219.31 1504.73 Q2224.68 1504.73 2227.87 1507.42 Q2231.07 1510.11 2231.07 1514.6 Q2231.07 1516.73 2230.26 1518.65 Q2229.47 1520.54 2227.36 1523.14 Q2226.79 1523.81 2223.68 1527.03 Q2220.58 1530.22 2214.93 1535.98 Z\" fill=\"#000000\" fill-rule=\"evenodd\" fill-opacity=\"1\" /><path clip-path=\"url(#clip030)\" d=\"M 0 0 M62.9921 1381.14 L75.4689 1381.14 L75.4689 1384.93 L62.9921 1384.93 L62.9921 1381.14 Z\" fill=\"#000000\" fill-rule=\"evenodd\" fill-opacity=\"1\" /><path clip-path=\"url(#clip030)\" d=\"M 0 0 M93.3855 1365.53 L81.58 1383.98 L93.3855 1383.98 L93.3855 1365.53 M92.1586 1361.46 L98.0382 1361.46 L98.0382 1383.98 L102.969 1383.98 L102.969 1387.87 L98.0382 1387.87 L98.0382 1396.02 L93.3855 1396.02 L93.3855 1387.87 L77.7837 1387.87 L77.7837 1383.36 L92.1586 1361.46 Z\" fill=\"#000000\" fill-rule=\"evenodd\" fill-opacity=\"1\" /><path clip-path=\"url(#clip030)\" d=\"M 0 0 M65.0754 1187.9 L77.5522 1187.9 L77.5522 1191.7 L65.0754 1191.7 L65.0754 1187.9 Z\" fill=\"#000000\" fill-rule=\"evenodd\" fill-opacity=\"1\" /><path clip-path=\"url(#clip030)\" d=\"M 0 0 M86.6494 1198.85 L102.969 1198.85 L102.969 1202.78 L81.0244 1202.78 L81.0244 1198.85 Q83.6865 1196.09 88.2698 1191.46 Q92.8762 1186.81 94.0568 1185.47 Q96.3021 1182.95 97.1818 1181.21 Q98.0845 1179.45 98.0845 1177.76 Q98.0845 1175.01 96.1401 1173.27 Q94.2188 1171.53 91.117 1171.53 Q88.9179 1171.53 86.4642 1172.3 Q84.0337 1173.06 81.2559 1174.61 L81.2559 1169.89 Q84.08 1168.76 86.5337 1168.18 Q88.9874 1167.6 91.0244 1167.6 Q96.3947 1167.6 99.5892 1170.28 Q102.784 1172.97 102.784 1177.46 Q102.784 1179.59 101.973 1181.51 Q101.186 1183.41 99.0799 1186 Q98.5012 1186.67 95.3994 1189.89 Q92.2975 1193.09 86.6494 1198.85 Z\" fill=\"#000000\" fill-rule=\"evenodd\" fill-opacity=\"1\" /><path clip-path=\"url(#clip030)\" d=\"M 0 0 M91.0244 978.067 Q87.4133 978.067 85.5846 981.631 Q83.7791 985.173 83.7791 992.303 Q83.7791 999.409 85.5846 1002.97 Q87.4133 1006.52 91.0244 1006.52 Q94.6586 1006.52 96.4642 1002.97 Q98.2929 999.409 98.2929 992.303 Q98.2929 985.173 96.4642 981.631 Q94.6586 978.067 91.0244 978.067 M91.0244 974.363 Q96.8345 974.363 99.8901 978.969 Q102.969 983.553 102.969 992.303 Q102.969 1001.03 99.8901 1005.64 Q96.8345 1010.22 91.0244 1010.22 Q85.2142 1010.22 82.1355 1005.64 Q79.08 1001.03 79.08 992.303 Q79.08 983.553 82.1355 978.969 Q85.2142 974.363 91.0244 974.363 Z\" fill=\"#000000\" fill-rule=\"evenodd\" fill-opacity=\"1\" /><path clip-path=\"url(#clip030)\" d=\"M 0 0 M86.6494 812.377 L102.969 812.377 L102.969 816.312 L81.0244 816.312 L81.0244 812.377 Q83.6865 809.622 88.2698 804.992 Q92.8762 800.34 94.0568 798.997 Q96.3021 796.474 97.1818 794.738 Q98.0845 792.979 98.0845 791.289 Q98.0845 788.534 96.1401 786.798 Q94.2188 785.062 91.117 785.062 Q88.9179 785.062 86.4642 785.826 Q84.0337 786.59 81.2559 788.141 L81.2559 783.418 Q84.08 782.284 86.5337 781.706 Q88.9874 781.127 91.0244 781.127 Q96.3947 781.127 99.5892 783.812 Q102.784 786.497 102.784 790.988 Q102.784 793.118 101.973 795.039 Q101.186 796.937 99.0799 799.53 Q98.5012 800.201 95.3994 803.418 Q92.2975 806.613 86.6494 812.377 Z\" fill=\"#000000\" fill-rule=\"evenodd\" fill-opacity=\"1\" /><path clip-path=\"url(#clip030)\" d=\"M 0 0 M93.3855 592.59 L81.58 611.039 L93.3855 611.039 L93.3855 592.59 M92.1586 588.516 L98.0382 588.516 L98.0382 611.039 L102.969 611.039 L102.969 614.928 L98.0382 614.928 L98.0382 623.076 L93.3855 623.076 L93.3855 614.928 L77.7837 614.928 L77.7837 610.414 L92.1586 588.516 Z\" fill=\"#000000\" fill-rule=\"evenodd\" fill-opacity=\"1\" /><path clip-path=\"url(#clip030)\" d=\"M 0 0 M91.441 410.696 Q88.2929 410.696 86.4411 412.849 Q84.6124 415.002 84.6124 418.752 Q84.6124 422.479 86.4411 424.654 Q88.2929 426.807 91.441 426.807 Q94.5892 426.807 96.4179 424.654 Q98.2697 422.479 98.2697 418.752 Q98.2697 415.002 96.4179 412.849 Q94.5892 410.696 91.441 410.696 M100.723 396.043 L100.723 400.303 Q98.9642 399.469 97.1586 399.03 Q95.3762 398.59 93.617 398.59 Q88.9874 398.59 86.5337 401.715 Q84.1031 404.84 83.7559 411.159 Q85.1216 409.145 87.1818 408.08 Q89.242 406.993 91.7188 406.993 Q96.9271 406.993 99.9364 410.164 Q102.969 413.312 102.969 418.752 Q102.969 424.076 99.8206 427.293 Q96.6725 430.511 91.441 430.511 Q85.4457 430.511 82.2744 425.928 Q79.1032 421.321 79.1032 412.594 Q79.1032 404.4 82.992 399.539 Q86.8809 394.655 93.4318 394.655 Q95.191 394.655 96.9734 395.002 Q98.779 395.349 100.723 396.043 Z\" fill=\"#000000\" fill-rule=\"evenodd\" fill-opacity=\"1\" /><path clip-path=\"url(#clip030)\" d=\"M 0 0 M91.117 220.192 Q87.7837 220.192 85.8624 221.974 Q83.9642 223.756 83.9642 226.881 Q83.9642 230.006 85.8624 231.789 Q87.7837 233.571 91.117 233.571 Q94.4503 233.571 96.3716 231.789 Q98.2929 229.983 98.2929 226.881 Q98.2929 223.756 96.3716 221.974 Q94.4734 220.192 91.117 220.192 M86.4411 218.201 Q83.4318 217.46 81.742 215.4 Q80.0754 213.34 80.0754 210.377 Q80.0754 206.233 83.0152 203.826 Q85.9781 201.418 91.117 201.418 Q96.279 201.418 99.2188 203.826 Q102.159 206.233 102.159 210.377 Q102.159 213.34 100.469 215.4 Q98.8021 217.46 95.816 218.201 Q99.1956 218.988 101.071 221.279 Q102.969 223.571 102.969 226.881 Q102.969 231.904 99.8901 234.59 Q96.8345 237.275 91.117 237.275 Q85.3994 237.275 82.3207 234.59 Q79.2652 231.904 79.2652 226.881 Q79.2652 223.571 81.1633 221.279 Q83.0615 218.988 86.4411 218.201 M84.7281 210.817 Q84.7281 213.502 86.3948 215.006 Q88.0846 216.511 91.117 216.511 Q94.1262 216.511 95.816 215.006 Q97.529 213.502 97.529 210.817 Q97.529 208.131 95.816 206.627 Q94.1262 205.122 91.117 205.122 Q88.0846 205.122 86.3948 206.627 Q84.7281 208.131 84.7281 210.817 Z\" fill=\"#000000\" fill-rule=\"evenodd\" fill-opacity=\"1\" /><circle clip-path=\"url(#clip032)\" cx=\"189.963\" cy=\"1445.72\" r=\"14\" fill=\"#009af9\" fill-rule=\"evenodd\" fill-opacity=\"1\" stroke=\"#000000\" stroke-opacity=\"1\" stroke-width=\"3.2\"/>\n",
       "<circle clip-path=\"url(#clip032)\" cx=\"2209.54\" cy=\"313.296\" r=\"14\" fill=\"#009af9\" fill-rule=\"evenodd\" fill-opacity=\"1\" stroke=\"#000000\" stroke-opacity=\"1\" stroke-width=\"3.2\"/>\n",
       "<circle clip-path=\"url(#clip032)\" cx=\"946.122\" cy=\"799.861\" r=\"14\" fill=\"#009af9\" fill-rule=\"evenodd\" fill-opacity=\"1\" stroke=\"#000000\" stroke-opacity=\"1\" stroke-width=\"3.2\"/>\n",
       "<circle clip-path=\"url(#clip032)\" cx=\"1157.68\" cy=\"748.4\" r=\"14\" fill=\"#009af9\" fill-rule=\"evenodd\" fill-opacity=\"1\" stroke=\"#000000\" stroke-opacity=\"1\" stroke-width=\"3.2\"/>\n",
       "<circle clip-path=\"url(#clip032)\" cx=\"1269.31\" cy=\"712.047\" r=\"14\" fill=\"#009af9\" fill-rule=\"evenodd\" fill-opacity=\"1\" stroke=\"#000000\" stroke-opacity=\"1\" stroke-width=\"3.2\"/>\n",
       "<circle clip-path=\"url(#clip032)\" cx=\"1914\" cy=\"229.268\" r=\"14\" fill=\"#009af9\" fill-rule=\"evenodd\" fill-opacity=\"1\" stroke=\"#000000\" stroke-opacity=\"1\" stroke-width=\"3.2\"/>\n",
       "<circle clip-path=\"url(#clip032)\" cx=\"1429.32\" cy=\"508.398\" r=\"14\" fill=\"#009af9\" fill-rule=\"evenodd\" fill-opacity=\"1\" stroke=\"#000000\" stroke-opacity=\"1\" stroke-width=\"3.2\"/>\n",
       "<circle clip-path=\"url(#clip032)\" cx=\"1805.24\" cy=\"402.544\" r=\"14\" fill=\"#009af9\" fill-rule=\"evenodd\" fill-opacity=\"1\" stroke=\"#000000\" stroke-opacity=\"1\" stroke-width=\"3.2\"/>\n",
       "<circle clip-path=\"url(#clip032)\" cx=\"1180.95\" cy=\"653.893\" r=\"14\" fill=\"#009af9\" fill-rule=\"evenodd\" fill-opacity=\"1\" stroke=\"#000000\" stroke-opacity=\"1\" stroke-width=\"3.2\"/>\n",
       "<circle clip-path=\"url(#clip032)\" cx=\"1179.99\" cy=\"668.237\" r=\"14\" fill=\"#009af9\" fill-rule=\"evenodd\" fill-opacity=\"1\" stroke=\"#000000\" stroke-opacity=\"1\" stroke-width=\"3.2\"/>\n",
       "<circle clip-path=\"url(#clip032)\" cx=\"1232.85\" cy=\"642.905\" r=\"14\" fill=\"#009af9\" fill-rule=\"evenodd\" fill-opacity=\"1\" stroke=\"#000000\" stroke-opacity=\"1\" stroke-width=\"3.2\"/>\n",
       "<circle clip-path=\"url(#clip032)\" cx=\"828.403\" cy=\"1016.13\" r=\"14\" fill=\"#009af9\" fill-rule=\"evenodd\" fill-opacity=\"1\" stroke=\"#000000\" stroke-opacity=\"1\" stroke-width=\"3.2\"/>\n",
       "<circle clip-path=\"url(#clip032)\" cx=\"1631.51\" cy=\"504.446\" r=\"14\" fill=\"#009af9\" fill-rule=\"evenodd\" fill-opacity=\"1\" stroke=\"#000000\" stroke-opacity=\"1\" stroke-width=\"3.2\"/>\n",
       "<circle clip-path=\"url(#clip032)\" cx=\"1895.59\" cy=\"463.757\" r=\"14\" fill=\"#009af9\" fill-rule=\"evenodd\" fill-opacity=\"1\" stroke=\"#000000\" stroke-opacity=\"1\" stroke-width=\"3.2\"/>\n",
       "<circle clip-path=\"url(#clip032)\" cx=\"571.302\" cy=\"1170.84\" r=\"14\" fill=\"#009af9\" fill-rule=\"evenodd\" fill-opacity=\"1\" stroke=\"#000000\" stroke-opacity=\"1\" stroke-width=\"3.2\"/>\n",
       "<circle clip-path=\"url(#clip032)\" cx=\"1844.14\" cy=\"441.259\" r=\"14\" fill=\"#009af9\" fill-rule=\"evenodd\" fill-opacity=\"1\" stroke=\"#000000\" stroke-opacity=\"1\" stroke-width=\"3.2\"/>\n",
       "<circle clip-path=\"url(#clip032)\" cx=\"707.319\" cy=\"975.36\" r=\"14\" fill=\"#009af9\" fill-rule=\"evenodd\" fill-opacity=\"1\" stroke=\"#000000\" stroke-opacity=\"1\" stroke-width=\"3.2\"/>\n",
       "<circle clip-path=\"url(#clip032)\" cx=\"2171.4\" cy=\"168.875\" r=\"14\" fill=\"#009af9\" fill-rule=\"evenodd\" fill-opacity=\"1\" stroke=\"#000000\" stroke-opacity=\"1\" stroke-width=\"3.2\"/>\n",
       "<circle clip-path=\"url(#clip032)\" cx=\"1038.06\" cy=\"748.37\" r=\"14\" fill=\"#009af9\" fill-rule=\"evenodd\" fill-opacity=\"1\" stroke=\"#000000\" stroke-opacity=\"1\" stroke-width=\"3.2\"/>\n",
       "<circle clip-path=\"url(#clip032)\" cx=\"396.281\" cy=\"1120.65\" r=\"14\" fill=\"#009af9\" fill-rule=\"evenodd\" fill-opacity=\"1\" stroke=\"#000000\" stroke-opacity=\"1\" stroke-width=\"3.2\"/>\n",
       "<circle clip-path=\"url(#clip032)\" cx=\"1546.71\" cy=\"557.259\" r=\"14\" fill=\"#009af9\" fill-rule=\"evenodd\" fill-opacity=\"1\" stroke=\"#000000\" stroke-opacity=\"1\" stroke-width=\"3.2\"/>\n",
       "<circle clip-path=\"url(#clip032)\" cx=\"1491.19\" cy=\"457.754\" r=\"14\" fill=\"#009af9\" fill-rule=\"evenodd\" fill-opacity=\"1\" stroke=\"#000000\" stroke-opacity=\"1\" stroke-width=\"3.2\"/>\n",
       "<circle clip-path=\"url(#clip032)\" cx=\"1804.67\" cy=\"484.022\" r=\"14\" fill=\"#009af9\" fill-rule=\"evenodd\" fill-opacity=\"1\" stroke=\"#000000\" stroke-opacity=\"1\" stroke-width=\"3.2\"/>\n",
       "<circle clip-path=\"url(#clip032)\" cx=\"1288.22\" cy=\"421.5\" r=\"14\" fill=\"#009af9\" fill-rule=\"evenodd\" fill-opacity=\"1\" stroke=\"#000000\" stroke-opacity=\"1\" stroke-width=\"3.2\"/>\n",
       "<circle clip-path=\"url(#clip032)\" cx=\"1473.9\" cy=\"651.699\" r=\"14\" fill=\"#009af9\" fill-rule=\"evenodd\" fill-opacity=\"1\" stroke=\"#000000\" stroke-opacity=\"1\" stroke-width=\"3.2\"/>\n",
       "<circle clip-path=\"url(#clip032)\" cx=\"534.497\" cy=\"1083.41\" r=\"14\" fill=\"#009af9\" fill-rule=\"evenodd\" fill-opacity=\"1\" stroke=\"#000000\" stroke-opacity=\"1\" stroke-width=\"3.2\"/>\n",
       "<circle clip-path=\"url(#clip032)\" cx=\"1742.08\" cy=\"554.534\" r=\"14\" fill=\"#009af9\" fill-rule=\"evenodd\" fill-opacity=\"1\" stroke=\"#000000\" stroke-opacity=\"1\" stroke-width=\"3.2\"/>\n",
       "<circle clip-path=\"url(#clip032)\" cx=\"1626.99\" cy=\"431.769\" r=\"14\" fill=\"#009af9\" fill-rule=\"evenodd\" fill-opacity=\"1\" stroke=\"#000000\" stroke-opacity=\"1\" stroke-width=\"3.2\"/>\n",
       "<circle clip-path=\"url(#clip032)\" cx=\"1779.97\" cy=\"517.809\" r=\"14\" fill=\"#009af9\" fill-rule=\"evenodd\" fill-opacity=\"1\" stroke=\"#000000\" stroke-opacity=\"1\" stroke-width=\"3.2\"/>\n",
       "<circle clip-path=\"url(#clip032)\" cx=\"971.006\" cy=\"665.409\" r=\"14\" fill=\"#009af9\" fill-rule=\"evenodd\" fill-opacity=\"1\" stroke=\"#000000\" stroke-opacity=\"1\" stroke-width=\"3.2\"/>\n",
       "<circle clip-path=\"url(#clip032)\" cx=\"1663.5\" cy=\"451.153\" r=\"14\" fill=\"#009af9\" fill-rule=\"evenodd\" fill-opacity=\"1\" stroke=\"#000000\" stroke-opacity=\"1\" stroke-width=\"3.2\"/>\n",
       "<circle clip-path=\"url(#clip032)\" cx=\"947.339\" cy=\"1102.59\" r=\"14\" fill=\"#009af9\" fill-rule=\"evenodd\" fill-opacity=\"1\" stroke=\"#000000\" stroke-opacity=\"1\" stroke-width=\"3.2\"/>\n",
       "<circle clip-path=\"url(#clip032)\" cx=\"1143.98\" cy=\"766.148\" r=\"14\" fill=\"#009af9\" fill-rule=\"evenodd\" fill-opacity=\"1\" stroke=\"#000000\" stroke-opacity=\"1\" stroke-width=\"3.2\"/>\n",
       "<circle clip-path=\"url(#clip032)\" cx=\"1729.67\" cy=\"494.778\" r=\"14\" fill=\"#009af9\" fill-rule=\"evenodd\" fill-opacity=\"1\" stroke=\"#000000\" stroke-opacity=\"1\" stroke-width=\"3.2\"/>\n",
       "<circle clip-path=\"url(#clip032)\" cx=\"910.078\" cy=\"746.418\" r=\"14\" fill=\"#009af9\" fill-rule=\"evenodd\" fill-opacity=\"1\" stroke=\"#000000\" stroke-opacity=\"1\" stroke-width=\"3.2\"/>\n",
       "<circle clip-path=\"url(#clip032)\" cx=\"735.787\" cy=\"1133.99\" r=\"14\" fill=\"#009af9\" fill-rule=\"evenodd\" fill-opacity=\"1\" stroke=\"#000000\" stroke-opacity=\"1\" stroke-width=\"3.2\"/>\n",
       "<circle clip-path=\"url(#clip032)\" cx=\"1502.67\" cy=\"488.332\" r=\"14\" fill=\"#009af9\" fill-rule=\"evenodd\" fill-opacity=\"1\" stroke=\"#000000\" stroke-opacity=\"1\" stroke-width=\"3.2\"/>\n",
       "<circle clip-path=\"url(#clip032)\" cx=\"1471.57\" cy=\"680.261\" r=\"14\" fill=\"#009af9\" fill-rule=\"evenodd\" fill-opacity=\"1\" stroke=\"#000000\" stroke-opacity=\"1\" stroke-width=\"3.2\"/>\n",
       "<circle clip-path=\"url(#clip032)\" cx=\"1668.67\" cy=\"551.296\" r=\"14\" fill=\"#009af9\" fill-rule=\"evenodd\" fill-opacity=\"1\" stroke=\"#000000\" stroke-opacity=\"1\" stroke-width=\"3.2\"/>\n",
       "<circle clip-path=\"url(#clip032)\" cx=\"1647.28\" cy=\"489.242\" r=\"14\" fill=\"#009af9\" fill-rule=\"evenodd\" fill-opacity=\"1\" stroke=\"#000000\" stroke-opacity=\"1\" stroke-width=\"3.2\"/>\n",
       "<circle clip-path=\"url(#clip032)\" cx=\"1762.37\" cy=\"619.76\" r=\"14\" fill=\"#009af9\" fill-rule=\"evenodd\" fill-opacity=\"1\" stroke=\"#000000\" stroke-opacity=\"1\" stroke-width=\"3.2\"/>\n",
       "<circle clip-path=\"url(#clip032)\" cx=\"1658.77\" cy=\"591.289\" r=\"14\" fill=\"#009af9\" fill-rule=\"evenodd\" fill-opacity=\"1\" stroke=\"#000000\" stroke-opacity=\"1\" stroke-width=\"3.2\"/>\n",
       "<circle clip-path=\"url(#clip032)\" cx=\"1355.74\" cy=\"707.781\" r=\"14\" fill=\"#009af9\" fill-rule=\"evenodd\" fill-opacity=\"1\" stroke=\"#000000\" stroke-opacity=\"1\" stroke-width=\"3.2\"/>\n",
       "<circle clip-path=\"url(#clip032)\" cx=\"1390.93\" cy=\"611.836\" r=\"14\" fill=\"#009af9\" fill-rule=\"evenodd\" fill-opacity=\"1\" stroke=\"#000000\" stroke-opacity=\"1\" stroke-width=\"3.2\"/>\n",
       "<circle clip-path=\"url(#clip032)\" cx=\"1936.57\" cy=\"237.904\" r=\"14\" fill=\"#009af9\" fill-rule=\"evenodd\" fill-opacity=\"1\" stroke=\"#000000\" stroke-opacity=\"1\" stroke-width=\"3.2\"/>\n",
       "<circle clip-path=\"url(#clip032)\" cx=\"1089.15\" cy=\"874.55\" r=\"14\" fill=\"#009af9\" fill-rule=\"evenodd\" fill-opacity=\"1\" stroke=\"#000000\" stroke-opacity=\"1\" stroke-width=\"3.2\"/>\n",
       "<circle clip-path=\"url(#clip032)\" cx=\"427.791\" cy=\"1149.98\" r=\"14\" fill=\"#009af9\" fill-rule=\"evenodd\" fill-opacity=\"1\" stroke=\"#000000\" stroke-opacity=\"1\" stroke-width=\"3.2\"/>\n",
       "<circle clip-path=\"url(#clip032)\" cx=\"2079.39\" cy=\"148.784\" r=\"14\" fill=\"#009af9\" fill-rule=\"evenodd\" fill-opacity=\"1\" stroke=\"#000000\" stroke-opacity=\"1\" stroke-width=\"3.2\"/>\n",
       "<circle clip-path=\"url(#clip032)\" cx=\"1383.07\" cy=\"668.139\" r=\"14\" fill=\"#009af9\" fill-rule=\"evenodd\" fill-opacity=\"1\" stroke=\"#000000\" stroke-opacity=\"1\" stroke-width=\"3.2\"/>\n",
       "<circle clip-path=\"url(#clip032)\" cx=\"1170.09\" cy=\"659.739\" r=\"14\" fill=\"#009af9\" fill-rule=\"evenodd\" fill-opacity=\"1\" stroke=\"#000000\" stroke-opacity=\"1\" stroke-width=\"3.2\"/>\n",
       "<circle clip-path=\"url(#clip032)\" cx=\"1681.66\" cy=\"405.586\" r=\"14\" fill=\"#009af9\" fill-rule=\"evenodd\" fill-opacity=\"1\" stroke=\"#000000\" stroke-opacity=\"1\" stroke-width=\"3.2\"/>\n",
       "<circle clip-path=\"url(#clip032)\" cx=\"661.264\" cy=\"1059.27\" r=\"14\" fill=\"#009af9\" fill-rule=\"evenodd\" fill-opacity=\"1\" stroke=\"#000000\" stroke-opacity=\"1\" stroke-width=\"3.2\"/>\n",
       "<circle clip-path=\"url(#clip032)\" cx=\"1326\" cy=\"597.813\" r=\"14\" fill=\"#009af9\" fill-rule=\"evenodd\" fill-opacity=\"1\" stroke=\"#000000\" stroke-opacity=\"1\" stroke-width=\"3.2\"/>\n",
       "<circle clip-path=\"url(#clip032)\" cx=\"906.393\" cy=\"685.474\" r=\"14\" fill=\"#009af9\" fill-rule=\"evenodd\" fill-opacity=\"1\" stroke=\"#000000\" stroke-opacity=\"1\" stroke-width=\"3.2\"/>\n",
       "<circle clip-path=\"url(#clip032)\" cx=\"1619.32\" cy=\"500.21\" r=\"14\" fill=\"#009af9\" fill-rule=\"evenodd\" fill-opacity=\"1\" stroke=\"#000000\" stroke-opacity=\"1\" stroke-width=\"3.2\"/>\n",
       "<circle clip-path=\"url(#clip032)\" cx=\"1850.09\" cy=\"318.507\" r=\"14\" fill=\"#009af9\" fill-rule=\"evenodd\" fill-opacity=\"1\" stroke=\"#000000\" stroke-opacity=\"1\" stroke-width=\"3.2\"/>\n",
       "<circle clip-path=\"url(#clip032)\" cx=\"2171.02\" cy=\"469.97\" r=\"14\" fill=\"#009af9\" fill-rule=\"evenodd\" fill-opacity=\"1\" stroke=\"#000000\" stroke-opacity=\"1\" stroke-width=\"3.2\"/>\n",
       "<circle clip-path=\"url(#clip032)\" cx=\"1354.67\" cy=\"471.95\" r=\"14\" fill=\"#009af9\" fill-rule=\"evenodd\" fill-opacity=\"1\" stroke=\"#000000\" stroke-opacity=\"1\" stroke-width=\"3.2\"/>\n",
       "<circle clip-path=\"url(#clip032)\" cx=\"1625.28\" cy=\"557.972\" r=\"14\" fill=\"#009af9\" fill-rule=\"evenodd\" fill-opacity=\"1\" stroke=\"#000000\" stroke-opacity=\"1\" stroke-width=\"3.2\"/>\n",
       "<circle clip-path=\"url(#clip032)\" cx=\"1223.88\" cy=\"689.895\" r=\"14\" fill=\"#009af9\" fill-rule=\"evenodd\" fill-opacity=\"1\" stroke=\"#000000\" stroke-opacity=\"1\" stroke-width=\"3.2\"/>\n",
       "<circle clip-path=\"url(#clip032)\" cx=\"1549.66\" cy=\"718.227\" r=\"14\" fill=\"#009af9\" fill-rule=\"evenodd\" fill-opacity=\"1\" stroke=\"#000000\" stroke-opacity=\"1\" stroke-width=\"3.2\"/>\n",
       "<circle clip-path=\"url(#clip032)\" cx=\"1404.02\" cy=\"632.998\" r=\"14\" fill=\"#009af9\" fill-rule=\"evenodd\" fill-opacity=\"1\" stroke=\"#000000\" stroke-opacity=\"1\" stroke-width=\"3.2\"/>\n",
       "<circle clip-path=\"url(#clip032)\" cx=\"1145.89\" cy=\"693.953\" r=\"14\" fill=\"#009af9\" fill-rule=\"evenodd\" fill-opacity=\"1\" stroke=\"#000000\" stroke-opacity=\"1\" stroke-width=\"3.2\"/>\n",
       "<circle clip-path=\"url(#clip032)\" cx=\"1990.46\" cy=\"246.9\" r=\"14\" fill=\"#009af9\" fill-rule=\"evenodd\" fill-opacity=\"1\" stroke=\"#000000\" stroke-opacity=\"1\" stroke-width=\"3.2\"/>\n",
       "<circle clip-path=\"url(#clip032)\" cx=\"1313.14\" cy=\"647.295\" r=\"14\" fill=\"#009af9\" fill-rule=\"evenodd\" fill-opacity=\"1\" stroke=\"#000000\" stroke-opacity=\"1\" stroke-width=\"3.2\"/>\n",
       "<circle clip-path=\"url(#clip032)\" cx=\"966.924\" cy=\"795.459\" r=\"14\" fill=\"#009af9\" fill-rule=\"evenodd\" fill-opacity=\"1\" stroke=\"#000000\" stroke-opacity=\"1\" stroke-width=\"3.2\"/>\n",
       "<circle clip-path=\"url(#clip032)\" cx=\"1654.12\" cy=\"514.457\" r=\"14\" fill=\"#009af9\" fill-rule=\"evenodd\" fill-opacity=\"1\" stroke=\"#000000\" stroke-opacity=\"1\" stroke-width=\"3.2\"/>\n",
       "<circle clip-path=\"url(#clip032)\" cx=\"1177.3\" cy=\"829.632\" r=\"14\" fill=\"#009af9\" fill-rule=\"evenodd\" fill-opacity=\"1\" stroke=\"#000000\" stroke-opacity=\"1\" stroke-width=\"3.2\"/>\n",
       "<circle clip-path=\"url(#clip032)\" cx=\"1568.73\" cy=\"579.412\" r=\"14\" fill=\"#009af9\" fill-rule=\"evenodd\" fill-opacity=\"1\" stroke=\"#000000\" stroke-opacity=\"1\" stroke-width=\"3.2\"/>\n",
       "<circle clip-path=\"url(#clip032)\" cx=\"1063.96\" cy=\"772.492\" r=\"14\" fill=\"#009af9\" fill-rule=\"evenodd\" fill-opacity=\"1\" stroke=\"#000000\" stroke-opacity=\"1\" stroke-width=\"3.2\"/>\n",
       "<circle clip-path=\"url(#clip032)\" cx=\"1081.73\" cy=\"969.663\" r=\"14\" fill=\"#009af9\" fill-rule=\"evenodd\" fill-opacity=\"1\" stroke=\"#000000\" stroke-opacity=\"1\" stroke-width=\"3.2\"/>\n",
       "<circle clip-path=\"url(#clip032)\" cx=\"975.811\" cy=\"852.554\" r=\"14\" fill=\"#009af9\" fill-rule=\"evenodd\" fill-opacity=\"1\" stroke=\"#000000\" stroke-opacity=\"1\" stroke-width=\"3.2\"/>\n",
       "<circle clip-path=\"url(#clip032)\" cx=\"1846.02\" cy=\"361.232\" r=\"14\" fill=\"#009af9\" fill-rule=\"evenodd\" fill-opacity=\"1\" stroke=\"#000000\" stroke-opacity=\"1\" stroke-width=\"3.2\"/>\n",
       "<circle clip-path=\"url(#clip032)\" cx=\"1606.78\" cy=\"482.158\" r=\"14\" fill=\"#009af9\" fill-rule=\"evenodd\" fill-opacity=\"1\" stroke=\"#000000\" stroke-opacity=\"1\" stroke-width=\"3.2\"/>\n",
       "<circle clip-path=\"url(#clip032)\" cx=\"1129.99\" cy=\"839.105\" r=\"14\" fill=\"#009af9\" fill-rule=\"evenodd\" fill-opacity=\"1\" stroke=\"#000000\" stroke-opacity=\"1\" stroke-width=\"3.2\"/>\n",
       "<circle clip-path=\"url(#clip032)\" cx=\"1199.16\" cy=\"919.279\" r=\"14\" fill=\"#009af9\" fill-rule=\"evenodd\" fill-opacity=\"1\" stroke=\"#000000\" stroke-opacity=\"1\" stroke-width=\"3.2\"/>\n",
       "<circle clip-path=\"url(#clip032)\" cx=\"750.197\" cy=\"966.144\" r=\"14\" fill=\"#009af9\" fill-rule=\"evenodd\" fill-opacity=\"1\" stroke=\"#000000\" stroke-opacity=\"1\" stroke-width=\"3.2\"/>\n",
       "<circle clip-path=\"url(#clip032)\" cx=\"2289.76\" cy=\"345.21\" r=\"14\" fill=\"#009af9\" fill-rule=\"evenodd\" fill-opacity=\"1\" stroke=\"#000000\" stroke-opacity=\"1\" stroke-width=\"3.2\"/>\n",
       "<circle clip-path=\"url(#clip032)\" cx=\"1216.94\" cy=\"669.135\" r=\"14\" fill=\"#009af9\" fill-rule=\"evenodd\" fill-opacity=\"1\" stroke=\"#000000\" stroke-opacity=\"1\" stroke-width=\"3.2\"/>\n",
       "<circle clip-path=\"url(#clip032)\" cx=\"1304.9\" cy=\"806.583\" r=\"14\" fill=\"#009af9\" fill-rule=\"evenodd\" fill-opacity=\"1\" stroke=\"#000000\" stroke-opacity=\"1\" stroke-width=\"3.2\"/>\n",
       "<circle clip-path=\"url(#clip032)\" cx=\"1408.99\" cy=\"661.826\" r=\"14\" fill=\"#009af9\" fill-rule=\"evenodd\" fill-opacity=\"1\" stroke=\"#000000\" stroke-opacity=\"1\" stroke-width=\"3.2\"/>\n",
       "<circle clip-path=\"url(#clip032)\" cx=\"2274.97\" cy=\"141.329\" r=\"14\" fill=\"#009af9\" fill-rule=\"evenodd\" fill-opacity=\"1\" stroke=\"#000000\" stroke-opacity=\"1\" stroke-width=\"3.2\"/>\n",
       "<circle clip-path=\"url(#clip032)\" cx=\"982.78\" cy=\"920.831\" r=\"14\" fill=\"#009af9\" fill-rule=\"evenodd\" fill-opacity=\"1\" stroke=\"#000000\" stroke-opacity=\"1\" stroke-width=\"3.2\"/>\n",
       "<circle clip-path=\"url(#clip032)\" cx=\"335.464\" cy=\"1190.87\" r=\"14\" fill=\"#009af9\" fill-rule=\"evenodd\" fill-opacity=\"1\" stroke=\"#000000\" stroke-opacity=\"1\" stroke-width=\"3.2\"/>\n",
       "<circle clip-path=\"url(#clip032)\" cx=\"1806.58\" cy=\"483.281\" r=\"14\" fill=\"#009af9\" fill-rule=\"evenodd\" fill-opacity=\"1\" stroke=\"#000000\" stroke-opacity=\"1\" stroke-width=\"3.2\"/>\n",
       "<circle clip-path=\"url(#clip032)\" cx=\"2003.2\" cy=\"252.205\" r=\"14\" fill=\"#009af9\" fill-rule=\"evenodd\" fill-opacity=\"1\" stroke=\"#000000\" stroke-opacity=\"1\" stroke-width=\"3.2\"/>\n",
       "<circle clip-path=\"url(#clip032)\" cx=\"1595.05\" cy=\"483.881\" r=\"14\" fill=\"#009af9\" fill-rule=\"evenodd\" fill-opacity=\"1\" stroke=\"#000000\" stroke-opacity=\"1\" stroke-width=\"3.2\"/>\n",
       "<circle clip-path=\"url(#clip032)\" cx=\"1251.72\" cy=\"678.568\" r=\"14\" fill=\"#009af9\" fill-rule=\"evenodd\" fill-opacity=\"1\" stroke=\"#000000\" stroke-opacity=\"1\" stroke-width=\"3.2\"/>\n",
       "<circle clip-path=\"url(#clip032)\" cx=\"656.696\" cy=\"1074.47\" r=\"14\" fill=\"#009af9\" fill-rule=\"evenodd\" fill-opacity=\"1\" stroke=\"#000000\" stroke-opacity=\"1\" stroke-width=\"3.2\"/>\n",
       "<circle clip-path=\"url(#clip032)\" cx=\"1126.08\" cy=\"785.427\" r=\"14\" fill=\"#009af9\" fill-rule=\"evenodd\" fill-opacity=\"1\" stroke=\"#000000\" stroke-opacity=\"1\" stroke-width=\"3.2\"/>\n",
       "<circle clip-path=\"url(#clip032)\" cx=\"586.311\" cy=\"973.45\" r=\"14\" fill=\"#009af9\" fill-rule=\"evenodd\" fill-opacity=\"1\" stroke=\"#000000\" stroke-opacity=\"1\" stroke-width=\"3.2\"/>\n",
       "<circle clip-path=\"url(#clip032)\" cx=\"2235.97\" cy=\"87.9763\" r=\"14\" fill=\"#009af9\" fill-rule=\"evenodd\" fill-opacity=\"1\" stroke=\"#000000\" stroke-opacity=\"1\" stroke-width=\"3.2\"/>\n",
       "<circle clip-path=\"url(#clip032)\" cx=\"1771.16\" cy=\"496.259\" r=\"14\" fill=\"#009af9\" fill-rule=\"evenodd\" fill-opacity=\"1\" stroke=\"#000000\" stroke-opacity=\"1\" stroke-width=\"3.2\"/>\n",
       "<circle clip-path=\"url(#clip032)\" cx=\"1495.07\" cy=\"547.3\" r=\"14\" fill=\"#009af9\" fill-rule=\"evenodd\" fill-opacity=\"1\" stroke=\"#000000\" stroke-opacity=\"1\" stroke-width=\"3.2\"/>\n",
       "<circle clip-path=\"url(#clip032)\" cx=\"840.599\" cy=\"1029.56\" r=\"14\" fill=\"#009af9\" fill-rule=\"evenodd\" fill-opacity=\"1\" stroke=\"#000000\" stroke-opacity=\"1\" stroke-width=\"3.2\"/>\n",
       "<circle clip-path=\"url(#clip032)\" cx=\"1227.62\" cy=\"749.591\" r=\"14\" fill=\"#009af9\" fill-rule=\"evenodd\" fill-opacity=\"1\" stroke=\"#000000\" stroke-opacity=\"1\" stroke-width=\"3.2\"/>\n",
       "<circle clip-path=\"url(#clip032)\" cx=\"1351.37\" cy=\"689.015\" r=\"14\" fill=\"#009af9\" fill-rule=\"evenodd\" fill-opacity=\"1\" stroke=\"#000000\" stroke-opacity=\"1\" stroke-width=\"3.2\"/>\n",
       "<circle clip-path=\"url(#clip032)\" cx=\"900.908\" cy=\"887.478\" r=\"14\" fill=\"#009af9\" fill-rule=\"evenodd\" fill-opacity=\"1\" stroke=\"#000000\" stroke-opacity=\"1\" stroke-width=\"3.2\"/>\n",
       "<circle clip-path=\"url(#clip032)\" cx=\"1458.88\" cy=\"614.69\" r=\"14\" fill=\"#009af9\" fill-rule=\"evenodd\" fill-opacity=\"1\" stroke=\"#000000\" stroke-opacity=\"1\" stroke-width=\"3.2\"/>\n",
       "<circle clip-path=\"url(#clip032)\" cx=\"1100.67\" cy=\"841.733\" r=\"14\" fill=\"#009af9\" fill-rule=\"evenodd\" fill-opacity=\"1\" stroke=\"#000000\" stroke-opacity=\"1\" stroke-width=\"3.2\"/>\n",
       "<polyline clip-path=\"url(#clip032)\" style=\"stroke:#e26f46; stroke-width:16; stroke-opacity:1; fill:none\" points=\"\n",
       "  348.882,1188.11 2220.28,204.349 \n",
       "  \"/>\n",
       "<polyline clip-path=\"url(#clip032)\" style=\"stroke:#3da44d; stroke-width:16; stroke-opacity:1; fill:none\" points=\"\n",
       "  348.882,1175.02 2220.28,263.56 \n",
       "  \"/>\n",
       "<polyline clip-path=\"url(#clip032)\" style=\"stroke:#c271d2; stroke-width:16; stroke-opacity:1; fill:none\" points=\"\n",
       "  348.882,1103.08 2220.28,566.866 \n",
       "  \"/>\n",
       "<path clip-path=\"url(#clip030)\" d=\"\n",
       "M198.969 433.164 L672.648 433.164 L672.648 130.764 L198.969 130.764  Z\n",
       "  \" fill=\"#ffffff\" fill-rule=\"evenodd\" fill-opacity=\"1\"/>\n",
       "<polyline clip-path=\"url(#clip030)\" style=\"stroke:#000000; stroke-width:4; stroke-opacity:1; fill:none\" points=\"\n",
       "  198.969,433.164 672.648,433.164 672.648,130.764 198.969,130.764 198.969,433.164 \n",
       "  \"/>\n",
       "<circle clip-path=\"url(#clip030)\" cx=\"306.969\" cy=\"191.244\" r=\"23\" fill=\"#009af9\" fill-rule=\"evenodd\" fill-opacity=\"1\" stroke=\"#000000\" stroke-opacity=\"1\" stroke-width=\"5.12\"/>\n",
       "<path clip-path=\"url(#clip030)\" d=\"M 0 0 M409.881 186.533 L409.881 172.506 L414.14 172.506 L414.14 208.524 L409.881 208.524 L409.881 204.635 Q408.538 206.95 406.478 208.084 Q404.441 209.195 401.571 209.195 Q396.872 209.195 393.909 205.445 Q390.969 201.695 390.969 195.584 Q390.969 189.473 393.909 185.723 Q396.872 181.973 401.571 181.973 Q404.441 181.973 406.478 183.108 Q408.538 184.219 409.881 186.533 M395.367 195.584 Q395.367 200.283 397.288 202.969 Q399.233 205.631 402.612 205.631 Q405.992 205.631 407.936 202.969 Q409.881 200.283 409.881 195.584 Q409.881 190.885 407.936 188.223 Q405.992 185.538 402.612 185.538 Q399.233 185.538 397.288 188.223 Q395.367 190.885 395.367 195.584 Z\" fill=\"#000000\" fill-rule=\"evenodd\" fill-opacity=\"1\" /><path clip-path=\"url(#clip030)\" d=\"M 0 0 M430.39 195.492 Q425.228 195.492 423.237 196.672 Q421.246 197.853 421.246 200.7 Q421.246 202.969 422.728 204.311 Q424.232 205.631 426.802 205.631 Q430.344 205.631 432.473 203.131 Q434.626 200.607 434.626 196.441 L434.626 195.492 L430.39 195.492 M438.885 193.733 L438.885 208.524 L434.626 208.524 L434.626 204.589 Q433.168 206.95 430.992 208.084 Q428.816 209.195 425.668 209.195 Q421.686 209.195 419.325 206.973 Q416.987 204.728 416.987 200.978 Q416.987 196.603 419.904 194.381 Q422.844 192.158 428.654 192.158 L434.626 192.158 L434.626 191.742 Q434.626 188.802 432.682 187.205 Q430.76 185.584 427.265 185.584 Q425.043 185.584 422.936 186.117 Q420.83 186.649 418.885 187.714 L418.885 183.779 Q421.223 182.876 423.422 182.436 Q425.621 181.973 427.705 181.973 Q433.33 181.973 436.107 184.89 Q438.885 187.807 438.885 193.733 Z\" fill=\"#000000\" fill-rule=\"evenodd\" fill-opacity=\"1\" /><path clip-path=\"url(#clip030)\" d=\"M 0 0 M447.566 175.237 L447.566 182.598 L456.339 182.598 L456.339 185.908 L447.566 185.908 L447.566 199.982 Q447.566 203.154 448.422 204.057 Q449.302 204.959 451.964 204.959 L456.339 204.959 L456.339 208.524 L451.964 208.524 Q447.033 208.524 445.158 206.695 Q443.283 204.844 443.283 199.982 L443.283 185.908 L440.158 185.908 L440.158 182.598 L443.283 182.598 L443.283 175.237 L447.566 175.237 Z\" fill=\"#000000\" fill-rule=\"evenodd\" fill-opacity=\"1\" /><path clip-path=\"url(#clip030)\" d=\"M 0 0 M472.589 195.492 Q467.427 195.492 465.436 196.672 Q463.445 197.853 463.445 200.7 Q463.445 202.969 464.927 204.311 Q466.431 205.631 469.001 205.631 Q472.542 205.631 474.672 203.131 Q476.825 200.607 476.825 196.441 L476.825 195.492 L472.589 195.492 M481.084 193.733 L481.084 208.524 L476.825 208.524 L476.825 204.589 Q475.366 206.95 473.191 208.084 Q471.015 209.195 467.866 209.195 Q463.885 209.195 461.524 206.973 Q459.186 204.728 459.186 200.978 Q459.186 196.603 462.103 194.381 Q465.042 192.158 470.853 192.158 L476.825 192.158 L476.825 191.742 Q476.825 188.802 474.88 187.205 Q472.959 185.584 469.464 185.584 Q467.242 185.584 465.135 186.117 Q463.029 186.649 461.084 187.714 L461.084 183.779 Q463.422 182.876 465.621 182.436 Q467.82 181.973 469.904 181.973 Q475.528 181.973 478.306 184.89 Q481.084 187.807 481.084 193.733 Z\" fill=\"#000000\" fill-rule=\"evenodd\" fill-opacity=\"1\" /><path clip-path=\"url(#clip030)\" d=\"M 0 0 M504.741 204.635 L504.741 218.385 L500.459 218.385 L500.459 182.598 L504.741 182.598 L504.741 186.533 Q506.084 184.219 508.121 183.108 Q510.181 181.973 513.028 181.973 Q517.75 181.973 520.69 185.723 Q523.653 189.473 523.653 195.584 Q523.653 201.695 520.69 205.445 Q517.75 209.195 513.028 209.195 Q510.181 209.195 508.121 208.084 Q506.084 206.95 504.741 204.635 M519.232 195.584 Q519.232 190.885 517.288 188.223 Q515.366 185.538 511.987 185.538 Q508.607 185.538 506.663 188.223 Q504.741 190.885 504.741 195.584 Q504.741 200.283 506.663 202.969 Q508.607 205.631 511.987 205.631 Q515.366 205.631 517.288 202.969 Q519.232 200.283 519.232 195.584 Z\" fill=\"#000000\" fill-rule=\"evenodd\" fill-opacity=\"1\" /><path clip-path=\"url(#clip030)\" d=\"M 0 0 M538.167 185.584 Q534.741 185.584 532.75 188.27 Q530.76 190.932 530.76 195.584 Q530.76 200.237 532.727 202.922 Q534.718 205.584 538.167 205.584 Q541.57 205.584 543.561 202.899 Q545.551 200.214 545.551 195.584 Q545.551 190.978 543.561 188.293 Q541.57 185.584 538.167 185.584 M538.167 181.973 Q543.723 181.973 546.894 185.584 Q550.065 189.195 550.065 195.584 Q550.065 201.95 546.894 205.584 Q543.723 209.195 538.167 209.195 Q532.588 209.195 529.417 205.584 Q526.269 201.95 526.269 195.584 Q526.269 189.195 529.417 185.584 Q532.588 181.973 538.167 181.973 Z\" fill=\"#000000\" fill-rule=\"evenodd\" fill-opacity=\"1\" /><path clip-path=\"url(#clip030)\" d=\"M 0 0 M554.533 182.598 L558.792 182.598 L558.792 208.524 L554.533 208.524 L554.533 182.598 M554.533 172.506 L558.792 172.506 L558.792 177.899 L554.533 177.899 L554.533 172.506 Z\" fill=\"#000000\" fill-rule=\"evenodd\" fill-opacity=\"1\" /><path clip-path=\"url(#clip030)\" d=\"M 0 0 M584.81 192.876 L584.81 208.524 L580.551 208.524 L580.551 193.015 Q580.551 189.334 579.116 187.506 Q577.681 185.677 574.81 185.677 Q571.361 185.677 569.371 187.876 Q567.38 190.075 567.38 193.871 L567.38 208.524 L563.097 208.524 L563.097 182.598 L567.38 182.598 L567.38 186.626 Q568.908 184.288 570.968 183.131 Q573.051 181.973 575.759 181.973 Q580.227 181.973 582.519 184.751 Q584.81 187.506 584.81 192.876 Z\" fill=\"#000000\" fill-rule=\"evenodd\" fill-opacity=\"1\" /><path clip-path=\"url(#clip030)\" d=\"M 0 0 M593.491 175.237 L593.491 182.598 L602.264 182.598 L602.264 185.908 L593.491 185.908 L593.491 199.982 Q593.491 203.154 594.347 204.057 Q595.227 204.959 597.889 204.959 L602.264 204.959 L602.264 208.524 L597.889 208.524 Q592.958 208.524 591.083 206.695 Q589.208 204.844 589.208 199.982 L589.208 185.908 L586.083 185.908 L586.083 182.598 L589.208 182.598 L589.208 175.237 L593.491 175.237 Z\" fill=\"#000000\" fill-rule=\"evenodd\" fill-opacity=\"1\" /><path clip-path=\"url(#clip030)\" d=\"M 0 0 M623.259 183.362 L623.259 187.39 Q621.454 186.464 619.509 186.001 Q617.565 185.538 615.481 185.538 Q612.31 185.538 610.713 186.51 Q609.139 187.483 609.139 189.427 Q609.139 190.908 610.273 191.765 Q611.407 192.598 614.833 193.362 L616.292 193.686 Q620.829 194.658 622.727 196.441 Q624.648 198.2 624.648 201.371 Q624.648 204.982 621.778 207.089 Q618.931 209.195 613.931 209.195 Q611.847 209.195 609.579 208.779 Q607.333 208.385 604.833 207.575 L604.833 203.177 Q607.194 204.404 609.486 205.029 Q611.778 205.631 614.023 205.631 Q617.032 205.631 618.653 204.612 Q620.273 203.57 620.273 201.695 Q620.273 199.959 619.093 199.033 Q617.935 198.107 613.977 197.251 L612.495 196.904 Q608.537 196.07 606.778 194.358 Q605.019 192.621 605.019 189.612 Q605.019 185.955 607.611 183.964 Q610.204 181.973 614.972 181.973 Q617.333 181.973 619.417 182.321 Q621.5 182.668 623.259 183.362 Z\" fill=\"#000000\" fill-rule=\"evenodd\" fill-opacity=\"1\" /><polyline clip-path=\"url(#clip030)\" style=\"stroke:#e26f46; stroke-width:4; stroke-opacity:1; fill:none\" points=\"\n",
       "  222.969,251.724 366.969,251.724 \n",
       "  \"/>\n",
       "<path clip-path=\"url(#clip030)\" d=\"M 0 0 M404.233 237.037 L416.2 269.004 L411.686 269.004 L404.418 249.838 L395.483 269.004 L390.969 269.004 L402.334 244.143 L400.621 239.56 Q399.534 236.643 397.057 236.643 L394.834 236.643 L394.834 232.986 L397.543 233.032 Q402.774 233.102 404.233 237.037 Z\" fill=\"#000000\" fill-rule=\"evenodd\" fill-opacity=\"1\" /><path clip-path=\"url(#clip030)\" d=\"M 0 0 M421.223 247.476 L450.899 247.476 L450.899 251.365 L421.223 251.365 L421.223 247.476 M421.223 256.921 L450.899 256.921 L450.899 260.856 L421.223 260.856 L421.223 256.921 Z\" fill=\"#000000\" fill-rule=\"evenodd\" fill-opacity=\"1\" /><path clip-path=\"url(#clip030)\" d=\"M 0 0 M465.968 237.523 Q462.357 237.523 460.529 241.088 Q458.723 244.629 458.723 251.759 Q458.723 258.865 460.529 262.43 Q462.357 265.972 465.968 265.972 Q469.603 265.972 471.408 262.43 Q473.237 258.865 473.237 251.759 Q473.237 244.629 471.408 241.088 Q469.603 237.523 465.968 237.523 M465.968 233.819 Q471.779 233.819 474.834 238.426 Q477.913 243.009 477.913 251.759 Q477.913 260.486 474.834 265.092 Q471.779 269.675 465.968 269.675 Q460.158 269.675 457.08 265.092 Q454.024 260.486 454.024 251.759 Q454.024 243.009 457.08 238.426 Q460.158 233.819 465.968 233.819 Z\" fill=\"#000000\" fill-rule=\"evenodd\" fill-opacity=\"1\" /><path clip-path=\"url(#clip030)\" d=\"M 0 0 M482.982 263.124 L487.866 263.124 L487.866 269.004 L482.982 269.004 L482.982 263.124 Z\" fill=\"#000000\" fill-rule=\"evenodd\" fill-opacity=\"1\" /><path clip-path=\"url(#clip030)\" d=\"M 0 0 M492.982 234.444 L511.338 234.444 L511.338 238.379 L497.264 238.379 L497.264 246.851 Q498.283 246.504 499.302 246.342 Q500.32 246.157 501.339 246.157 Q507.126 246.157 510.505 249.328 Q513.885 252.5 513.885 257.916 Q513.885 263.495 510.413 266.597 Q506.94 269.675 500.621 269.675 Q498.445 269.675 496.177 269.305 Q493.931 268.935 491.524 268.194 L491.524 263.495 Q493.607 264.629 495.829 265.185 Q498.052 265.74 500.528 265.74 Q504.533 265.74 506.871 263.634 Q509.209 261.527 509.209 257.916 Q509.209 254.305 506.871 252.199 Q504.533 250.092 500.528 250.092 Q498.653 250.092 496.778 250.509 Q494.927 250.925 492.982 251.805 L492.982 234.444 Z\" fill=\"#000000\" fill-rule=\"evenodd\" fill-opacity=\"1\" /><polyline clip-path=\"url(#clip030)\" style=\"stroke:#3da44d; stroke-width:4; stroke-opacity:1; fill:none\" points=\"\n",
       "  222.969,312.204 366.969,312.204 \n",
       "  \"/>\n",
       "<path clip-path=\"url(#clip030)\" d=\"M 0 0 M404.233 297.517 L416.2 329.484 L411.686 329.484 L404.418 310.318 L395.483 329.484 L390.969 329.484 L402.334 304.623 L400.621 300.04 Q399.534 297.123 397.057 297.123 L394.834 297.123 L394.834 293.466 L397.543 293.512 Q402.774 293.582 404.233 297.517 Z\" fill=\"#000000\" fill-rule=\"evenodd\" fill-opacity=\"1\" /><path clip-path=\"url(#clip030)\" d=\"M 0 0 M421.223 307.956 L450.899 307.956 L450.899 311.845 L421.223 311.845 L421.223 307.956 M421.223 317.401 L450.899 317.401 L450.899 321.336 L421.223 321.336 L421.223 317.401 Z\" fill=\"#000000\" fill-rule=\"evenodd\" fill-opacity=\"1\" /><path clip-path=\"url(#clip030)\" d=\"M 0 0 M456.779 325.549 L464.417 325.549 L464.417 299.183 L456.107 300.85 L456.107 296.591 L464.371 294.924 L469.047 294.924 L469.047 325.549 L476.686 325.549 L476.686 329.484 L456.779 329.484 L456.779 325.549 Z\" fill=\"#000000\" fill-rule=\"evenodd\" fill-opacity=\"1\" /><path clip-path=\"url(#clip030)\" d=\"M 0 0 M491.755 298.003 Q488.144 298.003 486.315 301.568 Q484.51 305.109 484.51 312.239 Q484.51 319.345 486.315 322.91 Q488.144 326.452 491.755 326.452 Q495.39 326.452 497.195 322.91 Q499.024 319.345 499.024 312.239 Q499.024 305.109 497.195 301.568 Q495.39 298.003 491.755 298.003 M491.755 294.299 Q497.565 294.299 500.621 298.906 Q503.7 303.489 503.7 312.239 Q503.7 320.966 500.621 325.572 Q497.565 330.155 491.755 330.155 Q485.945 330.155 482.866 325.572 Q479.811 320.966 479.811 312.239 Q479.811 303.489 482.866 298.906 Q485.945 294.299 491.755 294.299 Z\" fill=\"#000000\" fill-rule=\"evenodd\" fill-opacity=\"1\" /><path clip-path=\"url(#clip030)\" d=\"M 0 0 M508.769 323.604 L513.653 323.604 L513.653 329.484 L508.769 329.484 L508.769 323.604 Z\" fill=\"#000000\" fill-rule=\"evenodd\" fill-opacity=\"1\" /><path clip-path=\"url(#clip030)\" d=\"M 0 0 M528.723 298.003 Q525.112 298.003 523.283 301.568 Q521.477 305.109 521.477 312.239 Q521.477 319.345 523.283 322.91 Q525.112 326.452 528.723 326.452 Q532.357 326.452 534.162 322.91 Q535.991 319.345 535.991 312.239 Q535.991 305.109 534.162 301.568 Q532.357 298.003 528.723 298.003 M528.723 294.299 Q534.533 294.299 537.588 298.906 Q540.667 303.489 540.667 312.239 Q540.667 320.966 537.588 325.572 Q534.533 330.155 528.723 330.155 Q522.913 330.155 519.834 325.572 Q516.778 320.966 516.778 312.239 Q516.778 303.489 519.834 298.906 Q522.913 294.299 528.723 294.299 Z\" fill=\"#000000\" fill-rule=\"evenodd\" fill-opacity=\"1\" /><polyline clip-path=\"url(#clip030)\" style=\"stroke:#c271d2; stroke-width:4; stroke-opacity:1; fill:none\" points=\"\n",
       "  222.969,372.684 366.969,372.684 \n",
       "  \"/>\n",
       "<path clip-path=\"url(#clip030)\" d=\"M 0 0 M404.233 357.997 L416.2 389.964 L411.686 389.964 L404.418 370.798 L395.483 389.964 L390.969 389.964 L402.334 365.103 L400.621 360.52 Q399.534 357.603 397.057 357.603 L394.834 357.603 L394.834 353.946 L397.543 353.992 Q402.774 354.062 404.233 357.997 Z\" fill=\"#000000\" fill-rule=\"evenodd\" fill-opacity=\"1\" /><path clip-path=\"url(#clip030)\" d=\"M 0 0 M421.223 368.436 L450.899 368.436 L450.899 372.325 L421.223 372.325 L421.223 368.436 M421.223 377.881 L450.899 377.881 L450.899 381.816 L421.223 381.816 L421.223 377.881 Z\" fill=\"#000000\" fill-rule=\"evenodd\" fill-opacity=\"1\" /><path clip-path=\"url(#clip030)\" d=\"M 0 0 M456.779 386.029 L464.417 386.029 L464.417 359.663 L456.107 361.33 L456.107 357.071 L464.371 355.404 L469.047 355.404 L469.047 386.029 L476.686 386.029 L476.686 389.964 L456.779 389.964 L456.779 386.029 Z\" fill=\"#000000\" fill-rule=\"evenodd\" fill-opacity=\"1\" /><path clip-path=\"url(#clip030)\" d=\"M 0 0 M491.755 358.483 Q488.144 358.483 486.315 362.048 Q484.51 365.589 484.51 372.719 Q484.51 379.825 486.315 383.39 Q488.144 386.932 491.755 386.932 Q495.39 386.932 497.195 383.39 Q499.024 379.825 499.024 372.719 Q499.024 365.589 497.195 362.048 Q495.39 358.483 491.755 358.483 M491.755 354.779 Q497.565 354.779 500.621 359.386 Q503.7 363.969 503.7 372.719 Q503.7 381.446 500.621 386.052 Q497.565 390.635 491.755 390.635 Q485.945 390.635 482.866 386.052 Q479.811 381.446 479.811 372.719 Q479.811 363.969 482.866 359.386 Q485.945 354.779 491.755 354.779 Z\" fill=\"#000000\" fill-rule=\"evenodd\" fill-opacity=\"1\" /><path clip-path=\"url(#clip030)\" d=\"M 0 0 M518.769 358.483 Q515.158 358.483 513.329 362.048 Q511.524 365.589 511.524 372.719 Q511.524 379.825 513.329 383.39 Q515.158 386.932 518.769 386.932 Q522.403 386.932 524.209 383.39 Q526.037 379.825 526.037 372.719 Q526.037 365.589 524.209 362.048 Q522.403 358.483 518.769 358.483 M518.769 354.779 Q524.579 354.779 527.635 359.386 Q530.713 363.969 530.713 372.719 Q530.713 381.446 527.635 386.052 Q524.579 390.635 518.769 390.635 Q512.959 390.635 509.88 386.052 Q506.825 381.446 506.825 372.719 Q506.825 363.969 509.88 359.386 Q512.959 354.779 518.769 354.779 Z\" fill=\"#000000\" fill-rule=\"evenodd\" fill-opacity=\"1\" /><path clip-path=\"url(#clip030)\" d=\"M 0 0 M535.783 384.084 L540.667 384.084 L540.667 389.964 L535.783 389.964 L535.783 384.084 Z\" fill=\"#000000\" fill-rule=\"evenodd\" fill-opacity=\"1\" /><path clip-path=\"url(#clip030)\" d=\"M 0 0 M555.736 358.483 Q552.125 358.483 550.297 362.048 Q548.491 365.589 548.491 372.719 Q548.491 379.825 550.297 383.39 Q552.125 386.932 555.736 386.932 Q559.371 386.932 561.176 383.39 Q563.005 379.825 563.005 372.719 Q563.005 365.589 561.176 362.048 Q559.371 358.483 555.736 358.483 M555.736 354.779 Q561.547 354.779 564.602 359.386 Q567.681 363.969 567.681 372.719 Q567.681 381.446 564.602 386.052 Q561.547 390.635 555.736 390.635 Q549.926 390.635 546.848 386.052 Q543.792 381.446 543.792 372.719 Q543.792 363.969 546.848 359.386 Q549.926 354.779 555.736 354.779 Z\" fill=\"#000000\" fill-rule=\"evenodd\" fill-opacity=\"1\" /></svg>\n"
      ]
     },
     "execution_count": 22,
     "metadata": {},
     "output_type": "execute_result"
    }
   ],
   "source": [
    "p = scatter(x, y, label=\"data points\", legend=:topleft)\n",
    "for j in eachindex(penalty_values)\n",
    "    λ = penalty_values[j]\n",
    "    plot!(p, [-2, 2], [-2 * a_values[j] + b_values[j], 2 * a_values[j] + b_values[j]], label = \"λ=$λ\", width=4)\n",
    "end\n",
    "p"
   ]
  },
  {
   "cell_type": "code",
   "execution_count": 23,
   "metadata": {
    "slideshow": {
     "slide_type": "slide"
    }
   },
   "outputs": [
    {
     "name": "stdout",
     "output_type": "stream",
     "text": [
      "This is Ipopt version 3.13.2, running with linear solver mumps.\n",
      "NOTE: Other linear solvers might be more efficient (see Ipopt documentation).\n",
      "\n",
      "Number of nonzeros in equality constraint Jacobian...:        0\n",
      "Number of nonzeros in inequality constraint Jacobian.:        0\n",
      "Number of nonzeros in Lagrangian Hessian.............:        3\n",
      "\n",
      "Total number of variables............................:        2\n",
      "                     variables with only lower bounds:        0\n",
      "                variables with lower and upper bounds:        0\n",
      "                     variables with only upper bounds:        0\n",
      "Total number of equality constraints.................:        0\n",
      "Total number of inequality constraints...............:        0\n",
      "        inequality constraints with only lower bounds:        0\n",
      "   inequality constraints with lower and upper bounds:        0\n",
      "        inequality constraints with only upper bounds:        0\n",
      "\n",
      "iter    objective    inf_pr   inf_du lg(mu)  ||d||  lg(rg) alpha_du alpha_pr  ls\n",
      "   0  1.9350740e+03 0.00e+00 1.00e+02  -1.0 0.00e+00    -  0.00e+00 0.00e+00   0\n",
      "   1  9.5890592e+01 0.00e+00 1.64e-14  -1.0 3.08e+00    -  1.00e+00 1.00e+00f  1\n",
      "\n",
      "Number of Iterations....: 1\n",
      "\n",
      "                                   (scaled)                 (unscaled)\n",
      "Objective...............:   1.3825884742905746e+01    9.5890591680551324e+01\n",
      "Dual infeasibility......:   1.6391817878868001e-14    1.1368683772161603e-13\n",
      "Constraint violation....:   0.0000000000000000e+00    0.0000000000000000e+00\n",
      "Complementarity.........:   0.0000000000000000e+00    0.0000000000000000e+00\n",
      "Overall NLP error.......:   1.6391817878868001e-14    1.1368683772161603e-13\n",
      "\n",
      "\n",
      "Number of objective function evaluations             = 2\n",
      "Number of objective gradient evaluations             = 2\n",
      "Number of equality constraint evaluations            = 0\n",
      "Number of inequality constraint evaluations          = 0\n",
      "Number of equality constraint Jacobian evaluations   = 0\n",
      "Number of inequality constraint Jacobian evaluations = 0\n",
      "Number of Lagrangian Hessian evaluations             = 1\n",
      "Total CPU secs in IPOPT (w/o function evaluations)   =      0.001\n",
      "Total CPU secs in NLP function evaluations           =      0.000\n",
      "\n",
      "EXIT: Optimal Solution Found.\n",
      "This is Ipopt version 3.13.2, running with linear solver mumps.\n",
      "NOTE: Other linear solvers might be more efficient (see Ipopt documentation).\n",
      "\n",
      "Number of nonzeros in equality constraint Jacobian...:        0\n",
      "Number of nonzeros in inequality constraint Jacobian.:        0\n",
      "Number of nonzeros in Lagrangian Hessian.............:        3\n",
      "\n",
      "Total number of variables............................:        2\n",
      "                     variables with only lower bounds:        0\n",
      "                variables with lower and upper bounds:        0\n",
      "                     variables with only upper bounds:        0\n",
      "Total number of equality constraints.................:        0\n",
      "Total number of inequality constraints...............:        0\n",
      "        inequality constraints with only lower bounds:        0\n",
      "   inequality constraints with lower and upper bounds:        0\n",
      "        inequality constraints with only upper bounds:        0\n",
      "\n",
      "iter    objective    inf_pr   inf_du lg(mu)  ||d||  lg(rg) alpha_du alpha_pr  ls\n",
      "   0  1.9350740e+03 0.00e+00 1.00e+02  -1.0 0.00e+00    -  0.00e+00 0.00e+00   0\n",
      "   1  1.0369895e+02 0.00e+00 6.15e-15  -1.0 3.06e+00    -  1.00e+00 1.00e+00f  1\n",
      "\n",
      "Number of Iterations....: 1\n",
      "\n",
      "                                   (scaled)                 (unscaled)\n",
      "Objective...............:   1.4951724244355837e+01    1.0369894665666095e+02\n",
      "Dual infeasibility......:   6.1469317045755001e-15    4.2632564145606011e-14\n",
      "Constraint violation....:   0.0000000000000000e+00    0.0000000000000000e+00\n",
      "Complementarity.........:   0.0000000000000000e+00    0.0000000000000000e+00\n",
      "Overall NLP error.......:   6.1469317045755001e-15    4.2632564145606011e-14\n",
      "\n",
      "\n",
      "Number of objective function evaluations             = 2\n",
      "Number of objective gradient evaluations             = 2\n",
      "Number of equality constraint evaluations            = 0\n",
      "Number of inequality constraint evaluations          = 0\n",
      "Number of equality constraint Jacobian evaluations   = 0\n",
      "Number of inequality constraint Jacobian evaluations = 0\n",
      "Number of Lagrangian Hessian evaluations             = 1\n",
      "Total CPU secs in IPOPT (w/o function evaluations)   =      0.001\n",
      "Total CPU secs in NLP function evaluations           =      0.000\n",
      "\n",
      "EXIT: Optimal Solution Found.\n",
      "This is Ipopt version 3.13.2, running with linear solver mumps.\n",
      "NOTE: Other linear solvers might be more efficient (see Ipopt documentation).\n",
      "\n",
      "Number of nonzeros in equality constraint Jacobian...:        0\n",
      "Number of nonzeros in inequality constraint Jacobian.:        0\n",
      "Number of nonzeros in Lagrangian Hessian.............:        3\n",
      "\n",
      "Total number of variables............................:        2\n",
      "                     variables with only lower bounds:        0\n",
      "                variables with lower and upper bounds:        0\n",
      "                     variables with only upper bounds:        0\n",
      "Total number of equality constraints.................:        0\n",
      "Total number of inequality constraints...............:        0\n",
      "        inequality constraints with only lower bounds:        0\n",
      "   inequality constraints with lower and upper bounds:        0\n",
      "        inequality constraints with only upper bounds:        0\n",
      "\n",
      "iter    objective    inf_pr   inf_du lg(mu)  ||d||  lg(rg) alpha_du alpha_pr  ls\n",
      "   0  1.9350740e+03 0.00e+00 1.00e+02  -1.0 0.00e+00    -  0.00e+00 0.00e+00   0\n",
      "   1  2.4297094e+02 0.00e+00 6.15e-15  -1.0 2.83e+00    -  1.00e+00 1.00e+00f  1\n",
      "\n",
      "Number of Iterations....: 1\n",
      "\n",
      "                                   (scaled)                 (unscaled)\n",
      "Objective...............:   3.5032510793435371e+01    2.4297093824404374e+02\n",
      "Dual infeasibility......:   6.1469317045755001e-15    4.2632564145606011e-14\n",
      "Constraint violation....:   0.0000000000000000e+00    0.0000000000000000e+00\n",
      "Complementarity.........:   0.0000000000000000e+00    0.0000000000000000e+00\n",
      "Overall NLP error.......:   6.1469317045755001e-15    4.2632564145606011e-14\n",
      "\n",
      "\n",
      "Number of objective function evaluations             = 2\n",
      "Number of objective gradient evaluations             = 2\n",
      "Number of equality constraint evaluations            = 0\n",
      "Number of inequality constraint evaluations          = 0\n",
      "Number of equality constraint Jacobian evaluations   = 0\n",
      "Number of inequality constraint Jacobian evaluations = 0\n",
      "Number of Lagrangian Hessian evaluations             = 1\n",
      "Total CPU secs in IPOPT (w/o function evaluations)   =      0.001\n",
      "Total CPU secs in NLP function evaluations           =      0.000\n",
      "\n",
      "EXIT: Optimal Solution Found.\n",
      "This is Ipopt version 3.13.2, running with linear solver mumps.\n",
      "NOTE: Other linear solvers might be more efficient (see Ipopt documentation).\n",
      "\n",
      "Number of nonzeros in equality constraint Jacobian...:        0\n",
      "Number of nonzeros in inequality constraint Jacobian.:        0\n",
      "Number of nonzeros in Lagrangian Hessian.............:        3\n",
      "\n",
      "Total number of variables............................:        2\n",
      "                     variables with only lower bounds:        0\n",
      "                variables with lower and upper bounds:        0\n",
      "                     variables with only upper bounds:        0\n",
      "Total number of equality constraints.................:        0\n",
      "Total number of inequality constraints...............:        0\n",
      "        inequality constraints with only lower bounds:        0\n",
      "   inequality constraints with lower and upper bounds:        0\n",
      "        inequality constraints with only upper bounds:        0\n",
      "\n",
      "iter    objective    inf_pr   inf_du lg(mu)  ||d||  lg(rg) alpha_du alpha_pr  ls\n",
      "   0  1.9350740e+03 0.00e+00 1.00e+02  -1.0 0.00e+00    -  0.00e+00 0.00e+00   0\n",
      "   1  9.5144333e+02 0.00e+00 1.23e-14  -1.0 1.63e+00    -  1.00e+00 1.00e+00f  1\n",
      "\n",
      "Number of Iterations....: 1\n",
      "\n",
      "                                   (scaled)                 (unscaled)\n",
      "Objective...............:   1.3718286154989943e+02    9.5144332583857181e+02\n",
      "Dual infeasibility......:   1.2293863409151000e-14    8.5265128291212022e-14\n",
      "Constraint violation....:   0.0000000000000000e+00    0.0000000000000000e+00\n",
      "Complementarity.........:   0.0000000000000000e+00    0.0000000000000000e+00\n",
      "Overall NLP error.......:   1.2293863409151000e-14    8.5265128291212022e-14\n",
      "\n",
      "\n",
      "Number of objective function evaluations             = 2\n",
      "Number of objective gradient evaluations             = 2\n",
      "Number of equality constraint evaluations            = 0\n",
      "Number of inequality constraint evaluations          = 0\n",
      "Number of equality constraint Jacobian evaluations   = 0\n",
      "Number of inequality constraint Jacobian evaluations = 0\n",
      "Number of Lagrangian Hessian evaluations             = 1\n",
      "Total CPU secs in IPOPT (w/o function evaluations)   =      0.001\n",
      "Total CPU secs in NLP function evaluations           =      0.000\n",
      "\n",
      "EXIT: Optimal Solution Found.\n"
     ]
    }
   ],
   "source": [
    "a_values = Float64[]\n",
    "b_values = Float64[]\n",
    "penalty_values = [0.01, 0.5, 10.0, 100.0]\n",
    "regression = Model(Ipopt.Optimizer)\n",
    "@variable(regression, a)\n",
    "@variable(regression, b)\n",
    "@expression(regression,\n",
    "    quad_error[i=1:100],\n",
    "    (a * x[i] + b - y[i])^2\n",
    ")\n",
    "MOI.set(regression, MOI.Silent(), true)\n",
    "\n",
    "for λ in penalty_values\n",
    "    @objective(regression, Min, sum(quad_error) + λ * (a^2 + b^2))\n",
    "    optimize!(regression)    \n",
    "    push!(a_values, JuMP.value(a))\n",
    "    push!(b_values, JuMP.value(b))\n",
    "end"
   ]
  },
  {
   "cell_type": "markdown",
   "metadata": {
    "slideshow": {
     "slide_type": "slide"
    }
   },
   "source": [
    "## Conic optimization & sparse correlation matrix\n",
    "\n",
    "Estimating a correlation matrix from data.  \n",
    "\n",
    "A vintage paper with familiar names:  \n",
    "http://www.optimization-online.org/DB_FILE/2003/09/729.pdf  \n",
    "A Semidefinite Programming Approach, for the Nearest Correlation Matrix Problem  \n",
    "M. F. Anjos, N. J. Higham, P.L. Takouda, H. Wolkowicz, 2003\n",
    "\n",
    "Let's add sparsity:\n",
    "\n",
    "$$\\begin{align}\n",
    "\\min_C & \\|C - cor(X)\\|_F^2 \\\\\n",
    "\\text{s.t.} &\\\\\n",
    "& C_{ii} = 1 \\,\\,\\,\\,\\forall i \\\\\n",
    "& C \\succeq 0 \\\\\n",
    "& C_{ij} = 0 \\,\\,\\,\\,\\forall (i,j)\\in \\mathcal{S}\n",
    "\\end{align}$$"
   ]
  },
  {
   "cell_type": "markdown",
   "metadata": {
    "slideshow": {
     "slide_type": "slide"
    }
   },
   "source": [
    "### Generating data\n",
    "\n",
    "$X_{1,2,3}$ correlated with $X_{4, 5, 6}$"
   ]
  },
  {
   "cell_type": "code",
   "execution_count": 24,
   "metadata": {},
   "outputs": [
    {
     "data": {
      "text/plain": [
       "6×6 Array{Float64,2}:\n",
       "  1.0         -0.00327027  0.0570165    0.752861    -0.030622    0.0337707\n",
       " -0.00327027   1.0         0.0301278    0.0226206    0.747055    0.0469962\n",
       "  0.0570165    0.0301278   1.0          0.00476154   0.0634156   0.748426\n",
       "  0.752861     0.0226206   0.00476154   1.0         -0.0196301  -0.0291189\n",
       " -0.030622     0.747055    0.0634156   -0.0196301    1.0         0.0673077\n",
       "  0.0337707    0.0469962   0.748426    -0.0291189    0.0673077   1.0"
      ]
     },
     "execution_count": 24,
     "metadata": {},
     "output_type": "execute_result"
    }
   ],
   "source": [
    "using Statistics\n",
    "\n",
    "n = 6\n",
    "X1 = randn(1000, 3)\n",
    "X2 = randn(1000, 3) .+ 1.1 .* X1\n",
    "X = [X1 X2]\n",
    "cor(X)"
   ]
  },
  {
   "cell_type": "code",
   "execution_count": 25,
   "metadata": {
    "slideshow": {
     "slide_type": "slide"
    }
   },
   "outputs": [],
   "source": [
    "import SCS # conic solver\n",
    "using LinearAlgebra"
   ]
  },
  {
   "cell_type": "code",
   "execution_count": 26,
   "metadata": {},
   "outputs": [],
   "source": [
    "sparse_corr = Model(SCS.Optimizer)\n",
    "MOI.set(sparse_corr, MOI.Silent(), true)\n",
    "@variable(sparse_corr, C[1:n, 1:n] in PSDCone())\n",
    "@constraint(sparse_corr, unit_diagonal[i=1:6], diag(C)[i] == 1);"
   ]
  },
  {
   "cell_type": "code",
   "execution_count": 27,
   "metadata": {},
   "outputs": [],
   "source": [
    "# add sparsity pattern\n",
    "for (i, j) in [(1, 2), (1, 3), (5, 6)]\n",
    "    con = @constraint(sparse_corr, C[i,j] == 0)\n",
    "    JuMP.set_name(con, \"sparse_$(i)_$(j)\")\n",
    "end\n",
    "@objective(sparse_corr, Min,\n",
    "    sum((C - cor(X)).^2)\n",
    ");"
   ]
  },
  {
   "cell_type": "code",
   "execution_count": 28,
   "metadata": {
    "slideshow": {
     "slide_type": "subslide"
    }
   },
   "outputs": [],
   "source": [
    "optimize!(sparse_corr)"
   ]
  },
  {
   "cell_type": "code",
   "execution_count": 29,
   "metadata": {},
   "outputs": [
    {
     "data": {
      "text/plain": [
       "6×6 Array{Float64,2}:\n",
       "  1.0         6.70515e-7  4.56314e-8   0.752859    -0.0306217    0.0337707\n",
       "  6.70515e-7  1.0         0.0301277    0.0226207    0.747054     0.0469958\n",
       "  4.56314e-8  0.0301277   0.999999     0.00476165   0.0634151    0.748425\n",
       "  0.752859    0.0226207   0.00476165   1.0         -0.0196301   -0.0291187\n",
       " -0.0306217   0.747054    0.0634151   -0.0196301    1.0         -3.12266e-7\n",
       "  0.0337707   0.0469958   0.748425    -0.0291187   -3.12266e-7   0.999999"
      ]
     },
     "execution_count": 29,
     "metadata": {},
     "output_type": "execute_result"
    }
   ],
   "source": [
    "JuMP.value.(C)"
   ]
  },
  {
   "cell_type": "markdown",
   "metadata": {
    "slideshow": {
     "slide_type": "slide"
    }
   },
   "source": [
    "# Model transformations\n",
    "\n",
    "[Dualization.jl](https://github.com/JuliaOpt/Dualization.jl) for automatic computation of dual models.\n",
    "\n",
    "$$\n",
    "\\begin{align}\n",
    "& \\text{Variable-in-cone model:}\\\\\n",
    "\\min_x\\,\\,\\, & c \\cdot x\\\\\n",
    "& A x = b\\\\\n",
    "& x \\in \\mathcal{K}\\\\\n",
    "&\\\\\n",
    "& \\text{Affine-map-in-cone model:}\\\\\n",
    "&\\\\\n",
    "\\min_x\\,\\,\\, & c \\cdot x\\\\\n",
    "& A x - b \\in \\mathcal{K}\n",
    "\\end{align}$$\n"
   ]
  },
  {
   "cell_type": "code",
   "execution_count": 30,
   "metadata": {
    "slideshow": {
     "slide_type": "slide"
    }
   },
   "outputs": [],
   "source": [
    "using Dualization"
   ]
  },
  {
   "cell_type": "code",
   "execution_count": 31,
   "metadata": {},
   "outputs": [
    {
     "data": {
      "text/latex": [
       "$$ \\begin{alignat*}{1}\\min\\quad & C_{1,1}^2 + 2 C_{1,2}^2 + 2 C_{1,3}^2 + 2 C_{1,4}^2 + 2 C_{1,5}^2 + 2 C_{1,6}^2 + C_{2,2}^2 + 2 C_{2,3}^2 + 2 C_{2,4}^2 + 2 C_{2,5}^2 + 2 C_{2,6}^2 + C_{3,3}^2 + 2 C_{3,4}^2 + 2 C_{3,5}^2 + 2 C_{3,6}^2 + C_{4,4}^2 + 2 C_{4,5}^2 + 2 C_{4,6}^2 + C_{5,5}^2 + 2 C_{5,6}^2 + C_{6,6}^2 - 2 C_{1,1} + 0.013081094025689716 C_{1,2} - 0.22806609540203193 C_{1,3} - 3.011442944099582 C_{1,4} + 0.12248815411260384 C_{1,5} - 0.1350829021186865 C_{1,6} - 2 C_{2,2} - 0.12051130305305092 C_{2,3} - 0.09048258822649892 C_{2,4} - 2.988220418670109 C_{2,5} - 0.18798463518124522 C_{2,6} - 2 C_{3,3} - 0.019046142538331493 C_{3,4} - 0.25366259749723524 C_{3,5} - 2.9937036080028734 C_{3,6} - 2 C_{4,4} + 0.07852026262185992 C_{4,5} + 0.11647554681792545 C_{4,6} - 2 C_{5,5} - 0.26923081217361 C_{5,6} - 2 C_{6,6} + 9.407615018214509\\\\\n",
       "\\text{Subject to} \\quad & C_{1,1} = 1.0\\\\\n",
       " & C_{2,2} = 1.0\\\\\n",
       " & C_{3,3} = 1.0\\\\\n",
       " & C_{4,4} = 1.0\\\\\n",
       " & C_{5,5} = 1.0\\\\\n",
       " & C_{6,6} = 1.0\\\\\n",
       " & C_{1,2} = 0.0\\\\\n",
       " & C_{1,3} = 0.0\\\\\n",
       " & C_{5,6} = 0.0\\\\\n",
       " & [C_{1,1}, C_{1,2}, C_{2,2}, C_{1,3}, C_{2,3}, C_{3,3}, C_{1,4}, C_{2,4}, C_{3,4}, C_{4,4}, C_{1,5}, C_{2,5}, C_{3,5}, C_{4,5}, C_{5,5}, C_{1,6}, C_{2,6}, C_{3,6}, C_{4,6}, C_{5,6}, C_{6,6}] \\in MathOptInterface.PositiveSemidefiniteConeTriangle(6)\\\\\n",
       "\\end{alignat*}\n",
       " $$"
      ],
      "text/plain": [
       "A JuMP Model\n",
       "Minimization problem with:\n",
       "Variables: 21\n",
       "Objective function type: GenericQuadExpr{Float64,VariableRef}\n",
       "`GenericAffExpr{Float64,VariableRef}`-in-`MathOptInterface.EqualTo{Float64}`: 9 constraints\n",
       "`Array{VariableRef,1}`-in-`MathOptInterface.PositiveSemidefiniteConeTriangle`: 1 constraint\n",
       "Model mode: AUTOMATIC\n",
       "CachingOptimizer state: ATTACHED_OPTIMIZER\n",
       "Solver name: SCS\n",
       "Names registered in the model: C, unit_diagonal"
      ]
     },
     "execution_count": 31,
     "metadata": {},
     "output_type": "execute_result"
    }
   ],
   "source": [
    "sparse_corr"
   ]
  },
  {
   "cell_type": "code",
   "execution_count": 32,
   "metadata": {
    "slideshow": {
     "slide_type": "slide"
    }
   },
   "outputs": [
    {
     "name": "stdout",
     "output_type": "stream",
     "text": [
      "Max -quadslack_C[1,1]² - 2 quadslack_C[1,2]² - quadslack_C[2,2]² - 2 quadslack_C[1,3]² - 2 quadslack_C[2,3]² - quadslack_C[3,3]² - 2 quadslack_C[1,4]² - 2 quadslack_C[2,4]² - 2 quadslack_C[3,4]² - quadslack_C[4,4]² - 2 quadslack_C[1,5]² - 2 quadslack_C[2,5]² - 2 quadslack_C[3,5]² - 2 quadslack_C[4,5]² - quadslack_C[5,5]² - 2 quadslack_C[1,6]² - 2 quadslack_C[2,6]² - 2 quadslack_C[3,6]² - 2 quadslack_C[4,6]² - 2 quadslack_C[5,6]² - quadslack_C[6,6]² + unit_diagonal[4]_1 + unit_diagonal[2]_1 + unit_diagonal[3]_1 + unit_diagonal[5]_1 + unit_diagonal[6]_1 + unit_diagonal[1]_1 + 9.407615018214509\n",
      "Subject to\n",
      " C[1,1] : unit_diagonal[1]_1 + _1 - 2 quadslack_C[1,1] = -2.0\n",
      " C[1,2] : sparse_1_2_1 + 2 _2 - 4 quadslack_C[1,2] = 0.013081094025689716\n",
      " C[2,2] : unit_diagonal[2]_1 + _3 - 2 quadslack_C[2,2] = -2.0\n",
      " C[1,3] : sparse_1_3_1 + 2 _4 - 4 quadslack_C[1,3] = -0.22806609540203193\n",
      " C[2,3] : 2 _5 - 4 quadslack_C[2,3] = -0.12051130305305092\n",
      " C[3,3] : unit_diagonal[3]_1 + _6 - 2 quadslack_C[3,3] = -2.0\n",
      " C[1,4] : 2 _7 - 4 quadslack_C[1,4] = -3.011442944099582\n",
      " C[2,4] : 2 _8 - 4 quadslack_C[2,4] = -0.09048258822649892\n",
      " C[3,4] : 2 _9 - 4 quadslack_C[3,4] = -0.019046142538331493\n",
      " C[4,4] : unit_diagonal[4]_1 + _10 - 2 quadslack_C[4,4] = -2.0\n",
      " C[1,5] : 2 _11 - 4 quadslack_C[1,5] = 0.12248815411260384\n",
      " C[2,5] : 2 _12 - 4 quadslack_C[2,5] = -2.988220418670109\n",
      " C[3,5] : 2 _13 - 4 quadslack_C[3,5] = -0.25366259749723524\n",
      " C[4,5] : 2 _14 - 4 quadslack_C[4,5] = 0.07852026262185992\n",
      " C[5,5] : unit_diagonal[5]_1 + _15 - 2 quadslack_C[5,5] = -2.0\n",
      " C[1,6] : 2 _16 - 4 quadslack_C[1,6] = -0.1350829021186865\n",
      " C[2,6] : 2 _17 - 4 quadslack_C[2,6] = -0.18798463518124522\n",
      " C[3,6] : 2 _18 - 4 quadslack_C[3,6] = -2.9937036080028734\n",
      " C[4,6] : 2 _19 - 4 quadslack_C[4,6] = 0.11647554681792545\n",
      " C[5,6] : sparse_5_6_1 + 2 _20 - 4 quadslack_C[5,6] = -0.26923081217361\n",
      " C[6,6] : unit_diagonal[6]_1 + _21 - 2 quadslack_C[6,6] = -2.0\n",
      " [_1, _2, _3, _4, _5, _6, _7, _8, _9, _10, _11, _12, _13, _14, _15, _16, _17, _18, _19, _20, _21] ∈ MathOptInterface.PositiveSemidefiniteConeTriangle(6)\n"
     ]
    }
   ],
   "source": [
    "dual_sparse_corr = Dualization.dualize(sparse_corr, SCS.Optimizer, dual_names = DualNames(\"\", \"\"))\n",
    "print(dual_sparse_corr)"
   ]
  },
  {
   "cell_type": "code",
   "execution_count": 33,
   "metadata": {
    "slideshow": {
     "slide_type": "slide"
    }
   },
   "outputs": [],
   "source": [
    "MOI.set(dual_sparse_corr, MOI.Silent(), true)\n",
    "optimize!(dual_sparse_corr)"
   ]
  },
  {
   "cell_type": "code",
   "execution_count": 34,
   "metadata": {},
   "outputs": [
    {
     "name": "stdout",
     "output_type": "stream",
     "text": [
      "objective_value(dual_sparse_corr) - objective_value(sparse_corr) = -2.591275373831081e-6\n"
     ]
    }
   ],
   "source": [
    "@show (objective_value(dual_sparse_corr)-objective_value(sparse_corr));"
   ]
  },
  {
   "cell_type": "markdown",
   "metadata": {},
   "source": [
    "## Model transformation\n",
    "\n",
    "What are the extreme vertices of my feasible set? JuliaPolyhedra & computational geometry"
   ]
  },
  {
   "cell_type": "code",
   "execution_count": 35,
   "metadata": {},
   "outputs": [
    {
     "data": {
      "text/plain": [
       "V-representation Polyhedra.Hull{Float64,Array{Float64,1},Int64}:\n",
       "4-element iterator of Array{Float64,1}:\n",
       " [0.0, 0.0, 0.0]\n",
       " [1.0, 0.0, 0.0]\n",
       " [0.0, 1.0, 0.0]\n",
       " [0.0, 0.0, 1.0]"
      ]
     },
     "execution_count": 35,
     "metadata": {},
     "output_type": "execute_result"
    }
   ],
   "source": [
    "using Polyhedra\n",
    "\n",
    "m = Model()\n",
    "@variable(m, 0 ≤ x[1:3] ≤ 1)\n",
    "@constraint(m, sum(x) ≤ 1)\n",
    "\n",
    "poly = polyhedron(m)\n",
    "vrep(poly)"
   ]
  },
  {
   "cell_type": "markdown",
   "metadata": {
    "slideshow": {
     "slide_type": "slide"
    }
   },
   "source": [
    "# What is JuMP **not good** for?\n",
    "\n",
    "- Non-linear optimization is still work in progress\n",
    "- More suited tools:\n",
    "    - [BlackBoxOptim.jl](https://github.com/robertfeldt/BlackBoxOptim.jl)\n",
    "    - [Optim.jl](https://github.com/JuliaNLSolvers/Optim.jl) and [JuliaNLSolvers](https://github.com/JuliaNLSolvers/)\n",
    "    - [JuliaSmoothOptimizers](https://juliasmoothoptimizers.github.io)\n",
    "    - [JuliaManifolds/ManOpt.jl](https://github.com/JuliaManifolds/Manopt.jl) for optimization on manifolds\n",
    "- Still dependent on Float64 (no optimization over complex, symbolic numbers, autodiff)"
   ]
  },
  {
   "cell_type": "markdown",
   "metadata": {
    "slideshow": {
     "slide_type": "slide"
    }
   },
   "source": [
    "# Wrapping up\n",
    "\n",
    "- JuMP, and E-AML are a great compromise between **model-friendly** and **algorithm-friendly**\n",
    "- One of the rare tools bridging LP, conic, integer optimization\n",
    "- Can be integrated in other packages and functions  \n",
    "    $\\rightarrow$ no workflow interruption\n",
    "\n",
    "## Learning more\n",
    "\n",
    "**https://jump.dev**\n",
    "\n",
    "Advanced tutorials (conic, approximations, non-linear, graph-based problems) on https://jump.dev/JuMP.jl/stable/examples/basic/\n",
    "\n",
    "- [DiffOpt.jl](https://github.com/jump-dev/DiffOpt.jl/): differentiation of convex problems\n",
    "- [Coluna.jl](https://atoptima.github.io/Coluna.jl/stable/start/): row and column generation framework on top of JuMP\n",
    "- [Tulip.jl](https://github.com/ds4dm/Tulip.jl): pure-Julia interior-point solver with abstract algebra\n",
    "- [FrankWolfe.jl](https://github.com/ZIB-IOL/FrankWolfe.jl): large-scale first-order optimization using JuMP as underlying linear oracle"
   ]
  }
 ],
 "metadata": {
  "kernelspec": {
   "display_name": "Julia 1.6.0",
   "language": "julia",
   "name": "julia-1.6"
  },
  "language_info": {
   "file_extension": ".jl",
   "mimetype": "application/julia",
   "name": "julia",
   "version": "1.6.0"
  }
 },
 "nbformat": 4,
 "nbformat_minor": 4
}
