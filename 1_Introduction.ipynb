{
 "cells": [
  {
   "cell_type": "markdown",
   "metadata": {
    "slideshow": {
     "slide_type": "slide"
    }
   },
   "source": [
    "# Julia for the working scientist & engineer\n",
    "## Part I: motivation and discovery\n",
    "-----------\n",
    "\n",
    "\n",
    "Mathieu Besançon  \n",
    "POEMA network\n",
    "\n",
    "<img src=\"https://julialang.org/assets/infra/logo.svg\" alt=\"logo\" width=\"200\"/>\n",
    "\n",
    "Run the notebooks (local or online): https://github.com/matbesancon/Julia_JuMP_workshop"
   ]
  },
  {
   "cell_type": "markdown",
   "metadata": {
    "slideshow": {
     "slide_type": "slide"
    }
   },
   "source": [
    "# Outline\n",
    "\n",
    "- Challenges in scientific programming\n",
    "- What is Julia? An overview of the language\n",
    "- Science-oriented tooling\n",
    "- Some features of interest"
   ]
  },
  {
   "cell_type": "markdown",
   "metadata": {
    "slideshow": {
     "slide_type": "slide"
    }
   },
   "source": [
    "# Challenges in scientific programming\n",
    "\n",
    "\"*but we already have a programming language at home*\""
   ]
  },
  {
   "cell_type": "markdown",
   "metadata": {
    "slideshow": {
     "slide_type": "slide"
    }
   },
   "source": [
    "## Scientists and the two-language problem\n",
    "\n",
    "### Programming as a tool for science\n",
    "- Need interactive feedback\n",
    "- Quick exploration\n",
    "- Adapted tooling\n",
    "- Reproducible computations\n",
    "\n",
    "### Better go fast\n",
    "- Ever-increasing problem size $\\rightarrow$ performance requirements\n",
    "- Heterogeneous computing\n",
    "- Should I distribute this batch of computation?\n",
    "- Should I switch to a GPU?"
   ]
  },
  {
   "cell_type": "markdown",
   "metadata": {
    "slideshow": {
     "slide_type": "slide"
    }
   },
   "source": [
    "## Scientists and the two-language problem\n",
    "\n",
    "- Exploration: Python, R, Matlab, SAS, Excel\n",
    "- Heavy computations: C, C++, Fortran, binaries (CPLEX, Gurobi, SCIP)"
   ]
  },
  {
   "cell_type": "markdown",
   "metadata": {
    "slideshow": {
     "slide_type": "fragment"
    }
   },
   "source": [
    "**Technical consequence**: workflow interruption  \n",
    "Data exploration $\\Rightarrow$ pre-processing $\\Rightarrow$ computation $\\Rightarrow$ post-processing $\\Rightarrow$ visualization"
   ]
  },
  {
   "cell_type": "markdown",
   "metadata": {
    "slideshow": {
     "slide_type": "fragment"
    }
   },
   "source": [
    "**Human consequence**: culture gap between science and development\n",
    "\n",
    "- In academia: research leaving a project as prototype\n",
    "- In industry: building different types of profiles"
   ]
  },
  {
   "cell_type": "markdown",
   "metadata": {
    "slideshow": {
     "slide_type": "slide"
    }
   },
   "source": [
    "# What is Julia?\n",
    "\n",
    "- **Dynamic**, **modern** programming language;  \n",
    "- Designed with technical computing in mind;\n",
    "- Compiled to native code with a LLVM backend.\n",
    "\n",
    "See https://julialang.org"
   ]
  },
  {
   "cell_type": "markdown",
   "metadata": {
    "slideshow": {
     "slide_type": "slide"
    }
   },
   "source": [
    "## Some basics"
   ]
  },
  {
   "cell_type": "code",
   "execution_count": 1,
   "metadata": {},
   "outputs": [
    {
     "data": {
      "text/plain": [
       "6"
      ]
     },
     "execution_count": 1,
     "metadata": {},
     "output_type": "execute_result"
    }
   ],
   "source": [
    "# scalars\n",
    "x = 3\n",
    "y = 2x"
   ]
  },
  {
   "cell_type": "code",
   "execution_count": 2,
   "metadata": {},
   "outputs": [
    {
     "data": {
      "text/plain": [
       "3-element Array{Int64,1}:\n",
       " 3\n",
       " 4\n",
       " 5"
      ]
     },
     "execution_count": 2,
     "metadata": {},
     "output_type": "execute_result"
    }
   ],
   "source": [
    "# Vector of integers\n",
    "v = [3, 4, 5]"
   ]
  },
  {
   "cell_type": "code",
   "execution_count": 3,
   "metadata": {
    "slideshow": {
     "slide_type": "subslide"
    }
   },
   "outputs": [
    {
     "data": {
      "text/plain": [
       "3.14f0"
      ]
     },
     "execution_count": 3,
     "metadata": {},
     "output_type": "execute_result"
    }
   ],
   "source": [
    "d = 3.0 # Float64\n",
    "f = 3.14f0 # Float32"
   ]
  },
  {
   "cell_type": "code",
   "execution_count": 4,
   "metadata": {},
   "outputs": [
    {
     "data": {
      "text/plain": [
       "π = 3.1415926535897..."
      ]
     },
     "execution_count": 4,
     "metadata": {},
     "output_type": "execute_result"
    }
   ],
   "source": [
    "π"
   ]
  },
  {
   "cell_type": "code",
   "execution_count": 5,
   "metadata": {
    "slideshow": {
     "slide_type": "subslide"
    }
   },
   "outputs": [
    {
     "data": {
      "text/plain": [
       "2.0 + 3.0im"
      ]
     },
     "execution_count": 5,
     "metadata": {},
     "output_type": "execute_result"
    }
   ],
   "source": [
    "# complex numbers\n",
    "z = 2.0 + 3im"
   ]
  },
  {
   "cell_type": "code",
   "execution_count": 6,
   "metadata": {},
   "outputs": [
    {
     "data": {
      "text/plain": [
       "Complex{Float64}"
      ]
     },
     "execution_count": 6,
     "metadata": {},
     "output_type": "execute_result"
    }
   ],
   "source": [
    "typeof(z)"
   ]
  },
  {
   "cell_type": "code",
   "execution_count": 7,
   "metadata": {
    "slideshow": {
     "slide_type": "subslide"
    }
   },
   "outputs": [
    {
     "data": {
      "text/plain": [
       "3.402049684199999999999999999999999999999999999999999999999999999999999999999983"
      ]
     },
     "execution_count": 7,
     "metadata": {},
     "output_type": "execute_result"
    }
   ],
   "source": [
    "# arbitrary precision\n",
    "b = big\"3.4020496842\""
   ]
  },
  {
   "cell_type": "code",
   "execution_count": 8,
   "metadata": {},
   "outputs": [
    {
     "data": {
      "text/plain": [
       "BigFloat"
      ]
     },
     "execution_count": 8,
     "metadata": {},
     "output_type": "execute_result"
    }
   ],
   "source": [
    "typeof(b)"
   ]
  },
  {
   "cell_type": "code",
   "execution_count": 9,
   "metadata": {
    "slideshow": {
     "slide_type": "subslide"
    }
   },
   "outputs": [
    {
     "data": {
      "text/plain": [
       "3×3 Array{Int64,2}:\n",
       " 0  0  1\n",
       " 0  1  0\n",
       " 1  0  0"
      ]
     },
     "execution_count": 9,
     "metadata": {},
     "output_type": "execute_result"
    }
   ],
   "source": [
    "# matrices and multiplication\n",
    "M = [\n",
    "    0 0 1\n",
    "    0 1 0\n",
    "    1 0 0\n",
    "]"
   ]
  },
  {
   "cell_type": "code",
   "execution_count": 10,
   "metadata": {},
   "outputs": [
    {
     "data": {
      "text/plain": [
       "3-element Array{Int64,1}:\n",
       " 5\n",
       " 4\n",
       " 3"
      ]
     },
     "execution_count": 10,
     "metadata": {},
     "output_type": "execute_result"
    }
   ],
   "source": [
    "M * v"
   ]
  },
  {
   "cell_type": "code",
   "execution_count": 11,
   "metadata": {
    "slideshow": {
     "slide_type": "subslide"
    }
   },
   "outputs": [
    {
     "data": {
      "text/plain": [
       "3-element Array{Float64,1}:\n",
       " 7.5\n",
       " 6.0\n",
       " 4.5"
      ]
     },
     "execution_count": 11,
     "metadata": {},
     "output_type": "execute_result"
    }
   ],
   "source": [
    "1.5 * M * v"
   ]
  },
  {
   "cell_type": "code",
   "execution_count": 12,
   "metadata": {},
   "outputs": [
    {
     "data": {
      "text/plain": [
       "3-element Array{Int64,1}:\n",
       " 3\n",
       " 4\n",
       " 5"
      ]
     },
     "execution_count": 12,
     "metadata": {},
     "output_type": "execute_result"
    }
   ],
   "source": [
    "M * M * v"
   ]
  },
  {
   "cell_type": "code",
   "execution_count": 13,
   "metadata": {
    "slideshow": {
     "slide_type": "subslide"
    }
   },
   "outputs": [
    {
     "data": {
      "text/plain": [
       "(3, 2, 5)"
      ]
     },
     "execution_count": 13,
     "metadata": {},
     "output_type": "execute_result"
    }
   ],
   "source": [
    "# N-dimensional arrays\n",
    "x_scalar = rand()\n",
    "x_vec = rand(3)\n",
    "x_matrix = rand(3, 2)\n",
    "x_tensor = rand(3,2,5)\n",
    "size(x_tensor)"
   ]
  },
  {
   "cell_type": "markdown",
   "metadata": {
    "slideshow": {
     "slide_type": "slide"
    }
   },
   "source": [
    "## Elements of most specific type"
   ]
  },
  {
   "cell_type": "code",
   "execution_count": 14,
   "metadata": {},
   "outputs": [],
   "source": [
    "vec_int = [3, 4, 5] # Array{Int64,1}\n",
    "vec_float = [3.0, 4, 5] # Array{Float64,1}\n",
    "vec_comp = [3.0, 4 + 2im, 5] # Array{Complex{Float64},1}\n",
    "vec_comp = [3, 4, \"hello\"]; # Array{Any,1}"
   ]
  },
  {
   "cell_type": "markdown",
   "metadata": {
    "slideshow": {
     "slide_type": "slide"
    }
   },
   "source": [
    "# Functions, methods and dispatch\n",
    "\n",
    "Central building block in Julia.  \n",
    "Multiple dispatch $\\Rightarrow$ secret ingredient for programs looking like maths."
   ]
  },
  {
   "cell_type": "code",
   "execution_count": 15,
   "metadata": {},
   "outputs": [
    {
     "data": {
      "text/plain": [
       "f2 (generic function with 1 method)"
      ]
     },
     "execution_count": 15,
     "metadata": {},
     "output_type": "execute_result"
    }
   ],
   "source": [
    "function f1(x, y)\n",
    "    if x < y\n",
    "        return x * y\n",
    "    end\n",
    "    return y / x\n",
    "end\n",
    "\n",
    "f2(x, y) = 3x + 5y"
   ]
  },
  {
   "cell_type": "markdown",
   "metadata": {
    "slideshow": {
     "slide_type": "slide"
    }
   },
   "source": [
    "## Defining new operators"
   ]
  },
  {
   "cell_type": "code",
   "execution_count": 16,
   "metadata": {},
   "outputs": [
    {
     "data": {
      "text/plain": [
       "⤑ (generic function with 1 method)"
      ]
     },
     "execution_count": 16,
     "metadata": {},
     "output_type": "execute_result"
    }
   ],
   "source": [
    "# can be typed with \\rightdotarrow<tab>\n",
    "⤑(a, b) = b[a]"
   ]
  },
  {
   "cell_type": "code",
   "execution_count": 17,
   "metadata": {},
   "outputs": [
    {
     "data": {
      "text/plain": [
       "42"
      ]
     },
     "execution_count": 17,
     "metadata": {},
     "output_type": "execute_result"
    }
   ],
   "source": [
    "3 ⤑ [1, 2, 42, 10]"
   ]
  },
  {
   "cell_type": "markdown",
   "metadata": {
    "slideshow": {
     "slide_type": "slide"
    }
   },
   "source": [
    "## Documenting, the easy way"
   ]
  },
  {
   "cell_type": "code",
   "execution_count": 18,
   "metadata": {},
   "outputs": [
    {
     "data": {
      "text/plain": [
       "exponentiate"
      ]
     },
     "execution_count": 18,
     "metadata": {},
     "output_type": "execute_result"
    }
   ],
   "source": [
    "\"\"\"\n",
    "Given an exponent `α`, returns a function `x -> x^α`\n",
    "\"\"\"\n",
    "function exponentiate(α)\n",
    "    function(x)\n",
    "        x^α\n",
    "    end\n",
    "end"
   ]
  },
  {
   "cell_type": "code",
   "execution_count": 19,
   "metadata": {},
   "outputs": [
    {
     "data": {
      "text/plain": [
       "9"
      ]
     },
     "execution_count": 19,
     "metadata": {},
     "output_type": "execute_result"
    }
   ],
   "source": [
    "square = exponentiate(2)\n",
    "square(3)"
   ]
  },
  {
   "cell_type": "code",
   "execution_count": 20,
   "metadata": {
    "slideshow": {
     "slide_type": "subslide"
    }
   },
   "outputs": [
    {
     "name": "stdout",
     "output_type": "stream",
     "text": [
      "search: \u001b[0m\u001b[1me\u001b[22m\u001b[0m\u001b[1mx\u001b[22m\u001b[0m\u001b[1mp\u001b[22m\u001b[0m\u001b[1mo\u001b[22m\u001b[0m\u001b[1mn\u001b[22m\u001b[0m\u001b[1me\u001b[22m\u001b[0m\u001b[1mn\u001b[22m\u001b[0m\u001b[1mt\u001b[22m\u001b[0m\u001b[1mi\u001b[22m\u001b[0m\u001b[1ma\u001b[22m\u001b[0m\u001b[1mt\u001b[22m\u001b[0m\u001b[1me\u001b[22m \u001b[0m\u001b[1mE\u001b[22m\u001b[0m\u001b[1mx\u001b[22m\u001b[0m\u001b[1mp\u001b[22m\u001b[0m\u001b[1mo\u001b[22m\u001b[0m\u001b[1mn\u001b[22m\u001b[0m\u001b[1me\u001b[22m\u001b[0m\u001b[1mn\u001b[22m\u001b[0m\u001b[1mt\u001b[22m\u001b[0m\u001b[1mi\u001b[22m\u001b[0m\u001b[1ma\u001b[22mlBackOff\n",
      "\n"
     ]
    },
    {
     "data": {
      "text/latex": [
       "Given an exponent \\texttt{α}, returns a function \\texttt{x -> x\\^{}α}\n",
       "\n"
      ],
      "text/markdown": [
       "Given an exponent `α`, returns a function `x -> x^α`\n"
      ],
      "text/plain": [
       "  Given an exponent \u001b[36mα\u001b[39m, returns a function \u001b[36mx -> x^α\u001b[39m"
      ]
     },
     "execution_count": 20,
     "metadata": {},
     "output_type": "execute_result"
    }
   ],
   "source": [
    "?exponentiate"
   ]
  },
  {
   "cell_type": "code",
   "execution_count": 21,
   "metadata": {},
   "outputs": [
    {
     "name": "stdout",
     "output_type": "stream",
     "text": [
      "search: \u001b[0m\u001b[1me\u001b[22m\u001b[0m\u001b[1mx\u001b[22m\u001b[0m\u001b[1mp\u001b[22m\u001b[0m\u001b[1mo\u001b[22m\u001b[0m\u001b[1mn\u001b[22m\u001b[0m\u001b[1me\u001b[22m\u001b[0m\u001b[1mn\u001b[22m\u001b[0m\u001b[1mt\u001b[22m\u001b[0m\u001b[1mi\u001b[22mate \u001b[0m\u001b[1mE\u001b[22m\u001b[0m\u001b[1mx\u001b[22m\u001b[0m\u001b[1mp\u001b[22m\u001b[0m\u001b[1mo\u001b[22m\u001b[0m\u001b[1mn\u001b[22m\u001b[0m\u001b[1me\u001b[22m\u001b[0m\u001b[1mn\u001b[22m\u001b[0m\u001b[1mt\u001b[22m\u001b[0m\u001b[1mi\u001b[22malBackOff \u001b[0m\u001b[1me\u001b[22m\u001b[0m\u001b[1mx\u001b[22m\u001b[0m\u001b[1mp\u001b[22m\u001b[0m\u001b[1mo\u001b[22m\u001b[0m\u001b[1mn\u001b[22m\u001b[0m\u001b[1me\u001b[22m\u001b[0m\u001b[1mn\u001b[22m\u001b[0m\u001b[1mt\u001b[22m\n",
      "\n",
      "Couldn't find \u001b[36mexponenti\u001b[39m\n",
      "Perhaps you meant exponent, exponentiate or export\n"
     ]
    },
    {
     "data": {
      "text/latex": [
       "No documentation found.\n",
       "\n",
       "Binding \\texttt{exponenti} does not exist.\n",
       "\n"
      ],
      "text/markdown": [
       "No documentation found.\n",
       "\n",
       "Binding `exponenti` does not exist.\n"
      ],
      "text/plain": [
       "  No documentation found.\n",
       "\n",
       "  Binding \u001b[36mexponenti\u001b[39m does not exist."
      ]
     },
     "execution_count": 21,
     "metadata": {},
     "output_type": "execute_result"
    }
   ],
   "source": [
    "?exponenti"
   ]
  },
  {
   "cell_type": "markdown",
   "metadata": {
    "slideshow": {
     "slide_type": "slide"
    }
   },
   "source": [
    "## Multiple dispatch"
   ]
  },
  {
   "cell_type": "code",
   "execution_count": 22,
   "metadata": {},
   "outputs": [
    {
     "data": {
      "text/plain": [
       "quadratic (generic function with 1 method)"
      ]
     },
     "execution_count": 22,
     "metadata": {},
     "output_type": "execute_result"
    }
   ],
   "source": [
    "using LinearAlgebra: dot\n",
    "\n",
    "function quadratic(x::AbstractVector)\n",
    "    return dot(x, x)\n",
    "end"
   ]
  },
  {
   "cell_type": "code",
   "execution_count": 23,
   "metadata": {},
   "outputs": [
    {
     "data": {
      "text/plain": [
       "2"
      ]
     },
     "execution_count": 23,
     "metadata": {},
     "output_type": "execute_result"
    }
   ],
   "source": [
    "quadratic([1, 1])"
   ]
  },
  {
   "cell_type": "code",
   "execution_count": 24,
   "metadata": {
    "slideshow": {
     "slide_type": "subslide"
    }
   },
   "outputs": [
    {
     "data": {
      "text/plain": [
       "quadratic (generic function with 2 methods)"
      ]
     },
     "execution_count": 24,
     "metadata": {},
     "output_type": "execute_result"
    }
   ],
   "source": [
    "function quadratic(x::AbstractVector, y::AbstractVector)\n",
    "    return dot(x, y)\n",
    "end"
   ]
  },
  {
   "cell_type": "code",
   "execution_count": 25,
   "metadata": {},
   "outputs": [
    {
     "data": {
      "text/plain": [
       "3"
      ]
     },
     "execution_count": 25,
     "metadata": {},
     "output_type": "execute_result"
    }
   ],
   "source": [
    "quadratic([1, 2], [1, 1])"
   ]
  },
  {
   "cell_type": "code",
   "execution_count": 26,
   "metadata": {
    "slideshow": {
     "slide_type": "subslide"
    }
   },
   "outputs": [
    {
     "data": {
      "text/plain": [
       "quadratic (generic function with 3 methods)"
      ]
     },
     "execution_count": 26,
     "metadata": {},
     "output_type": "execute_result"
    }
   ],
   "source": [
    "function quadratic(A::AbstractMatrix, x::AbstractVector)\n",
    "    return x' * A * x\n",
    "end"
   ]
  },
  {
   "cell_type": "code",
   "execution_count": 27,
   "metadata": {},
   "outputs": [
    {
     "data": {
      "text/plain": [
       "1.7776375865298464"
      ]
     },
     "execution_count": 27,
     "metadata": {},
     "output_type": "execute_result"
    }
   ],
   "source": [
    "M = rand(3, 3)\n",
    "quadratic(M, [1, 0, 1])"
   ]
  },
  {
   "cell_type": "markdown",
   "metadata": {},
   "source": [
    "Look at [Stefan Karpinski's talk](https://www.youtube.com/watch?v=kc9HwsxE1OY&t=1s) at Juliacon 2019 for comparison with other systems."
   ]
  },
  {
   "cell_type": "markdown",
   "metadata": {
    "slideshow": {
     "slide_type": "slide"
    }
   },
   "source": [
    "# Defining your own types"
   ]
  },
  {
   "cell_type": "code",
   "execution_count": 28,
   "metadata": {},
   "outputs": [
    {
     "data": {
      "text/plain": [
       "IntWrapper"
      ]
     },
     "execution_count": 28,
     "metadata": {},
     "output_type": "execute_result"
    }
   ],
   "source": [
    "\"\"\"\n",
    "A wrapper type for an Int\n",
    "\"\"\"\n",
    "struct IntWrapper\n",
    "    x::Int\n",
    "end"
   ]
  },
  {
   "cell_type": "code",
   "execution_count": 29,
   "metadata": {},
   "outputs": [
    {
     "data": {
      "text/plain": [
       "3"
      ]
     },
     "execution_count": 29,
     "metadata": {},
     "output_type": "execute_result"
    }
   ],
   "source": [
    "v = IntWrapper(3)\n",
    "v.x"
   ]
  },
  {
   "cell_type": "markdown",
   "metadata": {
    "slideshow": {
     "slide_type": "subslide"
    }
   },
   "source": [
    "## Multiple dispatch allows extensions"
   ]
  },
  {
   "cell_type": "code",
   "execution_count": 30,
   "metadata": {},
   "outputs": [
    {
     "data": {
      "text/plain": [
       "+ (generic function with 185 methods)"
      ]
     },
     "execution_count": 30,
     "metadata": {},
     "output_type": "execute_result"
    }
   ],
   "source": [
    "import Base: +\n",
    "\n",
    "# we define + for our new type and an integer\n",
    "+(iw::IntWrapper, v::Integer) = IntWrapper(iw.x + v)"
   ]
  },
  {
   "cell_type": "code",
   "execution_count": 31,
   "metadata": {},
   "outputs": [
    {
     "data": {
      "text/plain": [
       "IntWrapper(36)"
      ]
     },
     "execution_count": 31,
     "metadata": {},
     "output_type": "execute_result"
    }
   ],
   "source": [
    "v + 33"
   ]
  },
  {
   "cell_type": "code",
   "execution_count": 32,
   "metadata": {},
   "outputs": [
    {
     "data": {
      "text/plain": [
       "+ (generic function with 186 methods)"
      ]
     },
     "execution_count": 32,
     "metadata": {},
     "output_type": "execute_result"
    }
   ],
   "source": [
    "+(iw::IntWrapper, s::String) = IntWrapper(iw.x + length(s))"
   ]
  },
  {
   "cell_type": "code",
   "execution_count": 33,
   "metadata": {},
   "outputs": [
    {
     "data": {
      "text/plain": [
       "IntWrapper(8)"
      ]
     },
     "execution_count": 33,
     "metadata": {},
     "output_type": "execute_result"
    }
   ],
   "source": [
    "v + \"hello\""
   ]
  },
  {
   "cell_type": "markdown",
   "metadata": {
    "slideshow": {
     "slide_type": "slide"
    }
   },
   "source": [
    "# Tooling\n",
    "\n",
    "Brings best software engineering practice to scientists.\n",
    "![](tools.jpg)\n",
    "Source: https://unsplash.com/photos/IClZBVw5W5A"
   ]
  },
  {
   "cell_type": "markdown",
   "metadata": {
    "slideshow": {
     "slide_type": "slide"
    }
   },
   "source": [
    "## Editors: pick your favourite\n",
    "\n",
    "![](editors.png)\n",
    "(from julialang.org)"
   ]
  },
  {
   "cell_type": "markdown",
   "metadata": {
    "slideshow": {
     "slide_type": "slide"
    }
   },
   "source": [
    "# Packages\n",
    "\n",
    "\"Basic unit\" of Julia code.\n",
    "```julia\n",
    "├── LICENSE\n",
    "├── Manifest.toml\n",
    "├── Project.toml\n",
    "├── README.md\n",
    "├── src\n",
    "│  ├── BilevelOptimization.jl\n",
    "│  ├── file1.jl\n",
    "│  └── file2.jl\n",
    "└── test\n",
    "   └── runtests.jl\n",
    "```"
   ]
  },
  {
   "cell_type": "markdown",
   "metadata": {
    "slideshow": {
     "slide_type": "slide"
    }
   },
   "source": [
    "Project.toml defines the project name, dependencies...\n",
    "\n",
    "```\n",
    "───────┬───────────────────────────────────────────────\n",
    "       │ File: Project.toml\n",
    "───────┼───────────────────────────────────────────────\n",
    "   1   │ name = \"BilevelOptimization\"\n",
    "   2   │ uuid = \"98803d92-2a2a-5e5c-9642-fb423c87776e\"\n",
    "   3   │ authors = [\"Mathieu Besançon <mathieu.besancon@gmail.com>\"]\n",
    "   4   │ version = \"0.2.2\"\n",
    "   5   │ \n",
    "   6   │ [deps]\n",
    "   7   │ JuMP = \"4076af6c-e467-56ae-b986-b466b2749572\"\n",
    "   8   │ LinearAlgebra = \"37e2e46d-f89d-539d-b4ee-838fcccc9c8e\"\n",
    "   9   │ SparseArrays = \"2f01184e-e22b-5df5-ae63-d93ebab69eaf\"\n",
    "  10   │ \n",
    "  11   │ [compat]\n",
    "  12   │ JuMP = \"0.21\"\n",
    "  13   │ julia = \"1\"\n",
    "  14   │ \n",
    "  15   │ [extras]\n",
    "  16   │ Cbc = \"9961bab8-2fa3-5c5a-9d89-47fab24efd76\"\n",
    "  17   │ Test = \"8dfed614-e22c-5e08-85e1-65c5234f0b40\"\n",
    "  18   │ \n",
    "  19   │ [targets]\n",
    "  20   │ test = [\"Test\", \"Cbc\"]\n",
    "```"
   ]
  },
  {
   "cell_type": "markdown",
   "metadata": {
    "slideshow": {
     "slide_type": "subslide"
    }
   },
   "source": [
    "Manifest.toml shows **how** the project was run (versions for all dependencies).  \n",
    "Useful to reproduce exactly an environment.\n",
    "\n",
    "```\n",
    "───────┬───────────────────────────────────\n",
    "       │ File: Manifest.toml\n",
    "───────┼───────────────────────────────────\n",
    "   1   │ # This file is machine-generated - editing it directly is not advised\n",
    "   2   │ \n",
    "   3   │ [[Base64]]\n",
    "   4   │ uuid = \"2a0f44e3-6c83-55bd-87e4-b1978d98bd5f\"\n",
    "   5   │ \n",
    "   6   │ [[BenchmarkTools]]\n",
    "   7   │ deps = [\"JSON\", \"Printf\", \"Statistics\"]\n",
    "   8   │ git-tree-sha1 = \"90b73db83791c5f83155016dd1cc1f684d4e1361\"\n",
    "   9   │ uuid = \"6e4b80f9-dd63-53aa-95a3-0cdb28fa8baf\"\n",
    "  10   │ version = \"0.4.3\"\n",
    "```"
   ]
  },
  {
   "cell_type": "markdown",
   "metadata": {
    "slideshow": {
     "slide_type": "slide"
    }
   },
   "source": [
    "## Multiple dispatch + easy package integration $\\Rightarrow$ high code re-use\n",
    "\n",
    "![](https://pbs.twimg.com/media/EP7MA3tXkAA7E2j?format=jpg)\n",
    "\n",
    "Source: [Cormullion](https://twitter.com/_cormullion/status/1224640188518932483)"
   ]
  },
  {
   "cell_type": "markdown",
   "metadata": {
    "slideshow": {
     "slide_type": "slide"
    }
   },
   "source": [
    "# Useful features for scientists\n",
    "\n",
    "Some cool tricks to convince you."
   ]
  },
  {
   "cell_type": "markdown",
   "metadata": {
    "slideshow": {
     "slide_type": "slide"
    }
   },
   "source": [
    "## Abritrary numeric types\n",
    "\n",
    "Multiple dispatch $\\rightarrow$ functions can be extended by a 3rd party."
   ]
  },
  {
   "cell_type": "code",
   "execution_count": 34,
   "metadata": {},
   "outputs": [
    {
     "data": {
      "text/plain": [
       "/ (generic function with 119 methods)"
      ]
     },
     "execution_count": 34,
     "metadata": {},
     "output_type": "execute_result"
    }
   ],
   "source": [
    "# package 1 develops a new number-like thing\n",
    "\n",
    "struct Zero\n",
    "end\n",
    "\n",
    "import Base: *, /\n",
    "\n",
    "*(::Zero, x) = Zero()\n",
    "*(x, ::Zero) = Zero()\n",
    "\n",
    "+(::Zero, x) = x\n",
    "+(x, ::Zero) = x\n",
    "\n",
    "/(::Zero, x) = Zero()"
   ]
  },
  {
   "cell_type": "code",
   "execution_count": 35,
   "metadata": {
    "slideshow": {
     "slide_type": "subslide"
    }
   },
   "outputs": [
    {
     "name": "stdout",
     "output_type": "stream",
     "text": [
      "complex_algorithm(Zero(), 3.0) = 6.0\n",
      "complex_algorithm(0, 3.0) = 6.0\n"
     ]
    }
   ],
   "source": [
    "# package 2 develops an algorithm using a \"number-like\" object\n",
    "\n",
    "function complex_algorithm(x, y)\n",
    "    return x + 2y + x/y\n",
    "end\n",
    "\n",
    "# user plugs the new type when using the algorithm\n",
    "@show complex_algorithm(Zero(), 3.0);\n",
    "@show complex_algorithm(0, 3.0);"
   ]
  },
  {
   "cell_type": "code",
   "execution_count": 36,
   "metadata": {
    "slideshow": {
     "slide_type": "subslide"
    }
   },
   "outputs": [
    {
     "name": "stdout",
     "output_type": "stream",
     "text": [
      "complex_algorithm(a, b) = a + 2*b + a/b\n",
      "complex_algorithm(a, π) = 6.28318530717959 + a + a/pi\n"
     ]
    }
   ],
   "source": [
    "# symbolic maths engine\n",
    "using SymEngine\n",
    "\n",
    "@vars a, b\n",
    "\n",
    "@show complex_algorithm(a, b);\n",
    "@show complex_algorithm(a, π);"
   ]
  },
  {
   "cell_type": "markdown",
   "metadata": {
    "slideshow": {
     "slide_type": "slide"
    }
   },
   "source": [
    "## Automatic differentiation\n",
    "\n",
    "Differentiation of almost arbitrary programs with respect to their input."
   ]
  },
  {
   "cell_type": "code",
   "execution_count": 37,
   "metadata": {},
   "outputs": [
    {
     "data": {
      "text/plain": [
       "sqrt_babylonian (generic function with 1 method)"
      ]
     },
     "execution_count": 37,
     "metadata": {},
     "output_type": "execute_result"
    }
   ],
   "source": [
    "using ForwardDiff\n",
    "\n",
    "function sqrt_babylonian(s)\n",
    "    x = s / 2\n",
    "    while abs(x^2 - s) > 0.001\n",
    "        x = (x + s/x) / 2\n",
    "    end\n",
    "    x\n",
    "end"
   ]
  },
  {
   "cell_type": "code",
   "execution_count": 38,
   "metadata": {
    "slideshow": {
     "slide_type": "subslide"
    }
   },
   "outputs": [
    {
     "data": {
      "text/plain": [
       "2.123901414519125e-6"
      ]
     },
     "execution_count": 38,
     "metadata": {},
     "output_type": "execute_result"
    }
   ],
   "source": [
    "sqrt_babylonian(2) - sqrt(2)"
   ]
  },
  {
   "cell_type": "code",
   "execution_count": 39,
   "metadata": {},
   "outputs": [
    {
     "name": "stdout",
     "output_type": "stream",
     "text": [
      "ForwardDiff.derivative(sqrt_babylonian, 2) = 0.353541906958862\n",
      "ForwardDiff.derivative(sqrt, 2) = 0.35355339059327373\n"
     ]
    }
   ],
   "source": [
    "@show ForwardDiff.derivative(sqrt_babylonian, 2);\n",
    "@show ForwardDiff.derivative(sqrt, 2);"
   ]
  },
  {
   "cell_type": "markdown",
   "metadata": {
    "slideshow": {
     "slide_type": "slide"
    }
   },
   "source": [
    "## Unitful computations\n",
    "\n",
    "Physicists' dreams finally made true."
   ]
  },
  {
   "cell_type": "code",
   "execution_count": 40,
   "metadata": {},
   "outputs": [],
   "source": [
    "using Unitful\n",
    "using Unitful: J, kg, m, s"
   ]
  },
  {
   "cell_type": "code",
   "execution_count": 41,
   "metadata": {},
   "outputs": [
    {
     "data": {
      "text/plain": [
       "4.0 kg m^2 s^-2"
      ]
     },
     "execution_count": 41,
     "metadata": {},
     "output_type": "execute_result"
    }
   ],
   "source": [
    "3J + 1kg * (1m / 1s)^2"
   ]
  },
  {
   "cell_type": "code",
   "execution_count": 42,
   "metadata": {},
   "outputs": [
    {
     "ename": "Unitful.DimensionError",
     "evalue": "DimensionError: 3 kg and 4 s are not dimensionally compatible.",
     "output_type": "error",
     "traceback": [
      "DimensionError: 3 kg and 4 s are not dimensionally compatible.",
      "",
      "Stacktrace:",
      " [1] +(::Quantity{Int64,𝐌,Unitful.FreeUnits{(kg,),𝐌,nothing}}, ::Quantity{Int64,𝐓,Unitful.FreeUnits{(s,),𝐓,nothing}}) at /home/mbesancon/.julia/packages/Unitful/KE9TK/src/quantities.jl:105",
      " [2] +(::Quantity{Int64,𝐌,Unitful.FreeUnits{(kg,),𝐌,nothing}}, ::Quantity{Int64,𝐓,Unitful.FreeUnits{(s,),𝐓,nothing}}, ::Quantity{Float64,𝐌*𝐓^-1,Unitful.FreeUnits{(kg, s^-1),𝐌*𝐓^-1,nothing}}) at ./operators.jl:538",
      " [3] complex_algorithm(::Quantity{Int64,𝐌,Unitful.FreeUnits{(kg,),𝐌,nothing}}, ::Quantity{Int64,𝐓,Unitful.FreeUnits{(s,),𝐓,nothing}}) at ./In[35]:4",
      " [4] top-level scope at In[42]:1"
     ]
    }
   ],
   "source": [
    "complex_algorithm(3kg, 2s)"
   ]
  },
  {
   "cell_type": "markdown",
   "metadata": {
    "slideshow": {
     "slide_type": "slide"
    }
   },
   "source": [
    "# Conclusion\n",
    "\n",
    "- Multiple dispatch allows code re-use and interop\n",
    "- Julia brings tools from software development to scientists\n",
    "- Bridges the gap between scientist and library developer\n",
    "\n",
    "Getting help: https://docs.julialang.org/  \n",
    "Reaching out: https://julialang.org/community  \n",
    "\n",
    "Relevant links:  \n",
    "Is your research software correct: https://mikecroucher.github.io/MLPM_talk/  \n"
   ]
  }
 ],
 "metadata": {
  "kernelspec": {
   "display_name": "Julia 1.6.0",
   "language": "julia",
   "name": "julia-1.6"
  },
  "language_info": {
   "file_extension": ".jl",
   "mimetype": "application/julia",
   "name": "julia",
   "version": "1.6.0"
  }
 },
 "nbformat": 4,
 "nbformat_minor": 4
}
